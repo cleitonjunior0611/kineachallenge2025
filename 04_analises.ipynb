{
 "cells": [
  {
   "cell_type": "markdown",
   "metadata": {
    "application/vnd.databricks.v1+cell": {
     "cellMetadata": {},
     "inputWidgets": {},
     "nuid": "8bb7f783-2615-4359-a686-4994edaf3057",
     "showTitle": false,
     "tableResultSettingsMap": {},
     "title": ""
    }
   },
   "source": [
    "# 1. Análises Comparativas"
   ]
  },
  {
   "cell_type": "markdown",
   "metadata": {
    "application/vnd.databricks.v1+cell": {
     "cellMetadata": {},
     "inputWidgets": {},
     "nuid": "1936fcfd-f9e3-4174-8aad-e0673dfffeba",
     "showTitle": false,
     "tableResultSettingsMap": {},
     "title": ""
    }
   },
   "source": [
    "## 1.1. Análises IntraClusters"
   ]
  },
  {
   "cell_type": "code",
   "execution_count": 0,
   "metadata": {
    "application/vnd.databricks.v1+cell": {
     "cellMetadata": {
      "byteLimit": 2048000,
      "rowLimit": 10000
     },
     "inputWidgets": {},
     "nuid": "f0c8d52c-3eae-41d5-8735-2d8bb5ba1e70",
     "showTitle": false,
     "tableResultSettingsMap": {},
     "title": ""
    }
   },
   "outputs": [],
   "source": [
    "from pyspark.sql import functions as F\n",
    "from pyspark.sql.window import Window\n",
    "from datetime import date\n",
    "\n",
    "class ClusterMetrics:\n",
    "    \"\"\"\n",
    "    Classe para análise estatística de clusters de fundos de investimento.\n",
    "    Realiza carregamento de dados, preparação de colunas auxiliares e cálculo de métricas agregadas,\n",
    "    incluindo médias, desvios padrão, proporções e índice de concentração HHI.\n",
    "    \"\"\"\n",
    "\n",
    "    def __init__(self, spark, tipo_fundo: str):\n",
    "        \"\"\"\n",
    "        Inicializa a classe com o objeto Spark e o tipo de fundo.\n",
    "        :param spark: sessão Spark ativa\n",
    "        :param tipo_fundo: tipo de fundo a ser analisado (ex: 'fidc', 'fii', 'fip')\n",
    "        \"\"\"\n",
    "        self.spark = spark\n",
    "        self.tipo_fundo = tipo_fundo.lower()\n",
    "        self.df = None\n",
    "        self.final_df = None\n",
    "\n",
    "    def load_data(self):\n",
    "        \"\"\"\n",
    "        Carrega os dados do cluster para o tipo de fundo especificado.\n",
    "        Espera-se que a tabela contenha as colunas necessárias para as análises seguintes.\n",
    "        \"\"\"\n",
    "        path = f\"desafio_kinea.prospecto_fundos.resultados_cluster_{self.tipo_fundo}\"\n",
    "        self.df = self.spark.table(path)\n",
    "\n",
    "    def prepare_columns(self):\n",
    "        \"\"\"\n",
    "        Prepara colunas auxiliares para análise, como idade do fundo e flag de chamada de capital IPCA.\n",
    "        'idade_anos' é calculada como a diferença entre a data atual e a menor data de emissão por CNPJ.\n",
    "        Cria flag binária para identificar fundos com chamada de capital IPCA.\n",
    "        \"\"\"\n",
    "        w_cnpj = Window.partitionBy(\"cnpj\")\n",
    "        self.df = self.df.withColumn(\n",
    "            \"idade_anos\",\n",
    "            F.datediff(F.current_date(), F.min(\"data_emissao\").over(w_cnpj)) / 365.25\n",
    "        )\n",
    "        self.df = self.df.withColumn(\n",
    "            \"chamada_capital_ipca_flag\",\n",
    "            F.when(\n",
    "                F.upper(F.coalesce(F.col(\"chamada_capital_ipca\"), F.lit(\"NÃO\"))).like(\"%SIM%\"),\n",
    "                1\n",
    "            ).otherwise(0)\n",
    "        )\n",
    "\n",
    "    def calculate_aggregates(self):\n",
    "        \"\"\"\n",
    "        Calcula métricas agregadas por cluster, incluindo médias, desvios padrão e índice HHI.\n",
    "        volume_total_global é o somatório do volume_base_emissao de todos os fundos do tipo analisado.\n",
    "        Agrega métricas estatísticas por cluster_id_full e calcula o índice de concentração HHI\n",
    "        para o volume_base_emissao dentro de cada cluster_id_full.\n",
    "        Junta as métricas agregadas com o HHI e calcula a participação de mercado do cluster.\n",
    "        \"\"\"\n",
    "        volume_total_global = self.df.agg(F.sum(\"volume_base_emissao\").alias(\"total\")).collect()[0][\"total\"]\n",
    "\n",
    "        agg_df = self.df.groupBy(\"cluster_id_full\").agg(\n",
    "            F.countDistinct(\"cnpj\").alias(\"qtd_fundos\"),\n",
    "            F.round(F.mean(\"volume_base_emissao\"), 2).alias(\"media_volume_base_emissao\"),\n",
    "            F.round(F.mean(\"qt_emissoes\"), 2).alias(\"media_qt_emissoes\"),\n",
    "            F.mean(\"valor_cota_emissao\").alias(\"media_valor_cota_emissao\"),\n",
    "            F.mean(\"taxa_distribuicao_emissao\").alias(\"media_taxa_distribuicao_emissao\"),\n",
    "            F.mean(\"quantidade_cotas_totais\").alias(\"media_quantidade_cotas_totais\"),\n",
    "            F.mean(\"percentual_oferta_institucional\").alias(\"media_percentual_oferta_institucional\"),\n",
    "            F.mean(\"montante_minimo_emissao\").alias(\"media_montante_minimo_emissao\"),\n",
    "            F.stddev(\"volume_base_emissao\").alias(\"std_volume_base_emissao\"),\n",
    "            F.stddev(\"qt_emissoes\").alias(\"std_qt_emissoes\"),\n",
    "            F.stddev(\"valor_cota_emissao\").alias(\"std_valor_cota_emissao\"),\n",
    "            F.stddev(\"taxa_distribuicao_emissao\").alias(\"std_taxa_distribuicao_emissao\"),\n",
    "            F.stddev(\"quantidade_cotas_totais\").alias(\"std_quantidade_cotas_totais\"),\n",
    "            F.stddev(\"percentual_oferta_institucional\").alias(\"std_percentual_oferta_institucional\"),\n",
    "            F.stddev(\"montante_minimo_emissao\").alias(\"std_montante_minimo_emissao\"),\n",
    "            F.mean(\"chamada_capital_ipca_flag\").alias(\"proporcao_chamada_capital_ipca\"),\n",
    "            F.mean(\"sharpe_ratio\").alias(\"media_sharpe_ratio\"),\n",
    "            F.sum(\"volume_base_emissao\").alias(\"volume_total_cluster\"),\n",
    "            F.mean(\"idade_anos\").alias(\"idade_media_anos\")\n",
    "        )\n",
    "\n",
    "        w_cluster = Window.partitionBy(\"cluster_id_full\")\n",
    "        df_hhi = self.df.withColumn(\n",
    "            \"prop_volume_cluster\",\n",
    "            F.col(\"volume_base_emissao\") / F.sum(\"volume_base_emissao\").over(w_cluster)\n",
    "        ).withColumn(\n",
    "            \"hhi_component\",\n",
    "            F.pow(F.col(\"prop_volume_cluster\"), 2)\n",
    "        )\n",
    "\n",
    "        hhi_df = df_hhi.groupBy(\"cluster_id_full\").agg(\n",
    "            F.sum(\"hhi_component\").alias(\"hhi_volume_base_emissao\")\n",
    "        )\n",
    "\n",
    "        self.final_df = agg_df.join(hhi_df, on=\"cluster_id_full\", how=\"left\").withColumn(\n",
    "            \"proporcao_participacao_mercado\",\n",
    "            F.col(\"volume_total_cluster\") / F.lit(volume_total_global)\n",
    "        )\n",
    "\n",
    "    def run(self):\n",
    "        \"\"\"\n",
    "        Executa o pipeline de análise: carrega dados, prepara colunas e calcula agregados.\n",
    "        :return: DataFrame final com métricas agregadas por cluster\n",
    "        \"\"\"\n",
    "        self.load_data()\n",
    "        self.prepare_columns()\n",
    "        self.calculate_aggregates()\n",
    "        return self.final_df"
   ]
  },
  {
   "cell_type": "code",
   "execution_count": 0,
   "metadata": {
    "application/vnd.databricks.v1+cell": {
     "cellMetadata": {
      "byteLimit": 2048000,
      "rowLimit": 10000
     },
     "collapsed": true,
     "inputWidgets": {},
     "nuid": "c2f20145-0ee7-4c82-b619-15fa23b7e262",
     "showTitle": false,
     "tableResultSettingsMap": {
      "0": {
       "dataGridStateBlob": "{\"version\":1,\"tableState\":{\"columnPinning\":{\"left\":[\"#row_number#\"],\"right\":[]},\"columnSizing\":{},\"columnVisibility\":{}},\"settings\":{\"columns\":{}},\"syncTimestamp\":1755183147861}",
       "filterBlob": null,
       "queryPlanFiltersBlob": null,
       "tableResultIndex": 0
      },
      "1": {
       "dataGridStateBlob": "{\"version\":1,\"tableState\":{\"columnPinning\":{\"left\":[\"#row_number#\"],\"right\":[]},\"columnSizing\":{},\"columnVisibility\":{}},\"settings\":{\"columns\":{}},\"syncTimestamp\":1755183141850}",
       "filterBlob": null,
       "queryPlanFiltersBlob": null,
       "tableResultIndex": 1
      },
      "2": {
       "dataGridStateBlob": "{\"version\":1,\"tableState\":{\"columnPinning\":{\"left\":[\"#row_number#\"],\"right\":[]},\"columnSizing\":{},\"columnVisibility\":{}},\"settings\":{\"columns\":{}},\"syncTimestamp\":1755183133643}",
       "filterBlob": null,
       "queryPlanFiltersBlob": null,
       "tableResultIndex": 2
      }
     },
     "title": ""
    }
   },
   "outputs": [
    {
     "output_type": "display_data",
     "data": {
      "text/html": [
       "<style scoped>\n",
       "  .table-result-container {\n",
       "    max-height: 300px;\n",
       "    overflow: auto;\n",
       "  }\n",
       "  table, th, td {\n",
       "    border: 1px solid black;\n",
       "    border-collapse: collapse;\n",
       "  }\n",
       "  th, td {\n",
       "    padding: 5px;\n",
       "  }\n",
       "  th {\n",
       "    text-align: left;\n",
       "  }\n",
       "</style><div class='table-result-container'><table class='table-result'><thead style='background-color: white'><tr><th>cluster_id_full</th><th>qtd_fundos</th><th>media_volume_base_emissao</th><th>media_qt_emissoes</th><th>media_valor_cota_emissao</th><th>media_taxa_distribuicao_emissao</th><th>media_quantidade_cotas_totais</th><th>media_percentual_oferta_institucional</th><th>media_montante_minimo_emissao</th><th>std_volume_base_emissao</th><th>std_qt_emissoes</th><th>std_valor_cota_emissao</th><th>std_taxa_distribuicao_emissao</th><th>std_quantidade_cotas_totais</th><th>std_percentual_oferta_institucional</th><th>std_montante_minimo_emissao</th><th>proporcao_chamada_capital_ipca</th><th>media_sharpe_ratio</th><th>volume_total_cluster</th><th>idade_media_anos</th><th>hhi_volume_base_emissao</th><th>proporcao_participacao_mercado</th></tr></thead><tbody><tr><td>FIDC_3</td><td>1</td><td>1.5E8</td><td>1.0</td><td>1000.0</td><td>null</td><td>115000.0</td><td>null</td><td>1000000.0</td><td>null</td><td>null</td><td>null</td><td>null</td><td>null</td><td>null</td><td>null</td><td>0.0</td><td>null</td><td>1.5E8</td><td>9.697467488021903</td><td>1.0</td><td>0.021330138780068644</td></tr><tr><td>FIDC_4</td><td>3</td><td>2.0E8</td><td>1.0</td><td>17000.0</td><td>null</td><td>66666.66666666667</td><td>null</td><td>1683333.3333333333</td><td>null</td><td>0.0</td><td>13856.406460551018</td><td>null</td><td>115470.05383792515</td><td>null</td><td>2872317.5892183883</td><td>0.0</td><td>null</td><td>2.0E8</td><td>4.5083276294775265</td><td>1.0</td><td>0.028440185040091524</td></tr><tr><td>FIDC_2</td><td>2</td><td>null</td><td>1.67</td><td>16733.333333333332</td><td>null</td><td>1486666.6666666667</td><td>null</td><td>null</td><td>null</td><td>1.1547005383792515</td><td>28809.778432562325</td><td>null</td><td>1287491.1002928654</td><td>null</td><td>null</td><td>0.0</td><td>null</td><td>null</td><td>4.546657540497376</td><td>null</td><td>null</td></tr><tr><td>FIDC_1</td><td>3</td><td>null</td><td>1.5</td><td>700.0</td><td>null</td><td>306250.0</td><td>null</td><td>null</td><td>null</td><td>0.7071067811865476</td><td>519.6152422706632</td><td>null</td><td>370967.9062937925</td><td>null</td><td>null</td><td>0.0</td><td>null</td><td>null</td><td>6.278804471822952</td><td>null</td><td>null</td></tr><tr><td>FIDC_0</td><td>156</td><td>6.888972216E7</td><td>1.53</td><td>15042.994809365879</td><td>0.009999999776482582</td><td>1878417.7303166564</td><td>80.0</td><td>4434352.907563025</td><td>9.951721906136455E7</td><td>1.226362286029718</td><td>92383.1853438529</td><td>null</td><td>1.9174955743888408E7</td><td>null</td><td>2.8292588082919355E7</td><td>0.0</td><td>0.496258689935825</td><td>6.68230305E9</td><td>6.3136138131566675</td><td>0.031601224591647464</td><td>0.9502296761798398</td></tr></tbody></table></div>"
      ]
     },
     "metadata": {
      "application/vnd.databricks.v1+output": {
       "addedWidgets": {},
       "aggData": [],
       "aggError": "",
       "aggOverflow": false,
       "aggSchema": [],
       "aggSeriesLimitReached": false,
       "aggType": "",
       "arguments": {},
       "columnCustomDisplayInfos": {},
       "data": [
        [
         "FIDC_3",
         1,
         1.5E8,
         1.0,
         1000.0,
         null,
         115000.0,
         null,
         1000000.0,
         null,
         null,
         null,
         null,
         null,
         null,
         null,
         0.0,
         null,
         1.5E8,
         9.697467488021903,
         1.0,
         0.021330138780068644
        ],
        [
         "FIDC_4",
         3,
         2.0E8,
         1.0,
         17000.0,
         null,
         66666.66666666667,
         null,
         1683333.3333333333,
         null,
         0.0,
         13856.406460551018,
         null,
         115470.05383792515,
         null,
         2872317.5892183883,
         0.0,
         null,
         2.0E8,
         4.5083276294775265,
         1.0,
         0.028440185040091524
        ],
        [
         "FIDC_2",
         2,
         null,
         1.67,
         16733.333333333332,
         null,
         1486666.6666666667,
         null,
         null,
         null,
         1.1547005383792515,
         28809.778432562325,
         null,
         1287491.1002928654,
         null,
         null,
         0.0,
         null,
         null,
         4.546657540497376,
         null,
         null
        ],
        [
         "FIDC_1",
         3,
         null,
         1.5,
         700.0,
         null,
         306250.0,
         null,
         null,
         null,
         0.7071067811865476,
         519.6152422706632,
         null,
         370967.9062937925,
         null,
         null,
         0.0,
         null,
         null,
         6.278804471822952,
         null,
         null
        ],
        [
         "FIDC_0",
         156,
         6.888972216E7,
         1.53,
         15042.994809365879,
         0.009999999776482582,
         1878417.7303166564,
         80.0,
         4434352.907563025,
         9.951721906136455E7,
         1.226362286029718,
         92383.1853438529,
         null,
         1.9174955743888408E7,
         null,
         2.8292588082919355E7,
         0.0,
         0.496258689935825,
         6.68230305E9,
         6.3136138131566675,
         0.031601224591647464,
         0.9502296761798398
        ]
       ],
       "datasetInfos": [],
       "dbfsResultPath": null,
       "isJsonSchema": true,
       "metadata": {},
       "overflow": false,
       "plotOptions": {
        "customPlotOptions": {},
        "displayType": "table",
        "pivotAggregation": null,
        "pivotColumns": null,
        "xColumns": null,
        "yColumns": null
       },
       "removedWidgets": [],
       "schema": [
        {
         "metadata": "{}",
         "name": "cluster_id_full",
         "type": "\"string\""
        },
        {
         "metadata": "{}",
         "name": "qtd_fundos",
         "type": "\"long\""
        },
        {
         "metadata": "{}",
         "name": "media_volume_base_emissao",
         "type": "\"double\""
        },
        {
         "metadata": "{}",
         "name": "media_qt_emissoes",
         "type": "\"double\""
        },
        {
         "metadata": "{}",
         "name": "media_valor_cota_emissao",
         "type": "\"double\""
        },
        {
         "metadata": "{}",
         "name": "media_taxa_distribuicao_emissao",
         "type": "\"double\""
        },
        {
         "metadata": "{}",
         "name": "media_quantidade_cotas_totais",
         "type": "\"double\""
        },
        {
         "metadata": "{}",
         "name": "media_percentual_oferta_institucional",
         "type": "\"double\""
        },
        {
         "metadata": "{}",
         "name": "media_montante_minimo_emissao",
         "type": "\"double\""
        },
        {
         "metadata": "{}",
         "name": "std_volume_base_emissao",
         "type": "\"double\""
        },
        {
         "metadata": "{}",
         "name": "std_qt_emissoes",
         "type": "\"double\""
        },
        {
         "metadata": "{}",
         "name": "std_valor_cota_emissao",
         "type": "\"double\""
        },
        {
         "metadata": "{}",
         "name": "std_taxa_distribuicao_emissao",
         "type": "\"double\""
        },
        {
         "metadata": "{}",
         "name": "std_quantidade_cotas_totais",
         "type": "\"double\""
        },
        {
         "metadata": "{}",
         "name": "std_percentual_oferta_institucional",
         "type": "\"double\""
        },
        {
         "metadata": "{}",
         "name": "std_montante_minimo_emissao",
         "type": "\"double\""
        },
        {
         "metadata": "{}",
         "name": "proporcao_chamada_capital_ipca",
         "type": "\"double\""
        },
        {
         "metadata": "{}",
         "name": "media_sharpe_ratio",
         "type": "\"double\""
        },
        {
         "metadata": "{}",
         "name": "volume_total_cluster",
         "type": "\"double\""
        },
        {
         "metadata": "{}",
         "name": "idade_media_anos",
         "type": "\"double\""
        },
        {
         "metadata": "{}",
         "name": "hhi_volume_base_emissao",
         "type": "\"double\""
        },
        {
         "metadata": "{}",
         "name": "proporcao_participacao_mercado",
         "type": "\"double\""
        }
       ],
       "type": "table"
      }
     },
     "output_type": "display_data"
    },
    {
     "output_type": "display_data",
     "data": {
      "text/html": [
       "<style scoped>\n",
       "  .table-result-container {\n",
       "    max-height: 300px;\n",
       "    overflow: auto;\n",
       "  }\n",
       "  table, th, td {\n",
       "    border: 1px solid black;\n",
       "    border-collapse: collapse;\n",
       "  }\n",
       "  th, td {\n",
       "    padding: 5px;\n",
       "  }\n",
       "  th {\n",
       "    text-align: left;\n",
       "  }\n",
       "</style><div class='table-result-container'><table class='table-result'><thead style='background-color: white'><tr><th>cluster_id_full</th><th>qtd_fundos</th><th>media_volume_base_emissao</th><th>media_qt_emissoes</th><th>media_valor_cota_emissao</th><th>media_taxa_distribuicao_emissao</th><th>media_quantidade_cotas_totais</th><th>media_percentual_oferta_institucional</th><th>media_montante_minimo_emissao</th><th>std_volume_base_emissao</th><th>std_qt_emissoes</th><th>std_valor_cota_emissao</th><th>std_taxa_distribuicao_emissao</th><th>std_quantidade_cotas_totais</th><th>std_percentual_oferta_institucional</th><th>std_montante_minimo_emissao</th><th>proporcao_chamada_capital_ipca</th><th>media_sharpe_ratio</th><th>volume_total_cluster</th><th>idade_media_anos</th><th>hhi_volume_base_emissao</th><th>proporcao_participacao_mercado</th></tr></thead><tbody><tr><td>FII_3</td><td>2</td><td>1.24773888E9</td><td>6.5</td><td>100.74499893188477</td><td>null</td><td>1.4788635E7</td><td>null</td><td>9977380.0</td><td>1.0574624652096683E9</td><td>6.363961030678928</td><td>1.0535875934249053</td><td>null</td><td>1.3843220374119962E7</td><td>null</td><td>null</td><td>0.0</td><td>-0.6096444024110734</td><td>2.49547776E9</td><td>9.273100616016428</td><td>0.6795653409497315</td><td>0.3121755385319782</td></tr><tr><td>FII_2</td><td>3</td><td>3.9829995733E8</td><td>4.0</td><td>3400.1366678873696</td><td>null</td><td>4561576.0</td><td>null</td><td>2.9994580333333332E7</td><td>2.626569129979304E8</td><td>3.0</td><td>5715.64940448146</td><td>null</td><td>3995161.318561242</td><td>null</td><td>3.4645710658049E7</td><td>0.0</td><td>-0.3182210783503385</td><td>1.194899872E9</td><td>0.32306639288158795</td><td>0.42997060004251053</td><td>0.14947779419736917</td></tr><tr><td>FII_0</td><td>2</td><td>7.2935E7</td><td>7.0</td><td>100.0</td><td>null</td><td>729350.0</td><td>null</td><td>5.047E7</td><td>3.1770307678711582E7</td><td>1.4142135623730951</td><td>0.0</td><td>null</td><td>317703.07678711583</td><td>null</td><td>null</td><td>0.0</td><td>-0.040207926984517764</td><td>1.4587E8</td><td>17.681040383299113</td><td>0.5474363074947882</td><td>0.018247826743068095</td></tr><tr><td>FII_1</td><td>14</td><td>2.5765078614E8</td><td>4.81</td><td>268.32267018953956</td><td>null</td><td>4605279.125</td><td>null</td><td>8.0835454E7</td><td>4.0233768453633285E8</td><td>4.847250079512437</td><td>477.01078829921477</td><td>null</td><td>7953223.587893024</td><td>null</td><td>1.999109882218033E8</td><td>0.0625</td><td>-0.6241943668266001</td><td>3.607111006E9</td><td>11.78798767967146</td><td>0.23316422265102843</td><td>0.4512369690855012</td></tr><tr><td>FII_4</td><td>2</td><td>2.75235E8</td><td>5.5</td><td>54.5</td><td>null</td><td>3.4974574E7</td><td>null</td><td>3.0235004E7</td><td>3.178657113467887E8</td><td>0.7071067811865476</td><td>64.34671708797582</td><td>null</td><td>4.874776330409173E7</td><td>null</td><td>2.861660577776533E7</td><td>0.0</td><td>-0.06463431958880625</td><td>5.5047E8</td><td>9.415468856947296</td><td>0.8334418095113616</td><td>0.06886187144208332</td></tr></tbody></table></div>"
      ]
     },
     "metadata": {
      "application/vnd.databricks.v1+output": {
       "addedWidgets": {},
       "aggData": [],
       "aggError": "",
       "aggOverflow": false,
       "aggSchema": [],
       "aggSeriesLimitReached": false,
       "aggType": "",
       "arguments": {},
       "columnCustomDisplayInfos": {},
       "data": [
        [
         "FII_3",
         2,
         1.24773888E9,
         6.5,
         100.74499893188477,
         null,
         1.4788635E7,
         null,
         9977380.0,
         1.0574624652096683E9,
         6.363961030678928,
         1.0535875934249053,
         null,
         1.3843220374119962E7,
         null,
         null,
         0.0,
         -0.6096444024110734,
         2.49547776E9,
         9.273100616016428,
         0.6795653409497315,
         0.3121755385319782
        ],
        [
         "FII_2",
         3,
         3.9829995733E8,
         4.0,
         3400.1366678873696,
         null,
         4561576.0,
         null,
         2.9994580333333332E7,
         2.626569129979304E8,
         3.0,
         5715.64940448146,
         null,
         3995161.318561242,
         null,
         3.4645710658049E7,
         0.0,
         -0.3182210783503385,
         1.194899872E9,
         0.32306639288158795,
         0.42997060004251053,
         0.14947779419736917
        ],
        [
         "FII_0",
         2,
         7.2935E7,
         7.0,
         100.0,
         null,
         729350.0,
         null,
         5.047E7,
         3.1770307678711582E7,
         1.4142135623730951,
         0.0,
         null,
         317703.07678711583,
         null,
         null,
         0.0,
         -0.040207926984517764,
         1.4587E8,
         17.681040383299113,
         0.5474363074947882,
         0.018247826743068095
        ],
        [
         "FII_1",
         14,
         2.5765078614E8,
         4.81,
         268.32267018953956,
         null,
         4605279.125,
         null,
         8.0835454E7,
         4.0233768453633285E8,
         4.847250079512437,
         477.01078829921477,
         null,
         7953223.587893024,
         null,
         1.999109882218033E8,
         0.0625,
         -0.6241943668266001,
         3.607111006E9,
         11.78798767967146,
         0.23316422265102843,
         0.4512369690855012
        ],
        [
         "FII_4",
         2,
         2.75235E8,
         5.5,
         54.5,
         null,
         3.4974574E7,
         null,
         3.0235004E7,
         3.178657113467887E8,
         0.7071067811865476,
         64.34671708797582,
         null,
         4.874776330409173E7,
         null,
         2.861660577776533E7,
         0.0,
         -0.06463431958880625,
         5.5047E8,
         9.415468856947296,
         0.8334418095113616,
         0.06886187144208332
        ]
       ],
       "datasetInfos": [],
       "dbfsResultPath": null,
       "isJsonSchema": true,
       "metadata": {},
       "overflow": false,
       "plotOptions": {
        "customPlotOptions": {},
        "displayType": "table",
        "pivotAggregation": null,
        "pivotColumns": null,
        "xColumns": null,
        "yColumns": null
       },
       "removedWidgets": [],
       "schema": [
        {
         "metadata": "{}",
         "name": "cluster_id_full",
         "type": "\"string\""
        },
        {
         "metadata": "{}",
         "name": "qtd_fundos",
         "type": "\"long\""
        },
        {
         "metadata": "{}",
         "name": "media_volume_base_emissao",
         "type": "\"double\""
        },
        {
         "metadata": "{}",
         "name": "media_qt_emissoes",
         "type": "\"double\""
        },
        {
         "metadata": "{}",
         "name": "media_valor_cota_emissao",
         "type": "\"double\""
        },
        {
         "metadata": "{}",
         "name": "media_taxa_distribuicao_emissao",
         "type": "\"double\""
        },
        {
         "metadata": "{}",
         "name": "media_quantidade_cotas_totais",
         "type": "\"double\""
        },
        {
         "metadata": "{}",
         "name": "media_percentual_oferta_institucional",
         "type": "\"double\""
        },
        {
         "metadata": "{}",
         "name": "media_montante_minimo_emissao",
         "type": "\"double\""
        },
        {
         "metadata": "{}",
         "name": "std_volume_base_emissao",
         "type": "\"double\""
        },
        {
         "metadata": "{}",
         "name": "std_qt_emissoes",
         "type": "\"double\""
        },
        {
         "metadata": "{}",
         "name": "std_valor_cota_emissao",
         "type": "\"double\""
        },
        {
         "metadata": "{}",
         "name": "std_taxa_distribuicao_emissao",
         "type": "\"double\""
        },
        {
         "metadata": "{}",
         "name": "std_quantidade_cotas_totais",
         "type": "\"double\""
        },
        {
         "metadata": "{}",
         "name": "std_percentual_oferta_institucional",
         "type": "\"double\""
        },
        {
         "metadata": "{}",
         "name": "std_montante_minimo_emissao",
         "type": "\"double\""
        },
        {
         "metadata": "{}",
         "name": "proporcao_chamada_capital_ipca",
         "type": "\"double\""
        },
        {
         "metadata": "{}",
         "name": "media_sharpe_ratio",
         "type": "\"double\""
        },
        {
         "metadata": "{}",
         "name": "volume_total_cluster",
         "type": "\"double\""
        },
        {
         "metadata": "{}",
         "name": "idade_media_anos",
         "type": "\"double\""
        },
        {
         "metadata": "{}",
         "name": "hhi_volume_base_emissao",
         "type": "\"double\""
        },
        {
         "metadata": "{}",
         "name": "proporcao_participacao_mercado",
         "type": "\"double\""
        }
       ],
       "type": "table"
      }
     },
     "output_type": "display_data"
    },
    {
     "output_type": "display_data",
     "data": {
      "text/html": [
       "<style scoped>\n",
       "  .table-result-container {\n",
       "    max-height: 300px;\n",
       "    overflow: auto;\n",
       "  }\n",
       "  table, th, td {\n",
       "    border: 1px solid black;\n",
       "    border-collapse: collapse;\n",
       "  }\n",
       "  th, td {\n",
       "    padding: 5px;\n",
       "  }\n",
       "  th {\n",
       "    text-align: left;\n",
       "  }\n",
       "</style><div class='table-result-container'><table class='table-result'><thead style='background-color: white'><tr><th>cluster_id_full</th><th>qtd_fundos</th><th>media_volume_base_emissao</th><th>media_qt_emissoes</th><th>media_valor_cota_emissao</th><th>media_taxa_distribuicao_emissao</th><th>media_quantidade_cotas_totais</th><th>media_percentual_oferta_institucional</th><th>media_montante_minimo_emissao</th><th>std_volume_base_emissao</th><th>std_qt_emissoes</th><th>std_valor_cota_emissao</th><th>std_taxa_distribuicao_emissao</th><th>std_quantidade_cotas_totais</th><th>std_percentual_oferta_institucional</th><th>std_montante_minimo_emissao</th><th>proporcao_chamada_capital_ipca</th><th>media_sharpe_ratio</th><th>volume_total_cluster</th><th>idade_media_anos</th><th>hhi_volume_base_emissao</th><th>proporcao_participacao_mercado</th></tr></thead><tbody><tr><td>FIP_1</td><td>1</td><td>4.25982368E8</td><td>2.0</td><td>40190.80859375</td><td>null</td><td>10599.0</td><td>null</td><td>20115.499700546265</td><td>0.0</td><td>0.0</td><td>0.0</td><td>null</td><td>0.0</td><td>null</td><td>28390.77410559793</td><td>0.0</td><td>null</td><td>8.51964736E8</td><td>8.394250513347023</td><td>0.5</td><td>0.07454869728940498</td></tr><tr><td>FIP_0</td><td>25</td><td>3.1709172286E8</td><td>1.12</td><td>52527.84060694774</td><td>null</td><td>5.70389237027027E7</td><td>null</td><td>8.412211042424242E7</td><td>2.5583651046694732E8</td><td>0.6963106238227914</td><td>174925.0195025671</td><td>null</td><td>1.6588011205598024E8</td><td>null</td><td>1.376380368588808E8</td><td>0.0</td><td>-0.07940753596060118</td><td>8.87856824E9</td><td>12.250550345006198</td><td>0.05813259909415055</td><td>0.7768933010005301</td></tr><tr><td>FIP_2</td><td>1</td><td>7.00099968E8</td><td>1.0</td><td>1.0</td><td>null</td><td>7.00099968E8</td><td>null</td><td>100000.0</td><td>null</td><td>null</td><td>null</td><td>null</td><td>null</td><td>null</td><td>null</td><td>0.0</td><td>null</td><td>7.00099968E8</td><td>17.626283367556468</td><td>1.0</td><td>0.06126021228507059</td></tr><tr><td>FIP_3</td><td>6</td><td>9.53330323E7</td><td>1.43</td><td>457.4412744556154</td><td>null</td><td>7.214719557142857E7</td><td>65.0</td><td>8.668333333333333E7</td><td>1.1977187304871677E8</td><td>0.7867957924694432</td><td>509.12253743087433</td><td>null</td><td>1.886735902170432E8</td><td>null</td><td>1.4152385252434775E8</td><td>0.0</td><td>null</td><td>4.766651615E8</td><td>4.767380463479026</td><td>0.4525473705924301</td><td>0.041709199138811354</td></tr><tr><td>FIP_4</td><td>3</td><td>1.7366666667E8</td><td>2.0</td><td>683.3333333333334</td><td>null</td><td>3347666.6666666665</td><td>null</td><td>1000000.0</td><td>2.827725823578611E8</td><td>1.7320508075688772</td><td>548.4827557301445</td><td>null</td><td>5761126.13412806</td><td>null</td><td>0.0</td><td>0.0</td><td>null</td><td>5.21E8</td><td>1.7303216974674882</td><td>0.922487759771</td><td>0.04558859028618292</td></tr></tbody></table></div>"
      ]
     },
     "metadata": {
      "application/vnd.databricks.v1+output": {
       "addedWidgets": {},
       "aggData": [],
       "aggError": "",
       "aggOverflow": false,
       "aggSchema": [],
       "aggSeriesLimitReached": false,
       "aggType": "",
       "arguments": {},
       "columnCustomDisplayInfos": {},
       "data": [
        [
         "FIP_1",
         1,
         4.25982368E8,
         2.0,
         40190.80859375,
         null,
         10599.0,
         null,
         20115.499700546265,
         0.0,
         0.0,
         0.0,
         null,
         0.0,
         null,
         28390.77410559793,
         0.0,
         null,
         8.51964736E8,
         8.394250513347023,
         0.5,
         0.07454869728940498
        ],
        [
         "FIP_0",
         25,
         3.1709172286E8,
         1.12,
         52527.84060694774,
         null,
         5.70389237027027E7,
         null,
         8.412211042424242E7,
         2.5583651046694732E8,
         0.6963106238227914,
         174925.0195025671,
         null,
         1.6588011205598024E8,
         null,
         1.376380368588808E8,
         0.0,
         -0.07940753596060118,
         8.87856824E9,
         12.250550345006198,
         0.05813259909415055,
         0.7768933010005301
        ],
        [
         "FIP_2",
         1,
         7.00099968E8,
         1.0,
         1.0,
         null,
         7.00099968E8,
         null,
         100000.0,
         null,
         null,
         null,
         null,
         null,
         null,
         null,
         0.0,
         null,
         7.00099968E8,
         17.626283367556468,
         1.0,
         0.06126021228507059
        ],
        [
         "FIP_3",
         6,
         9.53330323E7,
         1.43,
         457.4412744556154,
         null,
         7.214719557142857E7,
         65.0,
         8.668333333333333E7,
         1.1977187304871677E8,
         0.7867957924694432,
         509.12253743087433,
         null,
         1.886735902170432E8,
         null,
         1.4152385252434775E8,
         0.0,
         null,
         4.766651615E8,
         4.767380463479026,
         0.4525473705924301,
         0.041709199138811354
        ],
        [
         "FIP_4",
         3,
         1.7366666667E8,
         2.0,
         683.3333333333334,
         null,
         3347666.6666666665,
         null,
         1000000.0,
         2.827725823578611E8,
         1.7320508075688772,
         548.4827557301445,
         null,
         5761126.13412806,
         null,
         0.0,
         0.0,
         null,
         5.21E8,
         1.7303216974674882,
         0.922487759771,
         0.04558859028618292
        ]
       ],
       "datasetInfos": [],
       "dbfsResultPath": null,
       "isJsonSchema": true,
       "metadata": {},
       "overflow": false,
       "plotOptions": {
        "customPlotOptions": {},
        "displayType": "table",
        "pivotAggregation": null,
        "pivotColumns": null,
        "xColumns": null,
        "yColumns": null
       },
       "removedWidgets": [],
       "schema": [
        {
         "metadata": "{}",
         "name": "cluster_id_full",
         "type": "\"string\""
        },
        {
         "metadata": "{}",
         "name": "qtd_fundos",
         "type": "\"long\""
        },
        {
         "metadata": "{}",
         "name": "media_volume_base_emissao",
         "type": "\"double\""
        },
        {
         "metadata": "{}",
         "name": "media_qt_emissoes",
         "type": "\"double\""
        },
        {
         "metadata": "{}",
         "name": "media_valor_cota_emissao",
         "type": "\"double\""
        },
        {
         "metadata": "{}",
         "name": "media_taxa_distribuicao_emissao",
         "type": "\"double\""
        },
        {
         "metadata": "{}",
         "name": "media_quantidade_cotas_totais",
         "type": "\"double\""
        },
        {
         "metadata": "{}",
         "name": "media_percentual_oferta_institucional",
         "type": "\"double\""
        },
        {
         "metadata": "{}",
         "name": "media_montante_minimo_emissao",
         "type": "\"double\""
        },
        {
         "metadata": "{}",
         "name": "std_volume_base_emissao",
         "type": "\"double\""
        },
        {
         "metadata": "{}",
         "name": "std_qt_emissoes",
         "type": "\"double\""
        },
        {
         "metadata": "{}",
         "name": "std_valor_cota_emissao",
         "type": "\"double\""
        },
        {
         "metadata": "{}",
         "name": "std_taxa_distribuicao_emissao",
         "type": "\"double\""
        },
        {
         "metadata": "{}",
         "name": "std_quantidade_cotas_totais",
         "type": "\"double\""
        },
        {
         "metadata": "{}",
         "name": "std_percentual_oferta_institucional",
         "type": "\"double\""
        },
        {
         "metadata": "{}",
         "name": "std_montante_minimo_emissao",
         "type": "\"double\""
        },
        {
         "metadata": "{}",
         "name": "proporcao_chamada_capital_ipca",
         "type": "\"double\""
        },
        {
         "metadata": "{}",
         "name": "media_sharpe_ratio",
         "type": "\"double\""
        },
        {
         "metadata": "{}",
         "name": "volume_total_cluster",
         "type": "\"double\""
        },
        {
         "metadata": "{}",
         "name": "idade_media_anos",
         "type": "\"double\""
        },
        {
         "metadata": "{}",
         "name": "hhi_volume_base_emissao",
         "type": "\"double\""
        },
        {
         "metadata": "{}",
         "name": "proporcao_participacao_mercado",
         "type": "\"double\""
        }
       ],
       "type": "table"
      }
     },
     "output_type": "display_data"
    }
   ],
   "source": [
    "tipos_fundo = [\"fidc\", \"fii\", \"fip\"]\n",
    "\n",
    "# Itera sobre a lista e aplica a classe\n",
    "resultados = {}\n",
    "for tipo in tipos_fundo:\n",
    "    cm = ClusterMetrics(spark, tipo)\n",
    "    resultados[tipo] = cm.run()\n",
    "\n",
    "# Visualizando\n",
    "for tipo in tipos_fundo:\n",
    "    display(resultados[tipo])"
   ]
  },
  {
   "cell_type": "code",
   "execution_count": 0,
   "metadata": {
    "application/vnd.databricks.v1+cell": {
     "cellMetadata": {
      "byteLimit": 2048000,
      "rowLimit": 10000
     },
     "collapsed": true,
     "inputWidgets": {},
     "nuid": "0dcfdce1-1624-4fcd-9530-46b2fc305ecb",
     "showTitle": false,
     "tableResultSettingsMap": {},
     "title": ""
    }
   },
   "outputs": [],
   "source": [
    "for tipo in tipos_fundo:\n",
    "    # Recupera o DataFrame de clusters para o tipo de fundo\n",
    "    df_analise = resultados[tipo]\n",
    "\n",
    "    # Salva o DataFrame resultante no schema especificado, sobrescrevendo se já existir\n",
    "    tabela = f\"desafio_kinea.prospecto_fundos.analise_cluster_{tipo.lower()}\"\n",
    "    df_analise.write.mode(\"overwrite\").option(\"overwriteSchema\", \"true\").saveAsTable(tabela)"
   ]
  },
  {
   "cell_type": "markdown",
   "metadata": {
    "application/vnd.databricks.v1+cell": {
     "cellMetadata": {},
     "inputWidgets": {},
     "nuid": "9f8d4a8b-0d16-43b9-b4af-65b3833c74aa",
     "showTitle": false,
     "tableResultSettingsMap": {},
     "title": ""
    }
   },
   "source": [
    "## 1.2. Análise Kinea versus Cluster"
   ]
  },
  {
   "cell_type": "markdown",
   "metadata": {
    "application/vnd.databricks.v1+cell": {
     "cellMetadata": {},
     "inputWidgets": {},
     "nuid": "2ad44558-27bd-4fd0-b832-294de8e67a42",
     "showTitle": false,
     "tableResultSettingsMap": {},
     "title": ""
    }
   },
   "source": [
    "Avaliando performance **conjunta** dos fundos KINEA em comparação aos fundos concorrentes:"
   ]
  },
  {
   "cell_type": "code",
   "execution_count": 0,
   "metadata": {
    "application/vnd.databricks.v1+cell": {
     "cellMetadata": {
      "byteLimit": 2048000,
      "rowLimit": 10000
     },
     "collapsed": true,
     "inputWidgets": {},
     "nuid": "68da455a-2426-4d6e-9402-a9a1c54d45e8",
     "showTitle": false,
     "tableResultSettingsMap": {},
     "title": ""
    }
   },
   "outputs": [],
   "source": [
    "from pyspark.sql import functions as F\n",
    "from pyspark.sql.window import Window\n",
    "\n",
    "class KineaClusterComparisonFull:\n",
    "    def __init__(self, df):\n",
    "        \"\"\"\n",
    "        Inicializa a classe com o DataFrame base\n",
    "        :param df: DataFrame contendo todos os fundos e clusters\n",
    "        \"\"\"\n",
    "        self.df = df\n",
    "        self.final_comp_df = None\n",
    "\n",
    "    def filter_kinea_clusters(self):\n",
    "        \"\"\"Mantém apenas clusters onde a Kinea está presente\"\"\"\n",
    "        clusters_kinea_ids = (\n",
    "            self.df.filter(F.upper(F.col(\"tipo_gestor\")) == \"KINEA\")\n",
    "                   .select(\"cluster_id\")\n",
    "                   .distinct()\n",
    "        )\n",
    "        self.df = self.df.join(clusters_kinea_ids, on=\"cluster_id\", how=\"inner\")\n",
    "\n",
    "    def prepare_columns(self):\n",
    "        \"\"\"Prepara colunas auxiliares\"\"\"\n",
    "        # Idade do fundo em anos (considera primeira emissão por CNPJ)\n",
    "        w_cnpj = Window.partitionBy(\"cnpj\")\n",
    "        self.df = self.df.withColumn(\n",
    "            \"idade_anos\",\n",
    "            F.datediff(F.current_date(), F.min(\"data_emissao\").over(w_cnpj)) / 365.25\n",
    "        )\n",
    "\n",
    "        # Flag binária chamada de capital IPCA\n",
    "        self.df = self.df.withColumn(\n",
    "            \"chamada_capital_ipca_flag\",\n",
    "            F.when(\n",
    "                F.upper(F.coalesce(F.col(\"chamada_capital_ipca\"), F.lit(\"NÃO\"))).like(\"%SIM%\"),\n",
    "                1\n",
    "            ).otherwise(0)\n",
    "        )\n",
    "\n",
    "        # Sharpe do fundo\n",
    "        self.df = self.df.withColumn(\n",
    "            \"sharpe_ratio_calc\",\n",
    "            F.when(F.col(\"volatilidade_historica\") != 0, F.col(\"retorno_acumulado\") / F.col(\"volatilidade_historica\")).otherwise(0)\n",
    "        )\n",
    "\n",
    "        # Volume total do cluster\n",
    "        w_cluster = Window.partitionBy(\"cluster_id\")\n",
    "        self.df = self.df.withColumn(\n",
    "            \"volume_total_cluster\",\n",
    "            F.sum(\"volume_base_emissao\").over(w_cluster)\n",
    "        )\n",
    "\n",
    "        # Market share do fundo\n",
    "        self.df = self.df.withColumn(\n",
    "            \"market_share_fundo\",\n",
    "            (F.col(\"volume_base_emissao\") / F.col(\"volume_total_cluster\")) * 100\n",
    "        )\n",
    "\n",
    "    def aggregate_metrics(self):\n",
    "        \"\"\"Agrega métricas por cluster e tipo_gestor\"\"\"\n",
    "        metrics = [\n",
    "            \"retorno_acumulado\",\n",
    "            \"volatilidade_historica\",\n",
    "            \"sharpe_ratio_calc\",\n",
    "            \"volume_base_emissao\",\n",
    "            \"qt_emissoes\",\n",
    "            \"valor_cota_emissao\",\n",
    "            \"taxa_distribuicao_emissao\",\n",
    "            \"quantidade_cotas_totais\",\n",
    "            \"percentual_oferta_institucional\",\n",
    "            \"montante_minimo_emissao\",\n",
    "            \"chamada_capital_ipca_flag\",\n",
    "            \"idade_anos\"\n",
    "        ]\n",
    "\n",
    "        agg_exprs = [F.mean(m).alias(m) for m in metrics]\n",
    "        agg_exprs += [\n",
    "            F.sum(\"volume_base_emissao\").alias(\"volume_total_gestor\"),\n",
    "            F.sum(\"market_share_fundo\").alias(\"market_share_gestor\"),\n",
    "            F.countDistinct(\"cnpj\").alias(\"qtd_fundos\")\n",
    "        ]\n",
    "\n",
    "        self.agg_metrics = self.df.groupBy(\"cluster_id\", \"tipo_gestor\").agg(*agg_exprs)\n",
    "\n",
    "    def pivot_and_compare(self):\n",
    "        \"\"\"Pivot Kinea vs Concorrentes e organiza lado a lado\"\"\"\n",
    "        # Pivot\n",
    "        pivot_df = self.agg_metrics.groupBy(\"cluster_id\").pivot(\"tipo_gestor\").agg(\n",
    "            *[F.first(c).alias(c) for c in self.agg_metrics.columns if c not in [\"cluster_id\", \"tipo_gestor\"]]\n",
    "        )\n",
    "\n",
    "        metrics = [\n",
    "            \"qtd_fundos\",\n",
    "            \"retorno_acumulado\",\n",
    "            \"volatilidade_historica\",\n",
    "            \"sharpe_ratio_calc\",\n",
    "            \"volume_base_emissao\",\n",
    "            \"qt_emissoes\",\n",
    "            \"valor_cota_emissao\",\n",
    "            \"taxa_distribuicao_emissao\",\n",
    "            \"quantidade_cotas_totais\",\n",
    "            \"percentual_oferta_institucional\",\n",
    "            \"montante_minimo_emissao\",\n",
    "            \"chamada_capital_ipca_flag\",\n",
    "            \"idade_anos\",\n",
    "            \"volume_total_gestor\",\n",
    "            \"market_share_gestor\"\n",
    "        ]\n",
    "\n",
    "        # Calcula diferenças Kinea vs Concorrente\n",
    "        for m in metrics:\n",
    "            pivot_df = pivot_df.withColumn(\n",
    "                f\"dif_{m}\",\n",
    "                F.coalesce(F.col(f\"KINEA_{m}\"), F.lit(0)) - F.coalesce(F.col(f\"CONCORRENTE_{m}\"), F.lit(0))\n",
    "            )\n",
    "\n",
    "        # Organiza colunas lado a lado\n",
    "        cols_lado_a_lado = [\"cluster_id\"]\n",
    "        for m in metrics:\n",
    "            cols_lado_a_lado += [f\"KINEA_{m}\", f\"CONCORRENTE_{m}\", f\"dif_{m}\"]\n",
    "\n",
    "        self.final_comp_df = pivot_df.filter(F.col(\"KINEA_qtd_fundos\").isNotNull()).select(*cols_lado_a_lado)\n",
    "\n",
    "    def run(self):\n",
    "        \"\"\"Executa todo o pipeline\"\"\"\n",
    "        self.filter_kinea_clusters()\n",
    "        self.prepare_columns()\n",
    "        self.aggregate_metrics()\n",
    "        self.pivot_and_compare()\n",
    "        return self.final_comp_df"
   ]
  },
  {
   "cell_type": "code",
   "execution_count": 0,
   "metadata": {
    "application/vnd.databricks.v1+cell": {
     "cellMetadata": {
      "byteLimit": 2048000,
      "rowLimit": 10000
     },
     "collapsed": true,
     "inputWidgets": {},
     "nuid": "06882126-8d7c-41a2-bbfa-4d4101d7763d",
     "showTitle": false,
     "tableResultSettingsMap": {
      "0": {
       "dataGridStateBlob": "{\"version\":1,\"tableState\":{\"columnPinning\":{\"left\":[\"#row_number#\"],\"right\":[]},\"columnSizing\":{},\"columnVisibility\":{}},\"settings\":{\"columns\":{}},\"syncTimestamp\":1755196649228}",
       "filterBlob": null,
       "queryPlanFiltersBlob": null,
       "tableResultIndex": 0
      },
      "1": {
       "dataGridStateBlob": "{\"version\":1,\"tableState\":{\"columnPinning\":{\"left\":[\"#row_number#\"],\"right\":[]},\"columnSizing\":{},\"columnVisibility\":{}},\"settings\":{\"columns\":{}},\"syncTimestamp\":1755196649234}",
       "filterBlob": null,
       "queryPlanFiltersBlob": null,
       "tableResultIndex": 1
      },
      "2": {
       "dataGridStateBlob": "{\"version\":1,\"tableState\":{\"columnPinning\":{\"left\":[\"#row_number#\"],\"right\":[]},\"columnSizing\":{},\"columnVisibility\":{}},\"settings\":{\"columns\":{}},\"syncTimestamp\":1755196649242}",
       "filterBlob": null,
       "queryPlanFiltersBlob": null,
       "tableResultIndex": 2
      }
     },
     "title": ""
    }
   },
   "outputs": [
    {
     "output_type": "display_data",
     "data": {
      "text/html": [
       "<style scoped>\n",
       "  .table-result-container {\n",
       "    max-height: 300px;\n",
       "    overflow: auto;\n",
       "  }\n",
       "  table, th, td {\n",
       "    border: 1px solid black;\n",
       "    border-collapse: collapse;\n",
       "  }\n",
       "  th, td {\n",
       "    padding: 5px;\n",
       "  }\n",
       "  th {\n",
       "    text-align: left;\n",
       "  }\n",
       "</style><div class='table-result-container'><table class='table-result'><thead style='background-color: white'><tr><th>cluster_id</th><th>KINEA_qtd_fundos</th><th>CONCORRENTE_qtd_fundos</th><th>dif_qtd_fundos</th><th>KINEA_retorno_acumulado</th><th>CONCORRENTE_retorno_acumulado</th><th>dif_retorno_acumulado</th><th>KINEA_volatilidade_historica</th><th>CONCORRENTE_volatilidade_historica</th><th>dif_volatilidade_historica</th><th>KINEA_sharpe_ratio_calc</th><th>CONCORRENTE_sharpe_ratio_calc</th><th>dif_sharpe_ratio_calc</th><th>KINEA_volume_base_emissao</th><th>CONCORRENTE_volume_base_emissao</th><th>dif_volume_base_emissao</th><th>KINEA_qt_emissoes</th><th>CONCORRENTE_qt_emissoes</th><th>dif_qt_emissoes</th><th>KINEA_valor_cota_emissao</th><th>CONCORRENTE_valor_cota_emissao</th><th>dif_valor_cota_emissao</th><th>KINEA_taxa_distribuicao_emissao</th><th>CONCORRENTE_taxa_distribuicao_emissao</th><th>dif_taxa_distribuicao_emissao</th><th>KINEA_quantidade_cotas_totais</th><th>CONCORRENTE_quantidade_cotas_totais</th><th>dif_quantidade_cotas_totais</th><th>KINEA_percentual_oferta_institucional</th><th>CONCORRENTE_percentual_oferta_institucional</th><th>dif_percentual_oferta_institucional</th><th>KINEA_montante_minimo_emissao</th><th>CONCORRENTE_montante_minimo_emissao</th><th>dif_montante_minimo_emissao</th><th>KINEA_chamada_capital_ipca_flag</th><th>CONCORRENTE_chamada_capital_ipca_flag</th><th>dif_chamada_capital_ipca_flag</th><th>KINEA_idade_anos</th><th>CONCORRENTE_idade_anos</th><th>dif_idade_anos</th><th>KINEA_volume_total_gestor</th><th>CONCORRENTE_volume_total_gestor</th><th>dif_volume_total_gestor</th><th>KINEA_market_share_gestor</th><th>CONCORRENTE_market_share_gestor</th><th>dif_market_share_gestor</th></tr></thead><tbody><tr><td>0</td><td>2</td><td>155</td><td>-153</td><td>-0.01976334689172865</td><td>4.720080042573507</td><td>-4.739843389465236</td><td>0.17352356017927267</td><td>3.8263233844280435</td><td>-3.652799824248771</td><td>-0.05694715712180672</td><td>0.016529605911590427</td><td>-0.07347676303339715</td><td>4.26269584E8</td><td>6.13659356E7</td><td>3.649036484E8</td><td>3.5</td><td>1.5096153846153846</td><td>1.9903846153846154</td><td>117.41999816894531</td><td>15170.563824846195</td><td>-15053.14382667725</td><td>null</td><td>0.009999999776482582</td><td>-0.009999999776482582</td><td>4693700.0</td><td>1857717.125392514</td><td>2835982.8746074857</td><td>null</td><td>80.0</td><td>-80.0</td><td>2.5072548E7</td><td>4081563.247863248</td><td>2.0990984752136752E7</td><td>0.0</td><td>0.0</td><td>0.0</td><td>4.618754277891854</td><td>6.325753915529246</td><td>-1.7069996376373915</td><td>8.52539168E8</td><td>5.829763882E9</td><td>-4.977224714E9</td><td>12.758163789054734</td><td>87.24183621094527</td><td>-74.48367242189053</td></tr></tbody></table></div>"
      ]
     },
     "metadata": {
      "application/vnd.databricks.v1+output": {
       "addedWidgets": {},
       "aggData": [],
       "aggError": "",
       "aggOverflow": false,
       "aggSchema": [],
       "aggSeriesLimitReached": false,
       "aggType": "",
       "arguments": {},
       "columnCustomDisplayInfos": {},
       "data": [
        [
         0,
         2,
         155,
         -153,
         -0.01976334689172865,
         4.720080042573507,
         -4.739843389465236,
         0.17352356017927267,
         3.8263233844280435,
         -3.652799824248771,
         -0.05694715712180672,
         0.016529605911590427,
         -0.07347676303339715,
         4.26269584E8,
         6.13659356E7,
         3.649036484E8,
         3.5,
         1.5096153846153846,
         1.9903846153846154,
         117.41999816894531,
         15170.563824846195,
         -15053.14382667725,
         null,
         0.009999999776482582,
         -0.009999999776482582,
         4693700.0,
         1857717.125392514,
         2835982.8746074857,
         null,
         80.0,
         -80.0,
         2.5072548E7,
         4081563.247863248,
         2.0990984752136752E7,
         0.0,
         0.0,
         0.0,
         4.618754277891854,
         6.325753915529246,
         -1.7069996376373915,
         8.52539168E8,
         5.829763882E9,
         -4.977224714E9,
         12.758163789054734,
         87.24183621094527,
         -74.48367242189053
        ]
       ],
       "datasetInfos": [],
       "dbfsResultPath": null,
       "isJsonSchema": true,
       "metadata": {},
       "overflow": false,
       "plotOptions": {
        "customPlotOptions": {},
        "displayType": "table",
        "pivotAggregation": null,
        "pivotColumns": null,
        "xColumns": null,
        "yColumns": null
       },
       "removedWidgets": [],
       "schema": [
        {
         "metadata": "{}",
         "name": "cluster_id",
         "type": "\"integer\""
        },
        {
         "metadata": "{}",
         "name": "KINEA_qtd_fundos",
         "type": "\"long\""
        },
        {
         "metadata": "{}",
         "name": "CONCORRENTE_qtd_fundos",
         "type": "\"long\""
        },
        {
         "metadata": "{}",
         "name": "dif_qtd_fundos",
         "type": "\"long\""
        },
        {
         "metadata": "{}",
         "name": "KINEA_retorno_acumulado",
         "type": "\"double\""
        },
        {
         "metadata": "{}",
         "name": "CONCORRENTE_retorno_acumulado",
         "type": "\"double\""
        },
        {
         "metadata": "{}",
         "name": "dif_retorno_acumulado",
         "type": "\"double\""
        },
        {
         "metadata": "{}",
         "name": "KINEA_volatilidade_historica",
         "type": "\"double\""
        },
        {
         "metadata": "{}",
         "name": "CONCORRENTE_volatilidade_historica",
         "type": "\"double\""
        },
        {
         "metadata": "{}",
         "name": "dif_volatilidade_historica",
         "type": "\"double\""
        },
        {
         "metadata": "{}",
         "name": "KINEA_sharpe_ratio_calc",
         "type": "\"double\""
        },
        {
         "metadata": "{}",
         "name": "CONCORRENTE_sharpe_ratio_calc",
         "type": "\"double\""
        },
        {
         "metadata": "{}",
         "name": "dif_sharpe_ratio_calc",
         "type": "\"double\""
        },
        {
         "metadata": "{}",
         "name": "KINEA_volume_base_emissao",
         "type": "\"double\""
        },
        {
         "metadata": "{}",
         "name": "CONCORRENTE_volume_base_emissao",
         "type": "\"double\""
        },
        {
         "metadata": "{}",
         "name": "dif_volume_base_emissao",
         "type": "\"double\""
        },
        {
         "metadata": "{}",
         "name": "KINEA_qt_emissoes",
         "type": "\"double\""
        },
        {
         "metadata": "{}",
         "name": "CONCORRENTE_qt_emissoes",
         "type": "\"double\""
        },
        {
         "metadata": "{}",
         "name": "dif_qt_emissoes",
         "type": "\"double\""
        },
        {
         "metadata": "{}",
         "name": "KINEA_valor_cota_emissao",
         "type": "\"double\""
        },
        {
         "metadata": "{}",
         "name": "CONCORRENTE_valor_cota_emissao",
         "type": "\"double\""
        },
        {
         "metadata": "{}",
         "name": "dif_valor_cota_emissao",
         "type": "\"double\""
        },
        {
         "metadata": "{}",
         "name": "KINEA_taxa_distribuicao_emissao",
         "type": "\"double\""
        },
        {
         "metadata": "{}",
         "name": "CONCORRENTE_taxa_distribuicao_emissao",
         "type": "\"double\""
        },
        {
         "metadata": "{}",
         "name": "dif_taxa_distribuicao_emissao",
         "type": "\"double\""
        },
        {
         "metadata": "{}",
         "name": "KINEA_quantidade_cotas_totais",
         "type": "\"double\""
        },
        {
         "metadata": "{}",
         "name": "CONCORRENTE_quantidade_cotas_totais",
         "type": "\"double\""
        },
        {
         "metadata": "{}",
         "name": "dif_quantidade_cotas_totais",
         "type": "\"double\""
        },
        {
         "metadata": "{}",
         "name": "KINEA_percentual_oferta_institucional",
         "type": "\"double\""
        },
        {
         "metadata": "{}",
         "name": "CONCORRENTE_percentual_oferta_institucional",
         "type": "\"double\""
        },
        {
         "metadata": "{}",
         "name": "dif_percentual_oferta_institucional",
         "type": "\"double\""
        },
        {
         "metadata": "{}",
         "name": "KINEA_montante_minimo_emissao",
         "type": "\"double\""
        },
        {
         "metadata": "{}",
         "name": "CONCORRENTE_montante_minimo_emissao",
         "type": "\"double\""
        },
        {
         "metadata": "{}",
         "name": "dif_montante_minimo_emissao",
         "type": "\"double\""
        },
        {
         "metadata": "{}",
         "name": "KINEA_chamada_capital_ipca_flag",
         "type": "\"double\""
        },
        {
         "metadata": "{}",
         "name": "CONCORRENTE_chamada_capital_ipca_flag",
         "type": "\"double\""
        },
        {
         "metadata": "{}",
         "name": "dif_chamada_capital_ipca_flag",
         "type": "\"double\""
        },
        {
         "metadata": "{}",
         "name": "KINEA_idade_anos",
         "type": "\"double\""
        },
        {
         "metadata": "{}",
         "name": "CONCORRENTE_idade_anos",
         "type": "\"double\""
        },
        {
         "metadata": "{}",
         "name": "dif_idade_anos",
         "type": "\"double\""
        },
        {
         "metadata": "{}",
         "name": "KINEA_volume_total_gestor",
         "type": "\"double\""
        },
        {
         "metadata": "{}",
         "name": "CONCORRENTE_volume_total_gestor",
         "type": "\"double\""
        },
        {
         "metadata": "{}",
         "name": "dif_volume_total_gestor",
         "type": "\"double\""
        },
        {
         "metadata": "{}",
         "name": "KINEA_market_share_gestor",
         "type": "\"double\""
        },
        {
         "metadata": "{}",
         "name": "CONCORRENTE_market_share_gestor",
         "type": "\"double\""
        },
        {
         "metadata": "{}",
         "name": "dif_market_share_gestor",
         "type": "\"double\""
        }
       ],
       "type": "table"
      }
     },
     "output_type": "display_data"
    },
    {
     "output_type": "display_data",
     "data": {
      "text/html": [
       "<style scoped>\n",
       "  .table-result-container {\n",
       "    max-height: 300px;\n",
       "    overflow: auto;\n",
       "  }\n",
       "  table, th, td {\n",
       "    border: 1px solid black;\n",
       "    border-collapse: collapse;\n",
       "  }\n",
       "  th, td {\n",
       "    padding: 5px;\n",
       "  }\n",
       "  th {\n",
       "    text-align: left;\n",
       "  }\n",
       "</style><div class='table-result-container'><table class='table-result'><thead style='background-color: white'><tr><th>cluster_id</th><th>KINEA_qtd_fundos</th><th>CONCORRENTE_qtd_fundos</th><th>dif_qtd_fundos</th><th>KINEA_retorno_acumulado</th><th>CONCORRENTE_retorno_acumulado</th><th>dif_retorno_acumulado</th><th>KINEA_volatilidade_historica</th><th>CONCORRENTE_volatilidade_historica</th><th>dif_volatilidade_historica</th><th>KINEA_sharpe_ratio_calc</th><th>CONCORRENTE_sharpe_ratio_calc</th><th>dif_sharpe_ratio_calc</th><th>KINEA_volume_base_emissao</th><th>CONCORRENTE_volume_base_emissao</th><th>dif_volume_base_emissao</th><th>KINEA_qt_emissoes</th><th>CONCORRENTE_qt_emissoes</th><th>dif_qt_emissoes</th><th>KINEA_valor_cota_emissao</th><th>CONCORRENTE_valor_cota_emissao</th><th>dif_valor_cota_emissao</th><th>KINEA_taxa_distribuicao_emissao</th><th>CONCORRENTE_taxa_distribuicao_emissao</th><th>dif_taxa_distribuicao_emissao</th><th>KINEA_quantidade_cotas_totais</th><th>CONCORRENTE_quantidade_cotas_totais</th><th>dif_quantidade_cotas_totais</th><th>KINEA_percentual_oferta_institucional</th><th>CONCORRENTE_percentual_oferta_institucional</th><th>dif_percentual_oferta_institucional</th><th>KINEA_montante_minimo_emissao</th><th>CONCORRENTE_montante_minimo_emissao</th><th>dif_montante_minimo_emissao</th><th>KINEA_chamada_capital_ipca_flag</th><th>CONCORRENTE_chamada_capital_ipca_flag</th><th>dif_chamada_capital_ipca_flag</th><th>KINEA_idade_anos</th><th>CONCORRENTE_idade_anos</th><th>dif_idade_anos</th><th>KINEA_volume_total_gestor</th><th>CONCORRENTE_volume_total_gestor</th><th>dif_volume_total_gestor</th><th>KINEA_market_share_gestor</th><th>CONCORRENTE_market_share_gestor</th><th>dif_market_share_gestor</th></tr></thead><tbody><tr><td>1</td><td>5</td><td>9</td><td>-4</td><td>-0.046174580757185946</td><td>827.1014489111369</td><td>-827.1476234918941</td><td>0.16557110743794015</td><td>13.06033316436729</td><td>-12.89476205692935</td><td>-0.1340167922749292</td><td>5.892798460578884</td><td>-6.0268152528538135</td><td>6.508489472E8</td><td>3.9207363333333336E7</td><td>6.116415838666667E8</td><td>4.2</td><td>5.090909090909091</td><td>-0.8909090909090907</td><td>93.41800079345703</td><td>355.77500488758085</td><td>-262.3570040941238</td><td>null</td><td>null</td><td>0.0</td><td>8328711.4</td><td>2912809.909090909</td><td>5415901.490909091</td><td>null</td><td>null</td><td>0.0</td><td>1.395015912E8</td><td>7502782.5</td><td>1.3199880869999999E8</td><td>0.2</td><td>0.0</td><td>0.2</td><td>3.162217659137577</td><td>15.708792234459587</td><td>-12.54657457532201</td><td>3.254244736E9</td><td>3.5286627E8</td><td>2.901378466E9</td><td>90.21748237265088</td><td>9.782517627349115</td><td>80.43496474530176</td></tr><tr><td>2</td><td>3</td><td>null</td><td>3</td><td>0.0797156849687517</td><td>null</td><td>0.0797156849687517</td><td>0.11453909928921241</td><td>null</td><td>0.11453909928921241</td><td>0.466002935853244</td><td>null</td><td>0.466002935853244</td><td>3.982999573333333E8</td><td>null</td><td>3.982999573333333E8</td><td>4.0</td><td>null</td><td>4.0</td><td>3400.1366678873696</td><td>null</td><td>3400.1366678873696</td><td>null</td><td>null</td><td>0.0</td><td>4561576.0</td><td>null</td><td>4561576.0</td><td>null</td><td>null</td><td>0.0</td><td>2.9994580333333332E7</td><td>null</td><td>2.9994580333333332E7</td><td>0.0</td><td>null</td><td>0.0</td><td>0.32306639288158795</td><td>null</td><td>0.32306639288158795</td><td>1.194899872E9</td><td>null</td><td>1.194899872E9</td><td>100.0</td><td>null</td><td>100.0</td></tr><tr><td>3</td><td>1</td><td>1</td><td>0</td><td>0.1360068811234736</td><td>-0.07096194018501245</td><td>0.20696882130848604</td><td>0.09710710014631813</td><td>0.13734968994471658</td><td>-0.040242589798398454</td><td>1.4005863723511711</td><td>-0.516651622683493</td><td>1.917237995034664</td><td>1.99547776E9</td><td>5.0E8</td><td>1.49547776E9</td><td>11.0</td><td>2.0</td><td>9.0</td><td>101.48999786376953</td><td>100.0</td><td>1.4899978637695312</td><td>null</td><td>null</td><td>0.0</td><td>2.457727E7</td><td>5000000.0</td><td>1.957727E7</td><td>null</td><td>null</td><td>0.0</td><td>9977380.0</td><td>null</td><td>9977380.0</td><td>0.0</td><td>0.0</td><td>0.0</td><td>0.8076659822039699</td><td>17.738535249828885</td><td>-16.930869267624914</td><td>1.99547776E9</td><td>5.0E8</td><td>1.49547776E9</td><td>79.96375651931275</td><td>20.03624348068724</td><td>59.92751303862551</td></tr><tr><td>4</td><td>1</td><td>1</td><td>0</td><td>0.06616125038983078</td><td>0.13495950079488406</td><td>-0.06879825040505327</td><td>0.15028195631586924</td><td>0.15090618247082915</td><td>-6.242261549599115E-4</td><td>0.4402474655757751</td><td>0.8943271812006267</td><td>-0.4540797156248516</td><td>5.0E8</td><td>5.047E7</td><td>4.4953E8</td><td>5.0</td><td>6.0</td><td>-1.0</td><td>9.0</td><td>100.0</td><td>-91.0</td><td>null</td><td>null</td><td>0.0</td><td>6.9444448E7</td><td>504700.0</td><td>6.8939748E7</td><td>null</td><td>null</td><td>0.0</td><td>1.0000008E7</td><td>5.047E7</td><td>-4.0469992E7</td><td>0.0</td><td>0.0</td><td>0.0</td><td>1.0157426420260096</td><td>17.815195071868583</td><td>-16.799452429842574</td><td>5.0E8</td><td>5.047E7</td><td>4.4953E8</td><td>90.83147128817193</td><td>9.168528711828074</td><td>81.66294257634385</td></tr></tbody></table></div>"
      ]
     },
     "metadata": {
      "application/vnd.databricks.v1+output": {
       "addedWidgets": {},
       "aggData": [],
       "aggError": "",
       "aggOverflow": false,
       "aggSchema": [],
       "aggSeriesLimitReached": false,
       "aggType": "",
       "arguments": {},
       "columnCustomDisplayInfos": {},
       "data": [
        [
         1,
         5,
         9,
         -4,
         -0.046174580757185946,
         827.1014489111369,
         -827.1476234918941,
         0.16557110743794015,
         13.06033316436729,
         -12.89476205692935,
         -0.1340167922749292,
         5.892798460578884,
         -6.0268152528538135,
         6.508489472E8,
         3.9207363333333336E7,
         6.116415838666667E8,
         4.2,
         5.090909090909091,
         -0.8909090909090907,
         93.41800079345703,
         355.77500488758085,
         -262.3570040941238,
         null,
         null,
         0.0,
         8328711.4,
         2912809.909090909,
         5415901.490909091,
         null,
         null,
         0.0,
         1.395015912E8,
         7502782.5,
         1.3199880869999999E8,
         0.2,
         0.0,
         0.2,
         3.162217659137577,
         15.708792234459587,
         -12.54657457532201,
         3.254244736E9,
         3.5286627E8,
         2.901378466E9,
         90.21748237265088,
         9.782517627349115,
         80.43496474530176
        ],
        [
         2,
         3,
         null,
         3,
         0.0797156849687517,
         null,
         0.0797156849687517,
         0.11453909928921241,
         null,
         0.11453909928921241,
         0.466002935853244,
         null,
         0.466002935853244,
         3.982999573333333E8,
         null,
         3.982999573333333E8,
         4.0,
         null,
         4.0,
         3400.1366678873696,
         null,
         3400.1366678873696,
         null,
         null,
         0.0,
         4561576.0,
         null,
         4561576.0,
         null,
         null,
         0.0,
         2.9994580333333332E7,
         null,
         2.9994580333333332E7,
         0.0,
         null,
         0.0,
         0.32306639288158795,
         null,
         0.32306639288158795,
         1.194899872E9,
         null,
         1.194899872E9,
         100.0,
         null,
         100.0
        ],
        [
         3,
         1,
         1,
         0,
         0.1360068811234736,
         -0.07096194018501245,
         0.20696882130848604,
         0.09710710014631813,
         0.13734968994471658,
         -0.040242589798398454,
         1.4005863723511711,
         -0.516651622683493,
         1.917237995034664,
         1.99547776E9,
         5.0E8,
         1.49547776E9,
         11.0,
         2.0,
         9.0,
         101.48999786376953,
         100.0,
         1.4899978637695312,
         null,
         null,
         0.0,
         2.457727E7,
         5000000.0,
         1.957727E7,
         null,
         null,
         0.0,
         9977380.0,
         null,
         9977380.0,
         0.0,
         0.0,
         0.0,
         0.8076659822039699,
         17.738535249828885,
         -16.930869267624914,
         1.99547776E9,
         5.0E8,
         1.49547776E9,
         79.96375651931275,
         20.03624348068724,
         59.92751303862551
        ],
        [
         4,
         1,
         1,
         0,
         0.06616125038983078,
         0.13495950079488406,
         -0.06879825040505327,
         0.15028195631586924,
         0.15090618247082915,
         -6.242261549599115E-4,
         0.4402474655757751,
         0.8943271812006267,
         -0.4540797156248516,
         5.0E8,
         5.047E7,
         4.4953E8,
         5.0,
         6.0,
         -1.0,
         9.0,
         100.0,
         -91.0,
         null,
         null,
         0.0,
         6.9444448E7,
         504700.0,
         6.8939748E7,
         null,
         null,
         0.0,
         1.0000008E7,
         5.047E7,
         -4.0469992E7,
         0.0,
         0.0,
         0.0,
         1.0157426420260096,
         17.815195071868583,
         -16.799452429842574,
         5.0E8,
         5.047E7,
         4.4953E8,
         90.83147128817193,
         9.168528711828074,
         81.66294257634385
        ]
       ],
       "datasetInfos": [],
       "dbfsResultPath": null,
       "isJsonSchema": true,
       "metadata": {},
       "overflow": false,
       "plotOptions": {
        "customPlotOptions": {},
        "displayType": "table",
        "pivotAggregation": null,
        "pivotColumns": null,
        "xColumns": null,
        "yColumns": null
       },
       "removedWidgets": [],
       "schema": [
        {
         "metadata": "{}",
         "name": "cluster_id",
         "type": "\"integer\""
        },
        {
         "metadata": "{}",
         "name": "KINEA_qtd_fundos",
         "type": "\"long\""
        },
        {
         "metadata": "{}",
         "name": "CONCORRENTE_qtd_fundos",
         "type": "\"long\""
        },
        {
         "metadata": "{}",
         "name": "dif_qtd_fundos",
         "type": "\"long\""
        },
        {
         "metadata": "{}",
         "name": "KINEA_retorno_acumulado",
         "type": "\"double\""
        },
        {
         "metadata": "{}",
         "name": "CONCORRENTE_retorno_acumulado",
         "type": "\"double\""
        },
        {
         "metadata": "{}",
         "name": "dif_retorno_acumulado",
         "type": "\"double\""
        },
        {
         "metadata": "{}",
         "name": "KINEA_volatilidade_historica",
         "type": "\"double\""
        },
        {
         "metadata": "{}",
         "name": "CONCORRENTE_volatilidade_historica",
         "type": "\"double\""
        },
        {
         "metadata": "{}",
         "name": "dif_volatilidade_historica",
         "type": "\"double\""
        },
        {
         "metadata": "{}",
         "name": "KINEA_sharpe_ratio_calc",
         "type": "\"double\""
        },
        {
         "metadata": "{}",
         "name": "CONCORRENTE_sharpe_ratio_calc",
         "type": "\"double\""
        },
        {
         "metadata": "{}",
         "name": "dif_sharpe_ratio_calc",
         "type": "\"double\""
        },
        {
         "metadata": "{}",
         "name": "KINEA_volume_base_emissao",
         "type": "\"double\""
        },
        {
         "metadata": "{}",
         "name": "CONCORRENTE_volume_base_emissao",
         "type": "\"double\""
        },
        {
         "metadata": "{}",
         "name": "dif_volume_base_emissao",
         "type": "\"double\""
        },
        {
         "metadata": "{}",
         "name": "KINEA_qt_emissoes",
         "type": "\"double\""
        },
        {
         "metadata": "{}",
         "name": "CONCORRENTE_qt_emissoes",
         "type": "\"double\""
        },
        {
         "metadata": "{}",
         "name": "dif_qt_emissoes",
         "type": "\"double\""
        },
        {
         "metadata": "{}",
         "name": "KINEA_valor_cota_emissao",
         "type": "\"double\""
        },
        {
         "metadata": "{}",
         "name": "CONCORRENTE_valor_cota_emissao",
         "type": "\"double\""
        },
        {
         "metadata": "{}",
         "name": "dif_valor_cota_emissao",
         "type": "\"double\""
        },
        {
         "metadata": "{}",
         "name": "KINEA_taxa_distribuicao_emissao",
         "type": "\"double\""
        },
        {
         "metadata": "{}",
         "name": "CONCORRENTE_taxa_distribuicao_emissao",
         "type": "\"double\""
        },
        {
         "metadata": "{}",
         "name": "dif_taxa_distribuicao_emissao",
         "type": "\"double\""
        },
        {
         "metadata": "{}",
         "name": "KINEA_quantidade_cotas_totais",
         "type": "\"double\""
        },
        {
         "metadata": "{}",
         "name": "CONCORRENTE_quantidade_cotas_totais",
         "type": "\"double\""
        },
        {
         "metadata": "{}",
         "name": "dif_quantidade_cotas_totais",
         "type": "\"double\""
        },
        {
         "metadata": "{}",
         "name": "KINEA_percentual_oferta_institucional",
         "type": "\"double\""
        },
        {
         "metadata": "{}",
         "name": "CONCORRENTE_percentual_oferta_institucional",
         "type": "\"double\""
        },
        {
         "metadata": "{}",
         "name": "dif_percentual_oferta_institucional",
         "type": "\"double\""
        },
        {
         "metadata": "{}",
         "name": "KINEA_montante_minimo_emissao",
         "type": "\"double\""
        },
        {
         "metadata": "{}",
         "name": "CONCORRENTE_montante_minimo_emissao",
         "type": "\"double\""
        },
        {
         "metadata": "{}",
         "name": "dif_montante_minimo_emissao",
         "type": "\"double\""
        },
        {
         "metadata": "{}",
         "name": "KINEA_chamada_capital_ipca_flag",
         "type": "\"double\""
        },
        {
         "metadata": "{}",
         "name": "CONCORRENTE_chamada_capital_ipca_flag",
         "type": "\"double\""
        },
        {
         "metadata": "{}",
         "name": "dif_chamada_capital_ipca_flag",
         "type": "\"double\""
        },
        {
         "metadata": "{}",
         "name": "KINEA_idade_anos",
         "type": "\"double\""
        },
        {
         "metadata": "{}",
         "name": "CONCORRENTE_idade_anos",
         "type": "\"double\""
        },
        {
         "metadata": "{}",
         "name": "dif_idade_anos",
         "type": "\"double\""
        },
        {
         "metadata": "{}",
         "name": "KINEA_volume_total_gestor",
         "type": "\"double\""
        },
        {
         "metadata": "{}",
         "name": "CONCORRENTE_volume_total_gestor",
         "type": "\"double\""
        },
        {
         "metadata": "{}",
         "name": "dif_volume_total_gestor",
         "type": "\"double\""
        },
        {
         "metadata": "{}",
         "name": "KINEA_market_share_gestor",
         "type": "\"double\""
        },
        {
         "metadata": "{}",
         "name": "CONCORRENTE_market_share_gestor",
         "type": "\"double\""
        },
        {
         "metadata": "{}",
         "name": "dif_market_share_gestor",
         "type": "\"double\""
        }
       ],
       "type": "table"
      }
     },
     "output_type": "display_data"
    },
    {
     "output_type": "display_data",
     "data": {
      "text/html": [
       "<style scoped>\n",
       "  .table-result-container {\n",
       "    max-height: 300px;\n",
       "    overflow: auto;\n",
       "  }\n",
       "  table, th, td {\n",
       "    border: 1px solid black;\n",
       "    border-collapse: collapse;\n",
       "  }\n",
       "  th, td {\n",
       "    padding: 5px;\n",
       "  }\n",
       "  th {\n",
       "    text-align: left;\n",
       "  }\n",
       "</style><div class='table-result-container'><table class='table-result'><thead style='background-color: white'><tr><th>cluster_id</th><th>KINEA_qtd_fundos</th><th>CONCORRENTE_qtd_fundos</th><th>dif_qtd_fundos</th><th>KINEA_retorno_acumulado</th><th>CONCORRENTE_retorno_acumulado</th><th>dif_retorno_acumulado</th><th>KINEA_volatilidade_historica</th><th>CONCORRENTE_volatilidade_historica</th><th>dif_volatilidade_historica</th><th>KINEA_sharpe_ratio_calc</th><th>CONCORRENTE_sharpe_ratio_calc</th><th>dif_sharpe_ratio_calc</th><th>KINEA_volume_base_emissao</th><th>CONCORRENTE_volume_base_emissao</th><th>dif_volume_base_emissao</th><th>KINEA_qt_emissoes</th><th>CONCORRENTE_qt_emissoes</th><th>dif_qt_emissoes</th><th>KINEA_valor_cota_emissao</th><th>CONCORRENTE_valor_cota_emissao</th><th>dif_valor_cota_emissao</th><th>KINEA_taxa_distribuicao_emissao</th><th>CONCORRENTE_taxa_distribuicao_emissao</th><th>dif_taxa_distribuicao_emissao</th><th>KINEA_quantidade_cotas_totais</th><th>CONCORRENTE_quantidade_cotas_totais</th><th>dif_quantidade_cotas_totais</th><th>KINEA_percentual_oferta_institucional</th><th>CONCORRENTE_percentual_oferta_institucional</th><th>dif_percentual_oferta_institucional</th><th>KINEA_montante_minimo_emissao</th><th>CONCORRENTE_montante_minimo_emissao</th><th>dif_montante_minimo_emissao</th><th>KINEA_chamada_capital_ipca_flag</th><th>CONCORRENTE_chamada_capital_ipca_flag</th><th>dif_chamada_capital_ipca_flag</th><th>KINEA_idade_anos</th><th>CONCORRENTE_idade_anos</th><th>dif_idade_anos</th><th>KINEA_volume_total_gestor</th><th>CONCORRENTE_volume_total_gestor</th><th>dif_volume_total_gestor</th><th>KINEA_market_share_gestor</th><th>CONCORRENTE_market_share_gestor</th><th>dif_market_share_gestor</th></tr></thead><tbody><tr><td>0</td><td>1</td><td>24</td><td>-23</td><td>0.05440764300397527</td><td>null</td><td>0.05440764300397527</td><td>0.23475950687325822</td><td>null</td><td>0.23475950687325822</td><td>0.23175906155463524</td><td>0.0</td><td>0.23175906155463524</td><td>3.2E8</td><td>3.169840088888889E8</td><td>3015991.1111111045</td><td>1.0</td><td>1.125</td><td>-0.125</td><td>100.0</td><td>54166.21062591486</td><td>-54066.21062591486</td><td>null</td><td>null</td><td>0.0</td><td>4000000.0</td><td>5.851222713888889E7</td><td>-5.451222713888889E7</td><td>null</td><td>null</td><td>0.0</td><td>1.0E7</td><td>8.6438426375E7</td><td>-7.6438426375E7</td><td>0.0</td><td>0.0</td><td>0.0</td><td>0.8323066392881588</td><td>12.563997262149213</td><td>-11.731690622861054</td><td>3.2E8</td><td>8.55856824E9</td><td>-8.23856824E9</td><td>3.604184721567224</td><td>96.39581527843278</td><td>-92.79163055686556</td></tr><tr><td>3</td><td>1</td><td>5</td><td>-4</td><td>null</td><td>0.0</td><td>0.0</td><td>null</td><td>null</td><td>0.0</td><td>0.0</td><td>0.0</td><td>0.0</td><td>2.0E8</td><td>6.9166290375E7</td><td>1.30833709625E8</td><td>3.0</td><td>1.1666666666666667</td><td>1.8333333333333333</td><td>1000.0</td><td>367.01482019821805</td><td>632.9851798017819</td><td>null</td><td>null</td><td>0.0</td><td>250000.0</td><td>8.41300615E7</td><td>-8.38800615E7</td><td>null</td><td>65.0</td><td>-65.0</td><td>1.0E7</td><td>1.25025E8</td><td>-1.15025E8</td><td>0.0</td><td>0.0</td><td>0.0</td><td>1.322381930184805</td><td>5.341546885694729</td><td>-4.0191649555099245</td><td>2.0E8</td><td>2.766651615E8</td><td>-7.66651615E7</td><td>41.95817444904666</td><td>58.041825550953334</td><td>-16.083651101906675</td></tr></tbody></table></div>"
      ]
     },
     "metadata": {
      "application/vnd.databricks.v1+output": {
       "addedWidgets": {},
       "aggData": [],
       "aggError": "",
       "aggOverflow": false,
       "aggSchema": [],
       "aggSeriesLimitReached": false,
       "aggType": "",
       "arguments": {},
       "columnCustomDisplayInfos": {},
       "data": [
        [
         0,
         1,
         24,
         -23,
         0.05440764300397527,
         null,
         0.05440764300397527,
         0.23475950687325822,
         null,
         0.23475950687325822,
         0.23175906155463524,
         0.0,
         0.23175906155463524,
         3.2E8,
         3.169840088888889E8,
         3015991.1111111045,
         1.0,
         1.125,
         -0.125,
         100.0,
         54166.21062591486,
         -54066.21062591486,
         null,
         null,
         0.0,
         4000000.0,
         5.851222713888889E7,
         -5.451222713888889E7,
         null,
         null,
         0.0,
         1.0E7,
         8.6438426375E7,
         -7.6438426375E7,
         0.0,
         0.0,
         0.0,
         0.8323066392881588,
         12.563997262149213,
         -11.731690622861054,
         3.2E8,
         8.55856824E9,
         -8.23856824E9,
         3.604184721567224,
         96.39581527843278,
         -92.79163055686556
        ],
        [
         3,
         1,
         5,
         -4,
         null,
         0.0,
         0.0,
         null,
         null,
         0.0,
         0.0,
         0.0,
         0.0,
         2.0E8,
         6.9166290375E7,
         1.30833709625E8,
         3.0,
         1.1666666666666667,
         1.8333333333333333,
         1000.0,
         367.01482019821805,
         632.9851798017819,
         null,
         null,
         0.0,
         250000.0,
         8.41300615E7,
         -8.38800615E7,
         null,
         65.0,
         -65.0,
         1.0E7,
         1.25025E8,
         -1.15025E8,
         0.0,
         0.0,
         0.0,
         1.322381930184805,
         5.341546885694729,
         -4.0191649555099245,
         2.0E8,
         2.766651615E8,
         -7.66651615E7,
         41.95817444904666,
         58.041825550953334,
         -16.083651101906675
        ]
       ],
       "datasetInfos": [],
       "dbfsResultPath": null,
       "isJsonSchema": true,
       "metadata": {},
       "overflow": false,
       "plotOptions": {
        "customPlotOptions": {},
        "displayType": "table",
        "pivotAggregation": null,
        "pivotColumns": null,
        "xColumns": null,
        "yColumns": null
       },
       "removedWidgets": [],
       "schema": [
        {
         "metadata": "{}",
         "name": "cluster_id",
         "type": "\"integer\""
        },
        {
         "metadata": "{}",
         "name": "KINEA_qtd_fundos",
         "type": "\"long\""
        },
        {
         "metadata": "{}",
         "name": "CONCORRENTE_qtd_fundos",
         "type": "\"long\""
        },
        {
         "metadata": "{}",
         "name": "dif_qtd_fundos",
         "type": "\"long\""
        },
        {
         "metadata": "{}",
         "name": "KINEA_retorno_acumulado",
         "type": "\"double\""
        },
        {
         "metadata": "{}",
         "name": "CONCORRENTE_retorno_acumulado",
         "type": "\"double\""
        },
        {
         "metadata": "{}",
         "name": "dif_retorno_acumulado",
         "type": "\"double\""
        },
        {
         "metadata": "{}",
         "name": "KINEA_volatilidade_historica",
         "type": "\"double\""
        },
        {
         "metadata": "{}",
         "name": "CONCORRENTE_volatilidade_historica",
         "type": "\"double\""
        },
        {
         "metadata": "{}",
         "name": "dif_volatilidade_historica",
         "type": "\"double\""
        },
        {
         "metadata": "{}",
         "name": "KINEA_sharpe_ratio_calc",
         "type": "\"double\""
        },
        {
         "metadata": "{}",
         "name": "CONCORRENTE_sharpe_ratio_calc",
         "type": "\"double\""
        },
        {
         "metadata": "{}",
         "name": "dif_sharpe_ratio_calc",
         "type": "\"double\""
        },
        {
         "metadata": "{}",
         "name": "KINEA_volume_base_emissao",
         "type": "\"double\""
        },
        {
         "metadata": "{}",
         "name": "CONCORRENTE_volume_base_emissao",
         "type": "\"double\""
        },
        {
         "metadata": "{}",
         "name": "dif_volume_base_emissao",
         "type": "\"double\""
        },
        {
         "metadata": "{}",
         "name": "KINEA_qt_emissoes",
         "type": "\"double\""
        },
        {
         "metadata": "{}",
         "name": "CONCORRENTE_qt_emissoes",
         "type": "\"double\""
        },
        {
         "metadata": "{}",
         "name": "dif_qt_emissoes",
         "type": "\"double\""
        },
        {
         "metadata": "{}",
         "name": "KINEA_valor_cota_emissao",
         "type": "\"double\""
        },
        {
         "metadata": "{}",
         "name": "CONCORRENTE_valor_cota_emissao",
         "type": "\"double\""
        },
        {
         "metadata": "{}",
         "name": "dif_valor_cota_emissao",
         "type": "\"double\""
        },
        {
         "metadata": "{}",
         "name": "KINEA_taxa_distribuicao_emissao",
         "type": "\"double\""
        },
        {
         "metadata": "{}",
         "name": "CONCORRENTE_taxa_distribuicao_emissao",
         "type": "\"double\""
        },
        {
         "metadata": "{}",
         "name": "dif_taxa_distribuicao_emissao",
         "type": "\"double\""
        },
        {
         "metadata": "{}",
         "name": "KINEA_quantidade_cotas_totais",
         "type": "\"double\""
        },
        {
         "metadata": "{}",
         "name": "CONCORRENTE_quantidade_cotas_totais",
         "type": "\"double\""
        },
        {
         "metadata": "{}",
         "name": "dif_quantidade_cotas_totais",
         "type": "\"double\""
        },
        {
         "metadata": "{}",
         "name": "KINEA_percentual_oferta_institucional",
         "type": "\"double\""
        },
        {
         "metadata": "{}",
         "name": "CONCORRENTE_percentual_oferta_institucional",
         "type": "\"double\""
        },
        {
         "metadata": "{}",
         "name": "dif_percentual_oferta_institucional",
         "type": "\"double\""
        },
        {
         "metadata": "{}",
         "name": "KINEA_montante_minimo_emissao",
         "type": "\"double\""
        },
        {
         "metadata": "{}",
         "name": "CONCORRENTE_montante_minimo_emissao",
         "type": "\"double\""
        },
        {
         "metadata": "{}",
         "name": "dif_montante_minimo_emissao",
         "type": "\"double\""
        },
        {
         "metadata": "{}",
         "name": "KINEA_chamada_capital_ipca_flag",
         "type": "\"double\""
        },
        {
         "metadata": "{}",
         "name": "CONCORRENTE_chamada_capital_ipca_flag",
         "type": "\"double\""
        },
        {
         "metadata": "{}",
         "name": "dif_chamada_capital_ipca_flag",
         "type": "\"double\""
        },
        {
         "metadata": "{}",
         "name": "KINEA_idade_anos",
         "type": "\"double\""
        },
        {
         "metadata": "{}",
         "name": "CONCORRENTE_idade_anos",
         "type": "\"double\""
        },
        {
         "metadata": "{}",
         "name": "dif_idade_anos",
         "type": "\"double\""
        },
        {
         "metadata": "{}",
         "name": "KINEA_volume_total_gestor",
         "type": "\"double\""
        },
        {
         "metadata": "{}",
         "name": "CONCORRENTE_volume_total_gestor",
         "type": "\"double\""
        },
        {
         "metadata": "{}",
         "name": "dif_volume_total_gestor",
         "type": "\"double\""
        },
        {
         "metadata": "{}",
         "name": "KINEA_market_share_gestor",
         "type": "\"double\""
        },
        {
         "metadata": "{}",
         "name": "CONCORRENTE_market_share_gestor",
         "type": "\"double\""
        },
        {
         "metadata": "{}",
         "name": "dif_market_share_gestor",
         "type": "\"double\""
        }
       ],
       "type": "table"
      }
     },
     "output_type": "display_data"
    }
   ],
   "source": [
    "\n",
    "tipos_fundo = [\"fidc\", \"fii\", \"fip\"]\n",
    "\n",
    "# Itera sobre a lista e aplica a classe\n",
    "resultados = {}\n",
    "for tipo in tipos_fundo:\n",
    "    # Carrega o DataFrame do tipo de fundo\n",
    "    df_fundo = spark.table(f\"desafio_kinea.prospecto_fundos.resultados_cluster_{tipo}\")\n",
    "    \n",
    "    # Aplica a classe\n",
    "    kcc = KineaClusterComparisonFull(df_fundo)\n",
    "    resultados[tipo] = kcc.run()\n",
    "\n",
    "# Visualizando\n",
    "for tipo in tipos_fundo:\n",
    "    display(resultados[tipo])"
   ]
  },
  {
   "cell_type": "code",
   "execution_count": 0,
   "metadata": {
    "application/vnd.databricks.v1+cell": {
     "cellMetadata": {
      "byteLimit": 2048000,
      "rowLimit": 10000
     },
     "collapsed": true,
     "inputWidgets": {},
     "nuid": "4bc75c90-d18b-4d49-94ea-18d3564cef69",
     "showTitle": false,
     "tableResultSettingsMap": {},
     "title": ""
    }
   },
   "outputs": [],
   "source": [
    "for tipo in tipos_fundo:\n",
    "    # Recupera o DataFrame de clusters para o tipo de fundo\n",
    "    df_analise = resultados[tipo]\n",
    "\n",
    "    # Salva o DataFrame resultante no schema especificado, substituindo se já existir\n",
    "    tabela = f\"desafio_kinea.prospecto_fundos.analise_cluster_kinea_conjunto_{tipo.lower()}\"\n",
    "    df_analise.write.mode(\"overwrite\").option(\"overwriteSchema\", \"true\").saveAsTable(tabela)"
   ]
  },
  {
   "cell_type": "markdown",
   "metadata": {
    "application/vnd.databricks.v1+cell": {
     "cellMetadata": {},
     "inputWidgets": {},
     "nuid": "872cc630-73fc-4465-aec1-f53da1e195a7",
     "showTitle": false,
     "tableResultSettingsMap": {},
     "title": ""
    }
   },
   "source": [
    "Avaliando performance **individual** dos fundos KINEA em comparação aos fundos concorrentes:"
   ]
  },
  {
   "cell_type": "code",
   "execution_count": 0,
   "metadata": {
    "application/vnd.databricks.v1+cell": {
     "cellMetadata": {
      "byteLimit": 2048000,
      "rowLimit": 10000
     },
     "inputWidgets": {},
     "nuid": "7cb49f8c-724b-419e-a8c8-4d16a48496dd",
     "showTitle": false,
     "tableResultSettingsMap": {},
     "title": ""
    }
   },
   "outputs": [],
   "source": [
    "from pyspark.sql import functions as F\n",
    "from pyspark.sql.window import Window\n",
    "\n",
    "class KineaPerformance:\n",
    "    \"\"\"\n",
    "    Classe para análise de performance individual dos fundos KINEA em relação à média dos clusters.\n",
    "    Realiza carregamento de dados, preparação de colunas auxiliares, cálculo de métricas operacionais e financeiras,\n",
    "    comparação das métricas dos fundos KINEA com a média do cluster e cálculo do market share.\n",
    "    \"\"\"\n",
    "\n",
    "    def __init__(self, spark, tipo_fundo: str):\n",
    "        \"\"\"\n",
    "        Inicializa a classe com o objeto Spark e o tipo de fundo.\n",
    "        :param spark: sessão Spark ativa\n",
    "        :param tipo_fundo: tipo de fundo a ser analisado (ex: 'fidc', 'fii', 'fip')\n",
    "        \"\"\"\n",
    "        self.spark = spark\n",
    "        self.tipo_fundo = tipo_fundo.lower()\n",
    "        self.df = None\n",
    "        self.result_df = None\n",
    "\n",
    "    def load_data(self):\n",
    "        \"\"\"\n",
    "        Carrega os dados do cluster para o tipo de fundo especificado.\n",
    "        \"\"\"\n",
    "        path = f\"desafio_kinea.prospecto_fundos.resultados_cluster_{self.tipo_fundo}\"\n",
    "        self.df = self.spark.table(path)\n",
    "\n",
    "    def prepare_columns(self):\n",
    "        \"\"\"\n",
    "        Prepara colunas auxiliares para análise:\n",
    "        - Idade do fundo em anos (diferença entre hoje e primeira emissão por CNPJ)\n",
    "        - Flag binária para chamada de capital IPCA\n",
    "        - Sharpe do fundo (retorno/volatilidade), se as colunas existirem\n",
    "        \"\"\"\n",
    "        w_cnpj = Window.partitionBy(\"cnpj\")\n",
    "        self.df = self.df.withColumn(\n",
    "            \"idade_anos\",\n",
    "            F.datediff(F.current_date(), F.min(\"data_emissao\").over(w_cnpj)) / 365.25\n",
    "        )\n",
    "        self.df = self.df.withColumn(\n",
    "            \"chamada_capital_ipca_flag\",\n",
    "            F.when(\n",
    "                F.upper(F.coalesce(F.col(\"chamada_capital_ipca\"), F.lit(\"NÃO\"))).like(\"%SIM%\"),\n",
    "                1\n",
    "            ).otherwise(0)\n",
    "        )\n",
    "        if \"retorno_acumulado\" in self.df.columns and \"volatilidade_historica\" in self.df.columns:\n",
    "            self.df = self.df.withColumn(\n",
    "                \"sharpe_ratio_calc\",\n",
    "                F.when(F.col(\"volatilidade_historica\") != 0, F.col(\"retorno_acumulado\") / F.col(\"volatilidade_historica\")).otherwise(0)\n",
    "            )\n",
    "        else:\n",
    "            self.df = self.df.withColumn(\"sharpe_ratio_calc\", F.lit(0))\n",
    "\n",
    "    def calculate_performance(self):\n",
    "        \"\"\"\n",
    "        Calcula métricas operacionais e financeiras dos fundos KINEA e compara com a média do cluster.\n",
    "        - Calcula médias por cluster\n",
    "        - Junta médias do cluster com fundos KINEA\n",
    "        - Calcula diferenças KINEA vs média do cluster\n",
    "        - Calcula market share do fundo\n",
    "        \"\"\"\n",
    "        metrics = [\n",
    "            \"volume_base_emissao\",\n",
    "            \"qt_emissoes\",\n",
    "            \"valor_cota_emissao\",\n",
    "            \"taxa_distribuicao_emissao\",\n",
    "            \"quantidade_cotas_totais\",\n",
    "            \"percentual_oferta_institucional\",\n",
    "            \"montante_minimo_emissao\",\n",
    "            \"chamada_capital_ipca_flag\",\n",
    "            \"sharpe_ratio_calc\",\n",
    "            \"idade_anos\",\n",
    "        ]\n",
    "\n",
    "        financial_metrics = []\n",
    "        if \"retorno_acumulado\" in self.df.columns:\n",
    "            financial_metrics.append(\"retorno_acumulado\")\n",
    "        if \"volatilidade_historica\" in self.df.columns:\n",
    "            financial_metrics.append(\"volatilidade_historica\")\n",
    "\n",
    "        all_metrics = metrics + financial_metrics\n",
    "\n",
    "        cluster_metrics = self.df.groupBy(\"cluster_id_full\").agg(\n",
    "            *[F.mean(m).alias(f\"media_cluster_{m}\") for m in all_metrics],\n",
    "            F.sum(\"volume_base_emissao\").alias(\"volume_total_cluster\")\n",
    "        )\n",
    "\n",
    "        kinea_fundos = self.df.filter(F.upper(F.col(\"tipo_gestor\")) == \"KINEA\")\n",
    "\n",
    "        joined = kinea_fundos.join(cluster_metrics, on=\"cluster_id_full\", how=\"left\")\n",
    "\n",
    "        for m in all_metrics:\n",
    "            joined = joined.withColumn(\n",
    "                f\"{m}_diff\",\n",
    "                F.coalesce(F.col(m), F.lit(0)) - F.coalesce(F.col(f\"media_cluster_{m}\"), F.lit(0))\n",
    "            )\n",
    "\n",
    "        joined = joined.withColumn(\n",
    "            \"market_share_fundo\",\n",
    "            (F.col(\"volume_base_emissao\") / F.col(\"volume_total_cluster\") * 100)\n",
    "        ).withColumn(\n",
    "            \"dif_market_share\",\n",
    "            F.col(\"market_share_fundo\") - (F.col(\"media_cluster_volume_base_emissao\") / F.col(\"volume_total_cluster\") * 100)\n",
    "        )\n",
    "\n",
    "        select_cols = [\"cnpj\", \"nome_fundo\", \"cluster_id_full\"]\n",
    "        for m in all_metrics:\n",
    "            select_cols += [m, f\"media_cluster_{m}\", f\"{m}_diff\"]\n",
    "        select_cols += [\"volume_total_cluster\", \"market_share_fundo\", \"dif_market_share\"]\n",
    "\n",
    "        self.result_df = joined.select(*select_cols)\n",
    "\n",
    "    def run(self):\n",
    "        \"\"\"\n",
    "        Executa o pipeline de análise: carrega dados, prepara colunas e calcula performance.\n",
    "        :return: DataFrame final com métricas individuais dos fundos KINEA e comparação com o cluster\n",
    "        \"\"\"\n",
    "        self.load_data()\n",
    "        self.prepare_columns()\n",
    "        self.calculate_performance()\n",
    "        return self.result_df"
   ]
  },
  {
   "cell_type": "code",
   "execution_count": 0,
   "metadata": {
    "application/vnd.databricks.v1+cell": {
     "cellMetadata": {
      "byteLimit": 2048000,
      "rowLimit": 10000
     },
     "collapsed": true,
     "inputWidgets": {},
     "nuid": "25a34a37-0269-4143-b159-56c50718aecf",
     "showTitle": false,
     "tableResultSettingsMap": {
      "0": {
       "dataGridStateBlob": "{\"version\":1,\"tableState\":{\"columnPinning\":{\"left\":[\"#row_number#\"],\"right\":[]},\"columnSizing\":{},\"columnVisibility\":{}},\"settings\":{\"columns\":{}},\"syncTimestamp\":1755191717370}",
       "filterBlob": null,
       "queryPlanFiltersBlob": null,
       "tableResultIndex": 0
      }
     },
     "title": ""
    }
   },
   "outputs": [
    {
     "output_type": "stream",
     "name": "stdout",
     "output_type": "stream",
     "text": [
      "=== FIDC ===\n"
     ]
    },
    {
     "output_type": "display_data",
     "data": {
      "text/html": [
       "<style scoped>\n",
       "  .table-result-container {\n",
       "    max-height: 300px;\n",
       "    overflow: auto;\n",
       "  }\n",
       "  table, th, td {\n",
       "    border: 1px solid black;\n",
       "    border-collapse: collapse;\n",
       "  }\n",
       "  th, td {\n",
       "    padding: 5px;\n",
       "  }\n",
       "  th {\n",
       "    text-align: left;\n",
       "  }\n",
       "</style><div class='table-result-container'><table class='table-result'><thead style='background-color: white'><tr><th>cnpj</th><th>nome_fundo</th><th>cluster_id_full</th><th>volume_base_emissao</th><th>media_cluster_volume_base_emissao</th><th>volume_base_emissao_diff</th><th>qt_emissoes</th><th>media_cluster_qt_emissoes</th><th>qt_emissoes_diff</th><th>valor_cota_emissao</th><th>media_cluster_valor_cota_emissao</th><th>valor_cota_emissao_diff</th><th>taxa_distribuicao_emissao</th><th>media_cluster_taxa_distribuicao_emissao</th><th>taxa_distribuicao_emissao_diff</th><th>quantidade_cotas_totais</th><th>media_cluster_quantidade_cotas_totais</th><th>quantidade_cotas_totais_diff</th><th>percentual_oferta_institucional</th><th>media_cluster_percentual_oferta_institucional</th><th>percentual_oferta_institucional_diff</th><th>montante_minimo_emissao</th><th>media_cluster_montante_minimo_emissao</th><th>montante_minimo_emissao_diff</th><th>chamada_capital_ipca_flag</th><th>media_cluster_chamada_capital_ipca_flag</th><th>chamada_capital_ipca_flag_diff</th><th>sharpe_ratio_calc</th><th>media_cluster_sharpe_ratio_calc</th><th>sharpe_ratio_calc_diff</th><th>idade_anos</th><th>media_cluster_idade_anos</th><th>idade_anos_diff</th><th>retorno_acumulado</th><th>media_cluster_retorno_acumulado</th><th>retorno_acumulado_diff</th><th>volatilidade_historica</th><th>media_cluster_volatilidade_historica</th><th>volatilidade_historica_diff</th><th>volume_total_cluster</th><th>market_share_fundo</th><th>dif_market_share</th></tr></thead><tbody><tr><td>26324298000189</td><td>KINEA INFRA - FUNDO DE INVESTIMENTO EM COTAS DE FUNDOS INCENTIVADOS DE INVESTIMENTO EM INFRAESTRUTURA RENDA FIXA CRÉDITO PRIVADO</td><td>FIDC_0</td><td>3.52539168E8</td><td>6.888972216494845E7</td><td>2.8364944583505154E8</td><td>6.0</td><td>1.5285714285714285</td><td>4.4714285714285715</td><td>134.84</td><td>15042.994809365879</td><td>-14908.154813027988</td><td>null</td><td>0.009999999776482582</td><td>-0.009999999776482582</td><td>3137400.0</td><td>1878417.7303166564</td><td>1258982.2696833436</td><td>null</td><td>80.0</td><td>-80.0</td><td>2.0145096E7</td><td>4434352.907563025</td><td>1.5710743092436975E7</td><td>0</td><td>0.0</td><td>0.0</td><td>-0.11389431424361345</td><td>0.015993279174120377</td><td>-0.12988759341773382</td><td>8.971937029431896</td><td>6.313613813156671</td><td>2.6583232162752246</td><td>-0.01976334689172865</td><td>3.930106144329301</td><td>-3.9498694912210297</td><td>0.17352356017927267</td><td>3.2175234137199147</td><td>-3.043999853540642</td><td>6.68230305E9</td><td>5.275713558067379</td><td>4.244785723015832</td></tr><tr><td>60431592000128</td><td>FUNDO DE INVESTIMENTO EM DIREITOS CREDITÓRIOS KINEA CRÉDITO ESTRUTURADO RESPONSABILIDADE LIMITADA</td><td>FIDC_0</td><td>5.0E8</td><td>6.888972216494845E7</td><td>4.3111027783505154E8</td><td>1.0</td><td>1.5285714285714285</td><td>-0.5285714285714285</td><td>100.0</td><td>15042.994809365879</td><td>-14942.994809365879</td><td>null</td><td>0.009999999776482582</td><td>-0.009999999776482582</td><td>6250000.0</td><td>1878417.7303166564</td><td>4371582.269683343</td><td>null</td><td>80.0</td><td>-80.0</td><td>3.0E7</td><td>4434352.907563025</td><td>2.5565647092436977E7</td><td>0</td><td>0.0</td><td>0.0</td><td>0.0</td><td>0.015993279174120377</td><td>-0.015993279174120377</td><td>0.2655715263518138</td><td>6.313613813156671</td><td>-6.048042286804857</td><td>null</td><td>3.930106144329301</td><td>-3.930106144329301</td><td>null</td><td>3.2175234137199147</td><td>-3.2175234137199147</td><td>6.68230305E9</td><td>7.482450230987355</td><td>6.451522395935808</td></tr></tbody></table></div>"
      ]
     },
     "metadata": {
      "application/vnd.databricks.v1+output": {
       "addedWidgets": {},
       "aggData": [],
       "aggError": "",
       "aggOverflow": false,
       "aggSchema": [],
       "aggSeriesLimitReached": false,
       "aggType": "",
       "arguments": {},
       "columnCustomDisplayInfos": {},
       "data": [
        [
         "26324298000189",
         "KINEA INFRA - FUNDO DE INVESTIMENTO EM COTAS DE FUNDOS INCENTIVADOS DE INVESTIMENTO EM INFRAESTRUTURA RENDA FIXA CRÉDITO PRIVADO",
         "FIDC_0",
         3.52539168E8,
         6.888972216494845E7,
         2.8364944583505154E8,
         6.0,
         1.5285714285714285,
         4.4714285714285715,
         134.84,
         15042.994809365879,
         -14908.154813027988,
         null,
         0.009999999776482582,
         -0.009999999776482582,
         3137400.0,
         1878417.7303166564,
         1258982.2696833436,
         null,
         80.0,
         -80.0,
         2.0145096E7,
         4434352.907563025,
         1.5710743092436975E7,
         0,
         0.0,
         0.0,
         -0.11389431424361345,
         0.015993279174120377,
         -0.12988759341773382,
         8.971937029431896,
         6.313613813156671,
         2.6583232162752246,
         -0.01976334689172865,
         3.930106144329301,
         -3.9498694912210297,
         0.17352356017927267,
         3.2175234137199147,
         -3.043999853540642,
         6.68230305E9,
         5.275713558067379,
         4.244785723015832
        ],
        [
         "60431592000128",
         "FUNDO DE INVESTIMENTO EM DIREITOS CREDITÓRIOS KINEA CRÉDITO ESTRUTURADO RESPONSABILIDADE LIMITADA",
         "FIDC_0",
         5.0E8,
         6.888972216494845E7,
         4.3111027783505154E8,
         1.0,
         1.5285714285714285,
         -0.5285714285714285,
         100.0,
         15042.994809365879,
         -14942.994809365879,
         null,
         0.009999999776482582,
         -0.009999999776482582,
         6250000.0,
         1878417.7303166564,
         4371582.269683343,
         null,
         80.0,
         -80.0,
         3.0E7,
         4434352.907563025,
         2.5565647092436977E7,
         0,
         0.0,
         0.0,
         0.0,
         0.015993279174120377,
         -0.015993279174120377,
         0.2655715263518138,
         6.313613813156671,
         -6.048042286804857,
         null,
         3.930106144329301,
         -3.930106144329301,
         null,
         3.2175234137199147,
         -3.2175234137199147,
         6.68230305E9,
         7.482450230987355,
         6.451522395935808
        ]
       ],
       "datasetInfos": [],
       "dbfsResultPath": null,
       "isJsonSchema": true,
       "metadata": {},
       "overflow": false,
       "plotOptions": {
        "customPlotOptions": {},
        "displayType": "table",
        "pivotAggregation": null,
        "pivotColumns": null,
        "xColumns": null,
        "yColumns": null
       },
       "removedWidgets": [],
       "schema": [
        {
         "metadata": "{}",
         "name": "cnpj",
         "type": "\"string\""
        },
        {
         "metadata": "{}",
         "name": "nome_fundo",
         "type": "\"string\""
        },
        {
         "metadata": "{}",
         "name": "cluster_id_full",
         "type": "\"string\""
        },
        {
         "metadata": "{}",
         "name": "volume_base_emissao",
         "type": "\"float\""
        },
        {
         "metadata": "{}",
         "name": "media_cluster_volume_base_emissao",
         "type": "\"double\""
        },
        {
         "metadata": "{}",
         "name": "volume_base_emissao_diff",
         "type": "\"double\""
        },
        {
         "metadata": "{}",
         "name": "qt_emissoes",
         "type": "\"float\""
        },
        {
         "metadata": "{}",
         "name": "media_cluster_qt_emissoes",
         "type": "\"double\""
        },
        {
         "metadata": "{}",
         "name": "qt_emissoes_diff",
         "type": "\"double\""
        },
        {
         "metadata": "{}",
         "name": "valor_cota_emissao",
         "type": "\"float\""
        },
        {
         "metadata": "{}",
         "name": "media_cluster_valor_cota_emissao",
         "type": "\"double\""
        },
        {
         "metadata": "{}",
         "name": "valor_cota_emissao_diff",
         "type": "\"double\""
        },
        {
         "metadata": "{}",
         "name": "taxa_distribuicao_emissao",
         "type": "\"float\""
        },
        {
         "metadata": "{}",
         "name": "media_cluster_taxa_distribuicao_emissao",
         "type": "\"double\""
        },
        {
         "metadata": "{}",
         "name": "taxa_distribuicao_emissao_diff",
         "type": "\"double\""
        },
        {
         "metadata": "{}",
         "name": "quantidade_cotas_totais",
         "type": "\"float\""
        },
        {
         "metadata": "{}",
         "name": "media_cluster_quantidade_cotas_totais",
         "type": "\"double\""
        },
        {
         "metadata": "{}",
         "name": "quantidade_cotas_totais_diff",
         "type": "\"double\""
        },
        {
         "metadata": "{}",
         "name": "percentual_oferta_institucional",
         "type": "\"float\""
        },
        {
         "metadata": "{}",
         "name": "media_cluster_percentual_oferta_institucional",
         "type": "\"double\""
        },
        {
         "metadata": "{}",
         "name": "percentual_oferta_institucional_diff",
         "type": "\"double\""
        },
        {
         "metadata": "{}",
         "name": "montante_minimo_emissao",
         "type": "\"float\""
        },
        {
         "metadata": "{}",
         "name": "media_cluster_montante_minimo_emissao",
         "type": "\"double\""
        },
        {
         "metadata": "{}",
         "name": "montante_minimo_emissao_diff",
         "type": "\"double\""
        },
        {
         "metadata": "{}",
         "name": "chamada_capital_ipca_flag",
         "type": "\"integer\""
        },
        {
         "metadata": "{}",
         "name": "media_cluster_chamada_capital_ipca_flag",
         "type": "\"double\""
        },
        {
         "metadata": "{}",
         "name": "chamada_capital_ipca_flag_diff",
         "type": "\"double\""
        },
        {
         "metadata": "{}",
         "name": "sharpe_ratio_calc",
         "type": "\"double\""
        },
        {
         "metadata": "{}",
         "name": "media_cluster_sharpe_ratio_calc",
         "type": "\"double\""
        },
        {
         "metadata": "{}",
         "name": "sharpe_ratio_calc_diff",
         "type": "\"double\""
        },
        {
         "metadata": "{}",
         "name": "idade_anos",
         "type": "\"double\""
        },
        {
         "metadata": "{}",
         "name": "media_cluster_idade_anos",
         "type": "\"double\""
        },
        {
         "metadata": "{}",
         "name": "idade_anos_diff",
         "type": "\"double\""
        },
        {
         "metadata": "{}",
         "name": "retorno_acumulado",
         "type": "\"double\""
        },
        {
         "metadata": "{}",
         "name": "media_cluster_retorno_acumulado",
         "type": "\"double\""
        },
        {
         "metadata": "{}",
         "name": "retorno_acumulado_diff",
         "type": "\"double\""
        },
        {
         "metadata": "{}",
         "name": "volatilidade_historica",
         "type": "\"double\""
        },
        {
         "metadata": "{}",
         "name": "media_cluster_volatilidade_historica",
         "type": "\"double\""
        },
        {
         "metadata": "{}",
         "name": "volatilidade_historica_diff",
         "type": "\"double\""
        },
        {
         "metadata": "{}",
         "name": "volume_total_cluster",
         "type": "\"double\""
        },
        {
         "metadata": "{}",
         "name": "market_share_fundo",
         "type": "\"double\""
        },
        {
         "metadata": "{}",
         "name": "dif_market_share",
         "type": "\"double\""
        }
       ],
       "type": "table"
      }
     },
     "output_type": "display_data"
    },
    {
     "output_type": "stream",
     "name": "stdout",
     "output_type": "stream",
     "text": [
      "=== FII ===\n"
     ]
    },
    {
     "output_type": "display_data",
     "data": {
      "text/html": [
       "<style scoped>\n",
       "  .table-result-container {\n",
       "    max-height: 300px;\n",
       "    overflow: auto;\n",
       "  }\n",
       "  table, th, td {\n",
       "    border: 1px solid black;\n",
       "    border-collapse: collapse;\n",
       "  }\n",
       "  th, td {\n",
       "    padding: 5px;\n",
       "  }\n",
       "  th {\n",
       "    text-align: left;\n",
       "  }\n",
       "</style><div class='table-result-container'><table class='table-result'><thead style='background-color: white'><tr><th>cnpj</th><th>nome_fundo</th><th>cluster_id_full</th><th>volume_base_emissao</th><th>media_cluster_volume_base_emissao</th><th>volume_base_emissao_diff</th><th>qt_emissoes</th><th>media_cluster_qt_emissoes</th><th>qt_emissoes_diff</th><th>valor_cota_emissao</th><th>media_cluster_valor_cota_emissao</th><th>valor_cota_emissao_diff</th><th>taxa_distribuicao_emissao</th><th>media_cluster_taxa_distribuicao_emissao</th><th>taxa_distribuicao_emissao_diff</th><th>quantidade_cotas_totais</th><th>media_cluster_quantidade_cotas_totais</th><th>quantidade_cotas_totais_diff</th><th>percentual_oferta_institucional</th><th>media_cluster_percentual_oferta_institucional</th><th>percentual_oferta_institucional_diff</th><th>montante_minimo_emissao</th><th>media_cluster_montante_minimo_emissao</th><th>montante_minimo_emissao_diff</th><th>chamada_capital_ipca_flag</th><th>media_cluster_chamada_capital_ipca_flag</th><th>chamada_capital_ipca_flag_diff</th><th>sharpe_ratio_calc</th><th>media_cluster_sharpe_ratio_calc</th><th>sharpe_ratio_calc_diff</th><th>idade_anos</th><th>media_cluster_idade_anos</th><th>idade_anos_diff</th><th>retorno_acumulado</th><th>media_cluster_retorno_acumulado</th><th>retorno_acumulado_diff</th><th>volatilidade_historica</th><th>media_cluster_volatilidade_historica</th><th>volatilidade_historica_diff</th><th>volume_total_cluster</th><th>market_share_fundo</th><th>dif_market_share</th></tr></thead><tbody><tr><td>12005956000165</td><td>Kinea Renda Imobiliária Fundo de Investimento Imobiliário - FII</td><td>FII_1</td><td>9.1499469E8</td><td>2.5765078614285713E8</td><td>6.573439018571429E8</td><td>8.0</td><td>4.8125</td><td>3.1875</td><td>159.55</td><td>268.32267018953956</td><td>-108.77266713778175</td><td>null</td><td>null</td><td>0.0</td><td>7168557.0</td><td>4605279.125</td><td>2563277.875</td><td>null</td><td>null</td><td>0.0</td><td>9999956.0</td><td>8.0835454E7</td><td>-7.0835498E7</td><td>0</td><td>0.0625</td><td>-0.0625</td><td>-0.2559063981311877</td><td>4.0094186940620675</td><td>-4.2653250921932555</td><td>1.3826146475017111</td><td>11.78798767967146</td><td>-10.405373032169749</td><td>-0.04079614176568025</td><td>590.7735564848814</td><td>-590.8143526266471</td><td>0.15941821722162078</td><td>9.376115433816045</td><td>-9.216697216594424</td><td>3.607111006E9</td><td>25.366413356229273</td><td>18.22355621337213</td></tr><tr><td>16706958000132</td><td>Kinea Rendimentos Imobiliários Fundo de Investimento Imobiliário - FII</td><td>FII_3</td><td>1.99547776E9</td><td>1.24773888E9</td><td>7.4773888E8</td><td>11.0</td><td>6.5</td><td>4.5</td><td>101.49</td><td>100.74499893188477</td><td>0.7449989318847656</td><td>null</td><td>null</td><td>0.0</td><td>2.457727E7</td><td>1.4788635E7</td><td>9788635.0</td><td>null</td><td>null</td><td>0.0</td><td>9977380.0</td><td>9977380.0</td><td>0.0</td><td>0</td><td>0.0</td><td>0.0</td><td>1.4005863723511711</td><td>0.4419673748338391</td><td>0.958618997517332</td><td>0.8076659822039699</td><td>9.273100616016428</td><td>-8.465434633812459</td><td>0.1360068811234736</td><td>0.03252247046923057</td><td>0.10348441065424302</td><td>0.09710710014631813</td><td>0.11722839504551735</td><td>-0.020121294899199227</td><td>2.49547776E9</td><td>79.96375651931275</td><td>29.963756519312753</td></tr><tr><td>24960430000113</td><td>KINEA ÍNDICES DE PREÇOS FUNDO DE INVESTIMENTO IMOBILIÁRIO - FII</td><td>FII_1</td><td>1.21925005E9</td><td>2.5765078614285713E8</td><td>9.615992618571429E8</td><td>10.0</td><td>4.8125</td><td>5.1875</td><td>97.54</td><td>268.32267018953956</td><td>-170.78266927401222</td><td>null</td><td>null</td><td>0.0</td><td>1.5E7</td><td>4605279.125</td><td>1.0394720875E7</td><td>null</td><td>null</td><td>0.0</td><td>1.9508E7</td><td>8.0835454E7</td><td>-6.1327454E7</td><td>0</td><td>0.0625</td><td>-0.0625</td><td>0.32531528715626046</td><td>4.0094186940620675</td><td>-3.684103406905807</td><td>9.259411362080767</td><td>11.78798767967146</td><td>-2.5285763175906926</td><td>0.03224947159942437</td><td>590.7735564848814</td><td>-590.7413070132819</td><td>0.09913297306539981</td><td>9.376115433816045</td><td>-9.276982460750645</td><td>3.607111006E9</td><td>33.80128989576208</td><td>26.65843275290494</td></tr><tr><td>30130708000128</td><td>Kinea High Yield CRI Fundo de Investimento Imobiliário Responsabilidade Limitada</td><td>FII_2</td><td>5.9489997E8</td><td>3.982999573333333E8</td><td>1.966000106666667E8</td><td>7.0</td><td>4.0</td><td>3.0</td><td>99.15</td><td>3400.1366678873696</td><td>-3300.9866663614907</td><td>null</td><td>null</td><td>0.0</td><td>7500000.0</td><td>4561576.0</td><td>2938424.0</td><td>null</td><td>null</td><td>0.0</td><td>9983810.0</td><td>2.9994580333333332E7</td><td>-2.0010770333333332E7</td><td>0</td><td>0.0</td><td>0.0</td><td>0.8216015957544651</td><td>0.466002935853244</td><td>0.35559865990122114</td><td>0.09034907597535935</td><td>0.32306639288158795</td><td>-0.2327173169062286</td><td>0.091775684525508</td><td>0.0797156849687517</td><td>0.012059999556756296</td><td>0.1117033912783868</td><td>0.11453909928921241</td><td>-0.0028357080108256105</td><td>1.194899872E9</td><td>49.78659567552452</td><td>16.453262342191188</td></tr><tr><td>35864448000138</td><td>KINEA SECURITIES FUNDO DE INVESTIMENTO IMOBILIÁRIO - FII</td><td>FII_4</td><td>5.0E8</td><td>2.75235E8</td><td>2.24765E8</td><td>5.0</td><td>5.5</td><td>-0.5</td><td>9.0</td><td>54.5</td><td>-45.5</td><td>null</td><td>null</td><td>0.0</td><td>6.9444448E7</td><td>3.4974574E7</td><td>3.4469874E7</td><td>null</td><td>null</td><td>0.0</td><td>1.0000008E7</td><td>3.0235004E7</td><td>-2.0234996E7</td><td>0</td><td>0.0</td><td>0.0</td><td>0.4402474655757751</td><td>0.6672873233882008</td><td>-0.22703985781242575</td><td>1.0157426420260096</td><td>9.415468856947296</td><td>-8.399726214921287</td><td>0.06616125038983078</td><td>0.10056037559235742</td><td>-0.03439912520252664</td><td>0.15028195631586924</td><td>0.15059406939334918</td><td>-3.121130774799419E-4</td><td>5.5047E8</td><td>90.83147128817193</td><td>40.831471288171926</td></tr><tr><td>42502802000140</td><td>KINEA CREDITAS FUNDO DE INVESTIMENTO IMOBILIÁRIO - FII</td><td>FII_1</td><td>3.0E8</td><td>2.5765078614285713E8</td><td>4.2349213857142866E7</td><td>1.0</td><td>4.8125</td><td>-3.8125</td><td>100.0</td><td>268.32267018953956</td><td>-168.32267018953956</td><td>null</td><td>null</td><td>0.0</td><td>3600000.0</td><td>4605279.125</td><td>-1005279.125</td><td>null</td><td>null</td><td>0.0</td><td>2.0E7</td><td>8.0835454E7</td><td>-6.0835454E7</td><td>0</td><td>0.0625</td><td>-0.0625</td><td>0.009915768635410474</td><td>4.0094186940620675</td><td>-3.999502925426657</td><td>3.3155373032169746</td><td>11.78798767967146</td><td>-8.472450376454486</td><td>0.0016507405005126152</td><td>590.7735564848814</td><td>-590.7719057443809</td><td>0.1664763026657974</td><td>9.376115433816045</td><td>-9.209639131150247</td><td>3.607111006E9</td><td>8.316905121605233</td><td>1.1740479787480904</td></tr><tr><td>42754362000118</td><td>Kinea Unique HY CDI Fundo de Investimento Imobiliário Responsabilidade Limitada</td><td>FII_2</td><td>4.99999904E8</td><td>3.982999573333333E8</td><td>1.0169994666666669E8</td><td>4.0</td><td>4.0</td><td>0.0</td><td>101.26</td><td>3400.1366678873696</td><td>-3298.876665751139</td><td>null</td><td>null</td><td>0.0</td><td>6172228.0</td><td>4561576.0</td><td>1610652.0</td><td>null</td><td>null</td><td>0.0</td><td>9999931.0</td><td>2.9994580333333332E7</td><td>-1.9994649333333332E7</td><td>0</td><td>0.0</td><td>0.0</td><td>0.5764072118052669</td><td>0.466002935853244</td><td>0.1104042759520229</td><td>0.09034907597535935</td><td>0.32306639288158795</td><td>-0.2327173169062286</td><td>0.0676556854119954</td><td>0.0797156849687517</td><td>-0.012059999556756296</td><td>0.11737480730003803</td><td>0.11453909928921241</td><td>0.0028357080108256244</td><td>1.194899872E9</td><td>41.84450226470524</td><td>8.511168931371913</td></tr><tr><td>52219978000142</td><td>KINEA OPORTUNIDADES REAL ESTATE FUNDO DE INVESTIMENTO IMOBILIÁRIO</td><td>FII_1</td><td>7.7E8</td><td>2.5765078614285713E8</td><td>5.1234921385714287E8</td><td>1.0</td><td>4.8125</td><td>-3.8125</td><td>100.0</td><td>268.32267018953956</td><td>-168.32267018953956</td><td>null</td><td>null</td><td>0.0</td><td>9625000.0</td><td>4605279.125</td><td>5019720.875</td><td>null</td><td>null</td><td>0.0</td><td>6.13E8</td><td>8.0835454E7</td><td>5.32164546E8</td><td>0</td><td>0.0625</td><td>-0.0625</td><td>-0.7494086190351291</td><td>4.0094186940620675</td><td>-4.758827313097196</td><td>1.7166324435318274</td><td>11.78798767967146</td><td>-10.071355236139633</td><td>-0.17780239336300052</td><td>590.7735564848814</td><td>-590.9513588782444</td><td>0.23725693679894266</td><td>9.376115433816045</td><td>-9.138858497017102</td><td>3.607111006E9</td><td>21.346723145453428</td><td>14.203866002596286</td></tr><tr><td>57683576000118</td><td>KINEA PRIME RESIDENCIAL I FUNDO DE INVESTIMENTO IMOBILIÁRIO RESPONSABILIDADE LIMITADA</td><td>FII_2</td><td>1.0E8</td><td>3.982999573333333E8</td><td>-2.982999573333333E8</td><td>1.0</td><td>4.0</td><td>-3.0</td><td>10000.0</td><td>3400.1366678873696</td><td>6599.863332112631</td><td>null</td><td>null</td><td>0.0</td><td>12500.0</td><td>4561576.0</td><td>-4549076.0</td><td>null</td><td>null</td><td>0.0</td><td>7.0E7</td><td>2.9994580333333332E7</td><td>4.000541966666667E7</td><td>0</td><td>0.0</td><td>0.0</td><td>0.0</td><td>0.466002935853244</td><td>-0.466002935853244</td><td>0.7885010266940452</td><td>0.32306639288158795</td><td>0.46543463381245725</td><td>null</td><td>0.0797156849687517</td><td>-0.0797156849687517</td><td>null</td><td>0.11453909928921241</td><td>-0.11453909928921241</td><td>1.194899872E9</td><td>8.368902059770242</td><td>-24.964431273563086</td></tr><tr><td>61305996000138</td><td>KINEA DESENVOLVIMENTO GUARARÁ JARDINS FUNDO DE INVESTIMENTO IMOBILIÁRIO RESPONSABILIDADE LIMITADA</td><td>FII_1</td><td>5.0E7</td><td>2.5765078614285713E8</td><td>-2.0765078614285713E8</td><td>1.0</td><td>4.8125</td><td>-3.8125</td><td>10.0</td><td>268.32267018953956</td><td>-258.32267018953956</td><td>null</td><td>null</td><td>0.0</td><td>6250000.0</td><td>4605279.125</td><td>1644720.875</td><td>null</td><td>null</td><td>0.0</td><td>3.5E7</td><td>8.0835454E7</td><td>-4.5835454E7</td><td>1</td><td>0.0625</td><td>0.9375</td><td>0.0</td><td>4.0094186940620675</td><td>-4.0094186940620675</td><td>0.13689253935660506</td><td>11.78798767967146</td><td>-11.651095140314855</td><td>null</td><td>590.7735564848814</td><td>-590.7735564848814</td><td>null</td><td>9.376115433816045</td><td>-9.376115433816045</td><td>3.607111006E9</td><td>1.386150853600872</td><td>-5.75670628925627</td></tr></tbody></table></div>"
      ]
     },
     "metadata": {
      "application/vnd.databricks.v1+output": {
       "addedWidgets": {},
       "aggData": [],
       "aggError": "",
       "aggOverflow": false,
       "aggSchema": [],
       "aggSeriesLimitReached": false,
       "aggType": "",
       "arguments": {},
       "columnCustomDisplayInfos": {},
       "data": [
        [
         "12005956000165",
         "Kinea Renda Imobiliária Fundo de Investimento Imobiliário - FII",
         "FII_1",
         9.1499469E8,
         2.5765078614285713E8,
         6.573439018571429E8,
         8.0,
         4.8125,
         3.1875,
         159.55,
         268.32267018953956,
         -108.77266713778175,
         null,
         null,
         0.0,
         7168557.0,
         4605279.125,
         2563277.875,
         null,
         null,
         0.0,
         9999956.0,
         8.0835454E7,
         -7.0835498E7,
         0,
         0.0625,
         -0.0625,
         -0.2559063981311877,
         4.0094186940620675,
         -4.2653250921932555,
         1.3826146475017111,
         11.78798767967146,
         -10.405373032169749,
         -0.04079614176568025,
         590.7735564848814,
         -590.8143526266471,
         0.15941821722162078,
         9.376115433816045,
         -9.216697216594424,
         3.607111006E9,
         25.366413356229273,
         18.22355621337213
        ],
        [
         "16706958000132",
         "Kinea Rendimentos Imobiliários Fundo de Investimento Imobiliário - FII",
         "FII_3",
         1.99547776E9,
         1.24773888E9,
         7.4773888E8,
         11.0,
         6.5,
         4.5,
         101.49,
         100.74499893188477,
         0.7449989318847656,
         null,
         null,
         0.0,
         2.457727E7,
         1.4788635E7,
         9788635.0,
         null,
         null,
         0.0,
         9977380.0,
         9977380.0,
         0.0,
         0,
         0.0,
         0.0,
         1.4005863723511711,
         0.4419673748338391,
         0.958618997517332,
         0.8076659822039699,
         9.273100616016428,
         -8.465434633812459,
         0.1360068811234736,
         0.03252247046923057,
         0.10348441065424302,
         0.09710710014631813,
         0.11722839504551735,
         -0.020121294899199227,
         2.49547776E9,
         79.96375651931275,
         29.963756519312753
        ],
        [
         "24960430000113",
         "KINEA ÍNDICES DE PREÇOS FUNDO DE INVESTIMENTO IMOBILIÁRIO - FII",
         "FII_1",
         1.21925005E9,
         2.5765078614285713E8,
         9.615992618571429E8,
         10.0,
         4.8125,
         5.1875,
         97.54,
         268.32267018953956,
         -170.78266927401222,
         null,
         null,
         0.0,
         1.5E7,
         4605279.125,
         1.0394720875E7,
         null,
         null,
         0.0,
         1.9508E7,
         8.0835454E7,
         -6.1327454E7,
         0,
         0.0625,
         -0.0625,
         0.32531528715626046,
         4.0094186940620675,
         -3.684103406905807,
         9.259411362080767,
         11.78798767967146,
         -2.5285763175906926,
         0.03224947159942437,
         590.7735564848814,
         -590.7413070132819,
         0.09913297306539981,
         9.376115433816045,
         -9.276982460750645,
         3.607111006E9,
         33.80128989576208,
         26.65843275290494
        ],
        [
         "30130708000128",
         "Kinea High Yield CRI Fundo de Investimento Imobiliário Responsabilidade Limitada",
         "FII_2",
         5.9489997E8,
         3.982999573333333E8,
         1.966000106666667E8,
         7.0,
         4.0,
         3.0,
         99.15,
         3400.1366678873696,
         -3300.9866663614907,
         null,
         null,
         0.0,
         7500000.0,
         4561576.0,
         2938424.0,
         null,
         null,
         0.0,
         9983810.0,
         2.9994580333333332E7,
         -2.0010770333333332E7,
         0,
         0.0,
         0.0,
         0.8216015957544651,
         0.466002935853244,
         0.35559865990122114,
         0.09034907597535935,
         0.32306639288158795,
         -0.2327173169062286,
         0.091775684525508,
         0.0797156849687517,
         0.012059999556756296,
         0.1117033912783868,
         0.11453909928921241,
         -0.0028357080108256105,
         1.194899872E9,
         49.78659567552452,
         16.453262342191188
        ],
        [
         "35864448000138",
         "KINEA SECURITIES FUNDO DE INVESTIMENTO IMOBILIÁRIO - FII",
         "FII_4",
         5.0E8,
         2.75235E8,
         2.24765E8,
         5.0,
         5.5,
         -0.5,
         9.0,
         54.5,
         -45.5,
         null,
         null,
         0.0,
         6.9444448E7,
         3.4974574E7,
         3.4469874E7,
         null,
         null,
         0.0,
         1.0000008E7,
         3.0235004E7,
         -2.0234996E7,
         0,
         0.0,
         0.0,
         0.4402474655757751,
         0.6672873233882008,
         -0.22703985781242575,
         1.0157426420260096,
         9.415468856947296,
         -8.399726214921287,
         0.06616125038983078,
         0.10056037559235742,
         -0.03439912520252664,
         0.15028195631586924,
         0.15059406939334918,
         -3.121130774799419E-4,
         5.5047E8,
         90.83147128817193,
         40.831471288171926
        ],
        [
         "42502802000140",
         "KINEA CREDITAS FUNDO DE INVESTIMENTO IMOBILIÁRIO - FII",
         "FII_1",
         3.0E8,
         2.5765078614285713E8,
         4.2349213857142866E7,
         1.0,
         4.8125,
         -3.8125,
         100.0,
         268.32267018953956,
         -168.32267018953956,
         null,
         null,
         0.0,
         3600000.0,
         4605279.125,
         -1005279.125,
         null,
         null,
         0.0,
         2.0E7,
         8.0835454E7,
         -6.0835454E7,
         0,
         0.0625,
         -0.0625,
         0.009915768635410474,
         4.0094186940620675,
         -3.999502925426657,
         3.3155373032169746,
         11.78798767967146,
         -8.472450376454486,
         0.0016507405005126152,
         590.7735564848814,
         -590.7719057443809,
         0.1664763026657974,
         9.376115433816045,
         -9.209639131150247,
         3.607111006E9,
         8.316905121605233,
         1.1740479787480904
        ],
        [
         "42754362000118",
         "Kinea Unique HY CDI Fundo de Investimento Imobiliário Responsabilidade Limitada",
         "FII_2",
         4.99999904E8,
         3.982999573333333E8,
         1.0169994666666669E8,
         4.0,
         4.0,
         0.0,
         101.26,
         3400.1366678873696,
         -3298.876665751139,
         null,
         null,
         0.0,
         6172228.0,
         4561576.0,
         1610652.0,
         null,
         null,
         0.0,
         9999931.0,
         2.9994580333333332E7,
         -1.9994649333333332E7,
         0,
         0.0,
         0.0,
         0.5764072118052669,
         0.466002935853244,
         0.1104042759520229,
         0.09034907597535935,
         0.32306639288158795,
         -0.2327173169062286,
         0.0676556854119954,
         0.0797156849687517,
         -0.012059999556756296,
         0.11737480730003803,
         0.11453909928921241,
         0.0028357080108256244,
         1.194899872E9,
         41.84450226470524,
         8.511168931371913
        ],
        [
         "52219978000142",
         "KINEA OPORTUNIDADES REAL ESTATE FUNDO DE INVESTIMENTO IMOBILIÁRIO",
         "FII_1",
         7.7E8,
         2.5765078614285713E8,
         5.1234921385714287E8,
         1.0,
         4.8125,
         -3.8125,
         100.0,
         268.32267018953956,
         -168.32267018953956,
         null,
         null,
         0.0,
         9625000.0,
         4605279.125,
         5019720.875,
         null,
         null,
         0.0,
         6.13E8,
         8.0835454E7,
         5.32164546E8,
         0,
         0.0625,
         -0.0625,
         -0.7494086190351291,
         4.0094186940620675,
         -4.758827313097196,
         1.7166324435318274,
         11.78798767967146,
         -10.071355236139633,
         -0.17780239336300052,
         590.7735564848814,
         -590.9513588782444,
         0.23725693679894266,
         9.376115433816045,
         -9.138858497017102,
         3.607111006E9,
         21.346723145453428,
         14.203866002596286
        ],
        [
         "57683576000118",
         "KINEA PRIME RESIDENCIAL I FUNDO DE INVESTIMENTO IMOBILIÁRIO RESPONSABILIDADE LIMITADA",
         "FII_2",
         1.0E8,
         3.982999573333333E8,
         -2.982999573333333E8,
         1.0,
         4.0,
         -3.0,
         10000.0,
         3400.1366678873696,
         6599.863332112631,
         null,
         null,
         0.0,
         12500.0,
         4561576.0,
         -4549076.0,
         null,
         null,
         0.0,
         7.0E7,
         2.9994580333333332E7,
         4.000541966666667E7,
         0,
         0.0,
         0.0,
         0.0,
         0.466002935853244,
         -0.466002935853244,
         0.7885010266940452,
         0.32306639288158795,
         0.46543463381245725,
         null,
         0.0797156849687517,
         -0.0797156849687517,
         null,
         0.11453909928921241,
         -0.11453909928921241,
         1.194899872E9,
         8.368902059770242,
         -24.964431273563086
        ],
        [
         "61305996000138",
         "KINEA DESENVOLVIMENTO GUARARÁ JARDINS FUNDO DE INVESTIMENTO IMOBILIÁRIO RESPONSABILIDADE LIMITADA",
         "FII_1",
         5.0E7,
         2.5765078614285713E8,
         -2.0765078614285713E8,
         1.0,
         4.8125,
         -3.8125,
         10.0,
         268.32267018953956,
         -258.32267018953956,
         null,
         null,
         0.0,
         6250000.0,
         4605279.125,
         1644720.875,
         null,
         null,
         0.0,
         3.5E7,
         8.0835454E7,
         -4.5835454E7,
         1,
         0.0625,
         0.9375,
         0.0,
         4.0094186940620675,
         -4.0094186940620675,
         0.13689253935660506,
         11.78798767967146,
         -11.651095140314855,
         null,
         590.7735564848814,
         -590.7735564848814,
         null,
         9.376115433816045,
         -9.376115433816045,
         3.607111006E9,
         1.386150853600872,
         -5.75670628925627
        ]
       ],
       "datasetInfos": [],
       "dbfsResultPath": null,
       "isJsonSchema": true,
       "metadata": {},
       "overflow": false,
       "plotOptions": {
        "customPlotOptions": {},
        "displayType": "table",
        "pivotAggregation": null,
        "pivotColumns": null,
        "xColumns": null,
        "yColumns": null
       },
       "removedWidgets": [],
       "schema": [
        {
         "metadata": "{}",
         "name": "cnpj",
         "type": "\"string\""
        },
        {
         "metadata": "{}",
         "name": "nome_fundo",
         "type": "\"string\""
        },
        {
         "metadata": "{}",
         "name": "cluster_id_full",
         "type": "\"string\""
        },
        {
         "metadata": "{}",
         "name": "volume_base_emissao",
         "type": "\"float\""
        },
        {
         "metadata": "{}",
         "name": "media_cluster_volume_base_emissao",
         "type": "\"double\""
        },
        {
         "metadata": "{}",
         "name": "volume_base_emissao_diff",
         "type": "\"double\""
        },
        {
         "metadata": "{}",
         "name": "qt_emissoes",
         "type": "\"float\""
        },
        {
         "metadata": "{}",
         "name": "media_cluster_qt_emissoes",
         "type": "\"double\""
        },
        {
         "metadata": "{}",
         "name": "qt_emissoes_diff",
         "type": "\"double\""
        },
        {
         "metadata": "{}",
         "name": "valor_cota_emissao",
         "type": "\"float\""
        },
        {
         "metadata": "{}",
         "name": "media_cluster_valor_cota_emissao",
         "type": "\"double\""
        },
        {
         "metadata": "{}",
         "name": "valor_cota_emissao_diff",
         "type": "\"double\""
        },
        {
         "metadata": "{}",
         "name": "taxa_distribuicao_emissao",
         "type": "\"float\""
        },
        {
         "metadata": "{}",
         "name": "media_cluster_taxa_distribuicao_emissao",
         "type": "\"double\""
        },
        {
         "metadata": "{}",
         "name": "taxa_distribuicao_emissao_diff",
         "type": "\"double\""
        },
        {
         "metadata": "{}",
         "name": "quantidade_cotas_totais",
         "type": "\"float\""
        },
        {
         "metadata": "{}",
         "name": "media_cluster_quantidade_cotas_totais",
         "type": "\"double\""
        },
        {
         "metadata": "{}",
         "name": "quantidade_cotas_totais_diff",
         "type": "\"double\""
        },
        {
         "metadata": "{}",
         "name": "percentual_oferta_institucional",
         "type": "\"float\""
        },
        {
         "metadata": "{}",
         "name": "media_cluster_percentual_oferta_institucional",
         "type": "\"double\""
        },
        {
         "metadata": "{}",
         "name": "percentual_oferta_institucional_diff",
         "type": "\"double\""
        },
        {
         "metadata": "{}",
         "name": "montante_minimo_emissao",
         "type": "\"float\""
        },
        {
         "metadata": "{}",
         "name": "media_cluster_montante_minimo_emissao",
         "type": "\"double\""
        },
        {
         "metadata": "{}",
         "name": "montante_minimo_emissao_diff",
         "type": "\"double\""
        },
        {
         "metadata": "{}",
         "name": "chamada_capital_ipca_flag",
         "type": "\"integer\""
        },
        {
         "metadata": "{}",
         "name": "media_cluster_chamada_capital_ipca_flag",
         "type": "\"double\""
        },
        {
         "metadata": "{}",
         "name": "chamada_capital_ipca_flag_diff",
         "type": "\"double\""
        },
        {
         "metadata": "{}",
         "name": "sharpe_ratio_calc",
         "type": "\"double\""
        },
        {
         "metadata": "{}",
         "name": "media_cluster_sharpe_ratio_calc",
         "type": "\"double\""
        },
        {
         "metadata": "{}",
         "name": "sharpe_ratio_calc_diff",
         "type": "\"double\""
        },
        {
         "metadata": "{}",
         "name": "idade_anos",
         "type": "\"double\""
        },
        {
         "metadata": "{}",
         "name": "media_cluster_idade_anos",
         "type": "\"double\""
        },
        {
         "metadata": "{}",
         "name": "idade_anos_diff",
         "type": "\"double\""
        },
        {
         "metadata": "{}",
         "name": "retorno_acumulado",
         "type": "\"double\""
        },
        {
         "metadata": "{}",
         "name": "media_cluster_retorno_acumulado",
         "type": "\"double\""
        },
        {
         "metadata": "{}",
         "name": "retorno_acumulado_diff",
         "type": "\"double\""
        },
        {
         "metadata": "{}",
         "name": "volatilidade_historica",
         "type": "\"double\""
        },
        {
         "metadata": "{}",
         "name": "media_cluster_volatilidade_historica",
         "type": "\"double\""
        },
        {
         "metadata": "{}",
         "name": "volatilidade_historica_diff",
         "type": "\"double\""
        },
        {
         "metadata": "{}",
         "name": "volume_total_cluster",
         "type": "\"double\""
        },
        {
         "metadata": "{}",
         "name": "market_share_fundo",
         "type": "\"double\""
        },
        {
         "metadata": "{}",
         "name": "dif_market_share",
         "type": "\"double\""
        }
       ],
       "type": "table"
      }
     },
     "output_type": "display_data"
    },
    {
     "output_type": "stream",
     "name": "stdout",
     "output_type": "stream",
     "text": [
      "=== FIP ===\n"
     ]
    },
    {
     "output_type": "display_data",
     "data": {
      "text/html": [
       "<style scoped>\n",
       "  .table-result-container {\n",
       "    max-height: 300px;\n",
       "    overflow: auto;\n",
       "  }\n",
       "  table, th, td {\n",
       "    border: 1px solid black;\n",
       "    border-collapse: collapse;\n",
       "  }\n",
       "  th, td {\n",
       "    padding: 5px;\n",
       "  }\n",
       "  th {\n",
       "    text-align: left;\n",
       "  }\n",
       "</style><div class='table-result-container'><table class='table-result'><thead style='background-color: white'><tr><th>cnpj</th><th>nome_fundo</th><th>cluster_id_full</th><th>volume_base_emissao</th><th>media_cluster_volume_base_emissao</th><th>volume_base_emissao_diff</th><th>qt_emissoes</th><th>media_cluster_qt_emissoes</th><th>qt_emissoes_diff</th><th>valor_cota_emissao</th><th>media_cluster_valor_cota_emissao</th><th>valor_cota_emissao_diff</th><th>taxa_distribuicao_emissao</th><th>media_cluster_taxa_distribuicao_emissao</th><th>taxa_distribuicao_emissao_diff</th><th>quantidade_cotas_totais</th><th>media_cluster_quantidade_cotas_totais</th><th>quantidade_cotas_totais_diff</th><th>percentual_oferta_institucional</th><th>media_cluster_percentual_oferta_institucional</th><th>percentual_oferta_institucional_diff</th><th>montante_minimo_emissao</th><th>media_cluster_montante_minimo_emissao</th><th>montante_minimo_emissao_diff</th><th>chamada_capital_ipca_flag</th><th>media_cluster_chamada_capital_ipca_flag</th><th>chamada_capital_ipca_flag_diff</th><th>sharpe_ratio_calc</th><th>media_cluster_sharpe_ratio_calc</th><th>sharpe_ratio_calc_diff</th><th>idade_anos</th><th>media_cluster_idade_anos</th><th>idade_anos_diff</th><th>retorno_acumulado</th><th>media_cluster_retorno_acumulado</th><th>retorno_acumulado_diff</th><th>volatilidade_historica</th><th>media_cluster_volatilidade_historica</th><th>volatilidade_historica_diff</th><th>volume_total_cluster</th><th>market_share_fundo</th><th>dif_market_share</th></tr></thead><tbody><tr><td>49723694000184</td><td>KINEA EQUITY INFRA I FEEDER INSTITUCIONAL I</td><td>FIP_3</td><td>2.0E8</td><td>9.53330323E7</td><td>1.046669677E8</td><td>3.0</td><td>1.4285714285714286</td><td>1.5714285714285714</td><td>1000.0</td><td>457.4412744556154</td><td>542.5587255443845</td><td>null</td><td>null</td><td>0.0</td><td>250000.0</td><td>7.214719557142857E7</td><td>-7.189719557142857E7</td><td>null</td><td>65.0</td><td>-65.0</td><td>1.0E7</td><td>8.668333333333333E7</td><td>-7.668333333333333E7</td><td>0</td><td>0.0</td><td>0.0</td><td>0.0</td><td>0.0</td><td>0.0</td><td>1.322381930184805</td><td>4.767380463479026</td><td>-3.4449985332942212</td><td>null</td><td>0.0</td><td>0.0</td><td>null</td><td>null</td><td>0.0</td><td>4.766651615E8</td><td>41.95817444904666</td><td>21.95817444904666</td></tr><tr><td>57473619000130</td><td>KINEA ESTRATÉGIA INFRA CDI FUNDO DE INVESTIMENTO EM PARTICIPAÇÕES EM INFRAESTRUTURA RESPONSABILIDADE LIMITADA</td><td>FIP_0</td><td>3.2E8</td><td>3.1709172285714287E8</td><td>2908277.1428571343</td><td>1.0</td><td>1.121212121212121</td><td>-0.1212121212121211</td><td>100.0</td><td>52527.84060694774</td><td>-52427.84060694774</td><td>null</td><td>null</td><td>0.0</td><td>4000000.0</td><td>5.70389237027027E7</td><td>-5.30389237027027E7</td><td>null</td><td>null</td><td>0.0</td><td>1.0E7</td><td>8.412211042424242E7</td><td>-7.412211042424242E7</td><td>0</td><td>0.0</td><td>0.0</td><td>0.23175906155463524</td><td>0.006263758420395547</td><td>0.22549530313423968</td><td>0.8323066392881588</td><td>12.250550345006198</td><td>-11.418243705718039</td><td>0.05440764300397527</td><td>0.05440764300397527</td><td>0.0</td><td>0.23475950687325822</td><td>0.23475950687325822</td><td>0.0</td><td>8.87856824E9</td><td>3.604184721567224</td><td>0.03275615013865263</td></tr></tbody></table></div>"
      ]
     },
     "metadata": {
      "application/vnd.databricks.v1+output": {
       "addedWidgets": {},
       "aggData": [],
       "aggError": "",
       "aggOverflow": false,
       "aggSchema": [],
       "aggSeriesLimitReached": false,
       "aggType": "",
       "arguments": {},
       "columnCustomDisplayInfos": {},
       "data": [
        [
         "49723694000184",
         "KINEA EQUITY INFRA I FEEDER INSTITUCIONAL I",
         "FIP_3",
         2.0E8,
         9.53330323E7,
         1.046669677E8,
         3.0,
         1.4285714285714286,
         1.5714285714285714,
         1000.0,
         457.4412744556154,
         542.5587255443845,
         null,
         null,
         0.0,
         250000.0,
         7.214719557142857E7,
         -7.189719557142857E7,
         null,
         65.0,
         -65.0,
         1.0E7,
         8.668333333333333E7,
         -7.668333333333333E7,
         0,
         0.0,
         0.0,
         0.0,
         0.0,
         0.0,
         1.322381930184805,
         4.767380463479026,
         -3.4449985332942212,
         null,
         0.0,
         0.0,
         null,
         null,
         0.0,
         4.766651615E8,
         41.95817444904666,
         21.95817444904666
        ],
        [
         "57473619000130",
         "KINEA ESTRATÉGIA INFRA CDI FUNDO DE INVESTIMENTO EM PARTICIPAÇÕES EM INFRAESTRUTURA RESPONSABILIDADE LIMITADA",
         "FIP_0",
         3.2E8,
         3.1709172285714287E8,
         2908277.1428571343,
         1.0,
         1.121212121212121,
         -0.1212121212121211,
         100.0,
         52527.84060694774,
         -52427.84060694774,
         null,
         null,
         0.0,
         4000000.0,
         5.70389237027027E7,
         -5.30389237027027E7,
         null,
         null,
         0.0,
         1.0E7,
         8.412211042424242E7,
         -7.412211042424242E7,
         0,
         0.0,
         0.0,
         0.23175906155463524,
         0.006263758420395547,
         0.22549530313423968,
         0.8323066392881588,
         12.250550345006198,
         -11.418243705718039,
         0.05440764300397527,
         0.05440764300397527,
         0.0,
         0.23475950687325822,
         0.23475950687325822,
         0.0,
         8.87856824E9,
         3.604184721567224,
         0.03275615013865263
        ]
       ],
       "datasetInfos": [],
       "dbfsResultPath": null,
       "isJsonSchema": true,
       "metadata": {},
       "overflow": false,
       "plotOptions": {
        "customPlotOptions": {},
        "displayType": "table",
        "pivotAggregation": null,
        "pivotColumns": null,
        "xColumns": null,
        "yColumns": null
       },
       "removedWidgets": [],
       "schema": [
        {
         "metadata": "{}",
         "name": "cnpj",
         "type": "\"string\""
        },
        {
         "metadata": "{}",
         "name": "nome_fundo",
         "type": "\"string\""
        },
        {
         "metadata": "{}",
         "name": "cluster_id_full",
         "type": "\"string\""
        },
        {
         "metadata": "{}",
         "name": "volume_base_emissao",
         "type": "\"float\""
        },
        {
         "metadata": "{}",
         "name": "media_cluster_volume_base_emissao",
         "type": "\"double\""
        },
        {
         "metadata": "{}",
         "name": "volume_base_emissao_diff",
         "type": "\"double\""
        },
        {
         "metadata": "{}",
         "name": "qt_emissoes",
         "type": "\"float\""
        },
        {
         "metadata": "{}",
         "name": "media_cluster_qt_emissoes",
         "type": "\"double\""
        },
        {
         "metadata": "{}",
         "name": "qt_emissoes_diff",
         "type": "\"double\""
        },
        {
         "metadata": "{}",
         "name": "valor_cota_emissao",
         "type": "\"float\""
        },
        {
         "metadata": "{}",
         "name": "media_cluster_valor_cota_emissao",
         "type": "\"double\""
        },
        {
         "metadata": "{}",
         "name": "valor_cota_emissao_diff",
         "type": "\"double\""
        },
        {
         "metadata": "{}",
         "name": "taxa_distribuicao_emissao",
         "type": "\"float\""
        },
        {
         "metadata": "{}",
         "name": "media_cluster_taxa_distribuicao_emissao",
         "type": "\"double\""
        },
        {
         "metadata": "{}",
         "name": "taxa_distribuicao_emissao_diff",
         "type": "\"double\""
        },
        {
         "metadata": "{}",
         "name": "quantidade_cotas_totais",
         "type": "\"float\""
        },
        {
         "metadata": "{}",
         "name": "media_cluster_quantidade_cotas_totais",
         "type": "\"double\""
        },
        {
         "metadata": "{}",
         "name": "quantidade_cotas_totais_diff",
         "type": "\"double\""
        },
        {
         "metadata": "{}",
         "name": "percentual_oferta_institucional",
         "type": "\"float\""
        },
        {
         "metadata": "{}",
         "name": "media_cluster_percentual_oferta_institucional",
         "type": "\"double\""
        },
        {
         "metadata": "{}",
         "name": "percentual_oferta_institucional_diff",
         "type": "\"double\""
        },
        {
         "metadata": "{}",
         "name": "montante_minimo_emissao",
         "type": "\"float\""
        },
        {
         "metadata": "{}",
         "name": "media_cluster_montante_minimo_emissao",
         "type": "\"double\""
        },
        {
         "metadata": "{}",
         "name": "montante_minimo_emissao_diff",
         "type": "\"double\""
        },
        {
         "metadata": "{}",
         "name": "chamada_capital_ipca_flag",
         "type": "\"integer\""
        },
        {
         "metadata": "{}",
         "name": "media_cluster_chamada_capital_ipca_flag",
         "type": "\"double\""
        },
        {
         "metadata": "{}",
         "name": "chamada_capital_ipca_flag_diff",
         "type": "\"double\""
        },
        {
         "metadata": "{}",
         "name": "sharpe_ratio_calc",
         "type": "\"double\""
        },
        {
         "metadata": "{}",
         "name": "media_cluster_sharpe_ratio_calc",
         "type": "\"double\""
        },
        {
         "metadata": "{}",
         "name": "sharpe_ratio_calc_diff",
         "type": "\"double\""
        },
        {
         "metadata": "{}",
         "name": "idade_anos",
         "type": "\"double\""
        },
        {
         "metadata": "{}",
         "name": "media_cluster_idade_anos",
         "type": "\"double\""
        },
        {
         "metadata": "{}",
         "name": "idade_anos_diff",
         "type": "\"double\""
        },
        {
         "metadata": "{}",
         "name": "retorno_acumulado",
         "type": "\"double\""
        },
        {
         "metadata": "{}",
         "name": "media_cluster_retorno_acumulado",
         "type": "\"double\""
        },
        {
         "metadata": "{}",
         "name": "retorno_acumulado_diff",
         "type": "\"double\""
        },
        {
         "metadata": "{}",
         "name": "volatilidade_historica",
         "type": "\"double\""
        },
        {
         "metadata": "{}",
         "name": "media_cluster_volatilidade_historica",
         "type": "\"double\""
        },
        {
         "metadata": "{}",
         "name": "volatilidade_historica_diff",
         "type": "\"double\""
        },
        {
         "metadata": "{}",
         "name": "volume_total_cluster",
         "type": "\"double\""
        },
        {
         "metadata": "{}",
         "name": "market_share_fundo",
         "type": "\"double\""
        },
        {
         "metadata": "{}",
         "name": "dif_market_share",
         "type": "\"double\""
        }
       ],
       "type": "table"
      }
     },
     "output_type": "display_data"
    }
   ],
   "source": [
    "tipos_fundo = [\"fidc\", \"fii\", \"fip\"]\n",
    "resultados = {}\n",
    "\n",
    "for tipo in tipos_fundo:\n",
    "    # Cria instância da classe KineaPerformance para o tipo de fundo\n",
    "    kperf = KineaPerformance(spark, tipo)\n",
    "    # Executa o pipeline e salva o DataFrame no dicionário\n",
    "    resultados[tipo] = kperf.run()\n",
    "\n",
    "# Visualizar resultados\n",
    "for tipo in tipos_fundo:\n",
    "    print(f\"=== {tipo.upper()} ===\")\n",
    "    display(resultados[tipo])\n"
   ]
  },
  {
   "cell_type": "code",
   "execution_count": 0,
   "metadata": {
    "application/vnd.databricks.v1+cell": {
     "cellMetadata": {
      "byteLimit": 2048000,
      "rowLimit": 10000
     },
     "inputWidgets": {},
     "nuid": "1acf8ae4-b5da-4cc8-a0a9-a8e96be2d801",
     "showTitle": false,
     "tableResultSettingsMap": {},
     "title": ""
    }
   },
   "outputs": [],
   "source": [
    "for tipo in tipos_fundo:\n",
    "    # Recupera o DataFrame de clusters para o tipo de fundo\n",
    "    df_analise = resultados[tipo]\n",
    "\n",
    "    # Salva o DataFrame resultante no schema especificado, sobrescrevendo se já existir\n",
    "    tabela = f\"desafio_kinea.prospecto_fundos.analise_cluster_kinea_individual_{tipo.lower()}\"\n",
    "    df_analise.write.mode(\"overwrite\").option(\"overwriteSchema\", \"true\").saveAsTable(tabela)"
   ]
  },
  {
   "cell_type": "markdown",
   "metadata": {
    "application/vnd.databricks.v1+cell": {
     "cellMetadata": {},
     "inputWidgets": {},
     "nuid": "cc817bd4-8bd6-4c30-94bd-4e77ccf58511",
     "showTitle": false,
     "tableResultSettingsMap": {},
     "title": ""
    }
   },
   "source": [
    "## 1.2.1. Análises Gráficas KINEA"
   ]
  },
  {
   "cell_type": "code",
   "execution_count": 0,
   "metadata": {
    "application/vnd.databricks.v1+cell": {
     "cellMetadata": {
      "byteLimit": 2048000,
      "rowLimit": 10000
     },
     "collapsed": true,
     "inputWidgets": {},
     "nuid": "d29cb9fc-a5dc-4218-a915-a9c4a77f748e",
     "showTitle": false,
     "tableResultSettingsMap": {},
     "title": ""
    }
   },
   "outputs": [],
   "source": [
    "import pandas as pd\n",
    "import matplotlib.pyplot as plt\n",
    "import seaborn as sns\n",
    "import numpy as np\n",
    "\n",
    "# Carregar os dados\n",
    "df = spark.table(\"desafio_kinea.prospecto_fundos.resultados_cluster_fidc\").toPandas()\n",
    "\n",
    "# Filtrar dados da Kinea\n",
    "kinea = df[df['tipo_gestor'].str.upper() == 'KINEA']\n",
    "\n",
    "# Variáveis para análise\n",
    "variaveis = [\n",
    "    \"valor_cota_emissao\",\n",
    "    \"quantidade_cotas_totais\",\n",
    "    \"montante_minimo_emissao\",\n",
    "    \"volume_base_emissao\", \n",
    "    \"taxa_distribuicao_emissao\"\n",
    "]\n",
    "\n",
    "# Configurações de plot\n",
    "plt.style.use('seaborn')\n",
    "sns.set_palette(\"pastel\")\n",
    "\n",
    "for var in variaveis:\n",
    "    plt.figure(figsize=(15, 6))\n",
    "    \n",
    "    # --- BOXPLOT ---\n",
    "    plt.subplot(1, 2, 1)\n",
    "    \n",
    "    # Boxplot com violino\n",
    "    sns.violinplot(x=var, data=df, color='lightgray', inner=None)\n",
    "    sns.boxplot(x=var, data=df, width=0.1, color='white', \n",
    "                showcaps=True, fliersize=3)\n",
    "    \n",
    "    # Destacar Kinea\n",
    "    for val in kinea[var]:\n",
    "        plt.axvline(val, color='red', linestyle='-', linewidth=2, alpha=0.7)\n",
    "    \n",
    "    # Estatísticas descritivas\n",
    "    mean_val = df[var].mean()\n",
    "    median_val = df[var].median()\n",
    "    plt.axvline(mean_val, color='green', linestyle='--', linewidth=2, label=f'Média: {mean_val:.2f}')\n",
    "    plt.axvline(median_val, color='blue', linestyle=':', linewidth=2, label=f'Mediana: {median_val:.2f}')\n",
    "    \n",
    "    plt.title(f'Distribuição de {var}\\nPosição da Kinea', fontsize=12, pad=20)\n",
    "    plt.xlabel(var)\n",
    "    plt.legend()\n",
    "    \n",
    "    # --- HISTOGRAMA ---\n",
    "    plt.subplot(1, 2, 2)\n",
    "    \n",
    "    # Histograma com KDE\n",
    "    sns.histplot(df[var], bins=30, kde=True, color='skyblue', alpha=0.7)\n",
    "    \n",
    "    # Linhas para Kinea\n",
    "    for val in kinea[var]:\n",
    "        plt.axvline(val, color='red', linestyle='-', linewidth=2, alpha=0.7, label='Kinea')\n",
    "    \n",
    "    # Linhas para estatísticas\n",
    "    plt.axvline(mean_val, color='green', linestyle='--', linewidth=2, label='Média')\n",
    "    plt.axvline(median_val, color='blue', linestyle=':', linewidth=2, label='Mediana')\n",
    "    \n",
    "    # Ajustar escala se necessário\n",
    "    if df[var].skew() > 1:\n",
    "        plt.xscale('log')\n",
    "        plt.xlabel(f'{var} (escala log)')\n",
    "    \n",
    "    plt.title(f'Histograma de {var}', fontsize=12, pad=20)\n",
    "    plt.xlabel(var)\n",
    "    plt.ylabel('Frequência')\n",
    "    plt.legend()\n",
    "    \n",
    "    plt.tight_layout()\n",
    "    plt.show()"
   ]
  },
  {
   "cell_type": "markdown",
   "metadata": {
    "application/vnd.databricks.v1+cell": {
     "cellMetadata": {},
     "inputWidgets": {},
     "nuid": "3cb6cefb-47f2-4342-b1d0-2395cd120f0a",
     "showTitle": false,
     "tableResultSettingsMap": {},
     "title": ""
    }
   },
   "source": [
    "## 1.3. Potenciais Novas Emissões"
   ]
  },
  {
   "cell_type": "code",
   "execution_count": 0,
   "metadata": {
    "application/vnd.databricks.v1+cell": {
     "cellMetadata": {
      "byteLimit": 2048000,
      "rowLimit": 10000
     },
     "inputWidgets": {},
     "nuid": "990c62c4-f40e-4520-94c5-dfde52b43586",
     "showTitle": false,
     "tableResultSettingsMap": {},
     "title": ""
    }
   },
   "outputs": [
    {
     "output_type": "display_data",
     "data": {
      "text/html": [
       "<style scoped>\n",
       "  .table-result-container {\n",
       "    max-height: 300px;\n",
       "    overflow: auto;\n",
       "  }\n",
       "  table, th, td {\n",
       "    border: 1px solid black;\n",
       "    border-collapse: collapse;\n",
       "  }\n",
       "  th, td {\n",
       "    padding: 5px;\n",
       "  }\n",
       "  th {\n",
       "    text-align: left;\n",
       "  }\n",
       "</style><div class='table-result-container'><table class='table-result'><thead style='background-color: white'><tr><th>cnpj</th><th>data_emissao</th><th>Ticker</th><th>qt_emissoes</th><th>nome_fundo</th><th>tipo_fundo</th><th>valor_cota_emissao</th><th>direito_preferencia_sobras_montante_adicional</th><th>taxa_distribuicao_emissao</th><th>tabela_ativos_fundo</th><th>sumario_experiencia_socios</th><th>quantidade_cotas_emissao</th><th>quantidade_cotas_adicionais_emissao</th><th>publico_alvo</th><th>obs_publico_alvo</th><th>procuracao_AGE</th><th>planilha_custos</th><th>ordenar_fatores_risco</th><th>montante_minimo_emissao</th><th>investimento_minimo_cpf_cnpj</th><th>investimento_minimo_inst</th><th>investimento_maximo_cpf_cnpj</th><th>investimento_maximo_inst</th><th>historico_cotacao_bolsa</th><th>fator_proporcao_dp</th><th>diluicao_economica_novas_emissoes</th><th>criterio_rateio</th><th>carteira_fundos_kinea_intrag</th><th>breve_historico_gestor</th><th>percentual_oferta_institucional</th><th>volume_base_emissao</th><th>chamada_capital_ipca</th><th>tipo_gestor</th><th>quantidade_cotas_totais</th><th>tipo_anbima</th><th>volatilidade_historica</th><th>liquidez_media</th><th>drawdown_max</th><th>retorno_acumulado</th><th>sharpe_ratio</th><th>valor_cotado_atual</th><th>potencial_nova_emissao</th><th>cluster_id</th><th>cluster_id_full</th></tr></thead><tbody></tbody></table></div>"
      ]
     },
     "metadata": {
      "application/vnd.databricks.v1+output": {
       "addedWidgets": {},
       "aggData": [],
       "aggError": "",
       "aggOverflow": false,
       "aggSchema": [],
       "aggSeriesLimitReached": false,
       "aggType": "",
       "arguments": {},
       "columnCustomDisplayInfos": {},
       "data": [],
       "datasetInfos": [],
       "dbfsResultPath": null,
       "isJsonSchema": true,
       "metadata": {},
       "overflow": false,
       "plotOptions": {
        "customPlotOptions": {},
        "displayType": "table",
        "pivotAggregation": null,
        "pivotColumns": null,
        "xColumns": null,
        "yColumns": null
       },
       "removedWidgets": [],
       "schema": [
        {
         "metadata": "{}",
         "name": "cnpj",
         "type": "\"string\""
        },
        {
         "metadata": "{}",
         "name": "data_emissao",
         "type": "\"date\""
        },
        {
         "metadata": "{}",
         "name": "Ticker",
         "type": "\"string\""
        },
        {
         "metadata": "{}",
         "name": "qt_emissoes",
         "type": "\"float\""
        },
        {
         "metadata": "{}",
         "name": "nome_fundo",
         "type": "\"string\""
        },
        {
         "metadata": "{}",
         "name": "tipo_fundo",
         "type": "\"string\""
        },
        {
         "metadata": "{}",
         "name": "valor_cota_emissao",
         "type": "\"float\""
        },
        {
         "metadata": "{}",
         "name": "direito_preferencia_sobras_montante_adicional",
         "type": "\"string\""
        },
        {
         "metadata": "{}",
         "name": "taxa_distribuicao_emissao",
         "type": "\"float\""
        },
        {
         "metadata": "{}",
         "name": "tabela_ativos_fundo",
         "type": "\"string\""
        },
        {
         "metadata": "{}",
         "name": "sumario_experiencia_socios",
         "type": "\"string\""
        },
        {
         "metadata": "{}",
         "name": "quantidade_cotas_emissao",
         "type": "\"float\""
        },
        {
         "metadata": "{}",
         "name": "quantidade_cotas_adicionais_emissao",
         "type": "\"float\""
        },
        {
         "metadata": "{}",
         "name": "publico_alvo",
         "type": "\"string\""
        },
        {
         "metadata": "{}",
         "name": "obs_publico_alvo",
         "type": "\"string\""
        },
        {
         "metadata": "{}",
         "name": "procuracao_AGE",
         "type": "\"string\""
        },
        {
         "metadata": "{}",
         "name": "planilha_custos",
         "type": "\"string\""
        },
        {
         "metadata": "{}",
         "name": "ordenar_fatores_risco",
         "type": "\"string\""
        },
        {
         "metadata": "{}",
         "name": "montante_minimo_emissao",
         "type": "\"float\""
        },
        {
         "metadata": "{}",
         "name": "investimento_minimo_cpf_cnpj",
         "type": "\"float\""
        },
        {
         "metadata": "{}",
         "name": "investimento_minimo_inst",
         "type": "\"float\""
        },
        {
         "metadata": "{}",
         "name": "investimento_maximo_cpf_cnpj",
         "type": "\"float\""
        },
        {
         "metadata": "{}",
         "name": "investimento_maximo_inst",
         "type": "\"float\""
        },
        {
         "metadata": "{}",
         "name": "historico_cotacao_bolsa",
         "type": "\"string\""
        },
        {
         "metadata": "{}",
         "name": "fator_proporcao_dp",
         "type": "\"string\""
        },
        {
         "metadata": "{}",
         "name": "diluicao_economica_novas_emissoes",
         "type": "\"string\""
        },
        {
         "metadata": "{}",
         "name": "criterio_rateio",
         "type": "\"string\""
        },
        {
         "metadata": "{}",
         "name": "carteira_fundos_kinea_intrag",
         "type": "\"string\""
        },
        {
         "metadata": "{}",
         "name": "breve_historico_gestor",
         "type": "\"string\""
        },
        {
         "metadata": "{}",
         "name": "percentual_oferta_institucional",
         "type": "\"float\""
        },
        {
         "metadata": "{}",
         "name": "volume_base_emissao",
         "type": "\"float\""
        },
        {
         "metadata": "{}",
         "name": "chamada_capital_ipca",
         "type": "\"string\""
        },
        {
         "metadata": "{}",
         "name": "tipo_gestor",
         "type": "\"string\""
        },
        {
         "metadata": "{}",
         "name": "quantidade_cotas_totais",
         "type": "\"float\""
        },
        {
         "metadata": "{}",
         "name": "tipo_anbima",
         "type": "\"string\""
        },
        {
         "metadata": "{}",
         "name": "volatilidade_historica",
         "type": "\"double\""
        },
        {
         "metadata": "{}",
         "name": "liquidez_media",
         "type": "\"double\""
        },
        {
         "metadata": "{}",
         "name": "drawdown_max",
         "type": "\"double\""
        },
        {
         "metadata": "{}",
         "name": "retorno_acumulado",
         "type": "\"double\""
        },
        {
         "metadata": "{}",
         "name": "sharpe_ratio",
         "type": "\"double\""
        },
        {
         "metadata": "{}",
         "name": "valor_cotado_atual",
         "type": "\"double\""
        },
        {
         "metadata": "{}",
         "name": "potencial_nova_emissao",
         "type": "\"boolean\""
        },
        {
         "metadata": "{}",
         "name": "cluster_id",
         "type": "\"integer\""
        },
        {
         "metadata": "{}",
         "name": "cluster_id_full",
         "type": "\"string\""
        }
       ],
       "type": "table"
      }
     },
     "output_type": "display_data"
    },
    {
     "output_type": "display_data",
     "data": {
      "text/html": [
       "<style scoped>\n",
       "  .table-result-container {\n",
       "    max-height: 300px;\n",
       "    overflow: auto;\n",
       "  }\n",
       "  table, th, td {\n",
       "    border: 1px solid black;\n",
       "    border-collapse: collapse;\n",
       "  }\n",
       "  th, td {\n",
       "    padding: 5px;\n",
       "  }\n",
       "  th {\n",
       "    text-align: left;\n",
       "  }\n",
       "</style><div class='table-result-container'><table class='table-result'><thead style='background-color: white'><tr><th>cnpj</th><th>data_emissao</th><th>Ticker</th><th>qt_emissoes</th><th>nome_fundo</th><th>tipo_fundo</th><th>valor_cota_emissao</th><th>direito_preferencia_sobras_montante_adicional</th><th>taxa_distribuicao_emissao</th><th>tabela_ativos_fundo</th><th>sumario_experiencia_socios</th><th>quantidade_cotas_emissao</th><th>quantidade_cotas_adicionais_emissao</th><th>publico_alvo</th><th>obs_publico_alvo</th><th>procuracao_AGE</th><th>planilha_custos</th><th>ordenar_fatores_risco</th><th>montante_minimo_emissao</th><th>investimento_minimo_cpf_cnpj</th><th>investimento_minimo_inst</th><th>investimento_maximo_cpf_cnpj</th><th>investimento_maximo_inst</th><th>historico_cotacao_bolsa</th><th>fator_proporcao_dp</th><th>diluicao_economica_novas_emissoes</th><th>criterio_rateio</th><th>carteira_fundos_kinea_intrag</th><th>breve_historico_gestor</th><th>percentual_oferta_institucional</th><th>volume_base_emissao</th><th>chamada_capital_ipca</th><th>tipo_gestor</th><th>quantidade_cotas_totais</th><th>tipo_anbima</th><th>volatilidade_historica</th><th>liquidez_media</th><th>drawdown_max</th><th>retorno_acumulado</th><th>sharpe_ratio</th><th>valor_cotado_atual</th><th>potencial_nova_emissao</th><th>cluster_id</th><th>cluster_id_full</th></tr></thead><tbody><tr><td>01235622000161</td><td>2015-07-13</td><td>FTCE11</td><td>4.0</td><td>OPPORTUNITY FUNDO DE INVESTIMENTO IMOBILIÁRIO</td><td>FII</td><td>1766.05</td><td>Não</td><td>null</td><td>imóveis comerciais, residenciais, industriais, terrenos, shopping centers, títulos de renda fixa públicos e privados, cotas de fundos de investimento referenciados, renda fixa e curto prazo</td><td>Consultor Especializado MÉTRICA EMPREENDIMENTOS E PARTICIPAÇÕES LTDA., com 30 anos de experiência, coordenado por Jomar Monnerat, diretor com MBA em Finanças Corporativas pela FGV e experiência na KPMG e Grupo Opportunity</td><td>null</td><td>null</td><td>Investidores qualificados</td><td></td><td></td><td>Não incorrerá em custos adicionais para o Fundo</td><td>Risco de Liquidez (Maior), Dificuldades Financeiras do Incorporador/Construtor (Maior), Risco relacionado a Fatores Macroeconômicos e Regulatórios (Maior), Riscos de Mercado (Maior), Risco de Crédito (Maior), Outros Riscos Exógenos ao Controle do Administrador (Maior), Risco de Desapropriação (Maior), Risco de Patrimônio Negativo (Maior), Riscos do Setor Imobiliário (Maior), Risco de Alterações nas Leis de Zoneamento (Maior), Riscos Ambientais (Maior), Riscos Relativos às Operações de Aquisição de bens Imóveis (Maior), Risco de Regularidade dos Imóveis (Maior), Riscos dos Contratos de Locação ou Arrendamento e Risco de Vacância (Maior), Risco de Desligamento da Carteira (Maior), Riscos quanto às Despesas de Manutenção dos Imóveis (Maior), Riscos decorrentes de Vícios Ocultos e Contingências Não Identificadas ou Não Identificáveis (Maior), Risco na gestão financeira, contábil e/ou imobiliária de empreendimento investido pelo FUNDO (Maior), Risco de Ocorrência de Casos Fortuitos e Eventos de Força Maior (Maior), Risco de sinistro e de perdas decorrentes de sinistros não cobertos pelos seguros contratados (Maior), Riscos Operacionais (Maior), Riscos de Conflitos de interesse (Maior), Risco de Custos Relativos a Eventuais Reclamações de Terceiros (Maior), Risco de concentração da carteira do FUNDO (Maior), Risco em Função da Dispensa de Registro da Oferta das Cotas do FUNDO (Maior), Risco do Bloqueio à Negociação de Cotas (Maior), Risco de Colocação Parcial da Emissão de Cotas (Maior), Risco de Governança (Maior), Risco de Inexistência de Garantia das Aplicações no FUNDO (Maior)</td><td>2.5E7</td><td>1000000.0</td><td>null</td><td>null</td><td>null</td><td>Mín 1850 / Méd 1912.89 / Máx 2950 (2011), Mín 2950 / Méd 3106 / Máx 3350 (2012), Mín 3500 / Méd 3563.66 / Máx 3700.01 (2013), Mín 3710 / Méd 3710 / Máx 3710 (2014)</td><td></td><td></td><td></td><td></td><td>BNY Mellon Serviços Financeiros, fundada em 1784, líder global em administração e gestão de ativos, com US$ 28,5 trilhões em ativos sob custódia e US$ 1,7 trilhão em ativos sob gestão até março de 2015</td><td>null</td><td>2.5E7</td><td></td><td>CONCORRENTE</td><td>0.0</td><td>Multiestratégia Gestão Ativa</td><td>0.02800389511121603</td><td>29.72289156626506</td><td>-0.020245367891120653</td><td>0.008465619375751299</td><td>-3.993086313562455</td><td>2841.75</td><td>true</td><td>1</td><td>FII_1</td></tr><tr><td>03683056000186</td><td>2011-11-01</td><td>RCRB11</td><td>4.0</td><td>FUNDO DE INVESTIMENTO IMOBILIÁRIO RIO BRAVO RENDA CORPORATIVA</td><td>FII</td><td>1.7</td><td>Sim</td><td>null</td><td>lajes corporativas, conjuntos comerciais, vagas de garagem, direitos sobre empreendimentos imobiliários</td><td>Mario Fleck (CEO), Gustavo Franco (Presidente do Conselho), Paulo Bilyk (CIO), Fabio Ohara Ishigami (Diretor), Miguel Russo Neto (Diretor de Risco e Compliance), Luiz Eugenio J. Figueiredo (Diretor de Operações), Pedro Bohrer Amaral (Gerente Jurídico), José Alberto Diniz (Diretor de Investimentos Imobiliários), Anita Spichler Scal (Gerente de Investimentos Imobiliários)</td><td>2.9411764E7</td><td>null</td><td>pessoas naturais e jurídicas, fundos de investimento, investidores institucionais</td><td></td><td></td><td>a) comissão de distribuição: 2.5% b) comissão de coordenação: 1.5% c) comissão de sucesso: 0.5% d) despesas gerais e taxas: 0.17%</td><td>Risco de Crédito (Maior); Risco de Mercado (Maior); Risco de Liquidez (Médio); Risco Jurídico (Médio); Risco Tributário (Médio)</td><td>5000000.0</td><td>100.0</td><td>500000.0</td><td>null</td><td>null</td><td>Mín 0.65 / Méd 1.38 / Máx 1.80</td><td>0.454602278</td><td></td><td>Pro rata</td><td></td><td></td><td>null</td><td>5.0E7</td><td></td><td>CONCORRENTE</td><td>2.9411764E7</td><td>Tijolo Renda Gestão Ativa</td><td>0.2966779177143121</td><td>7598.044</td><td>-0.15738786877293845</td><td>0.027917771916063705</td><td>-0.1651192720868273</td><td>126.94000244140625</td><td>true</td><td>1</td><td>FII_1</td></tr><tr><td>08014513000163</td><td>2008-09-18</td><td>NSLU11</td><td>1.0</td><td>FUNDO DE INVESTIMENTO IMOBILIÁRIO HOSPITAL NOSSA SENHORA DE LOURDES</td><td>FII</td><td>150.0</td><td></td><td>null</td><td></td><td></td><td>280000.0</td><td>null</td><td>quaisquer investidores, qualificados ou não, pessoas físicas ou jurídicas, brasileiros ou estrangeiros, que disponham de recursos na forma exigida pelo Regulamento do FUNDO interessados em investimento em valores mobiliários de renda variável lastreado em imóveis</td><td></td><td></td><td>a) comissão de colocação: 2%... b) comissão de coordenação: 1%... Taxa de Fiscalização da CVM: 82870,00... custo unitário da distribuição: 4,8 reais por quota, 3,20% do preço unitário, montante líquido para o ofertante: 145,2 reais por quota</td><td>Riscos relacionados a fatores macroeconômicos (Maior); Riscos relacionados à liquidez (Médio); Riscos relativos à concentração de quotas do fundo (Maior); Riscos relativos à rentabilidade do investimento (Maior); Risco relativo à desvalorização do imóvel (Médio); Riscos relativos à atividade econômica (Médio); Riscos relativos às receitas projetadas e às despesas mais relevantes (Médio); Risco relativo às novas emissões (Médio); Risco tributário (Médio); Risco de desapropriação e do caso fortuito ou força maior (Médio)</td><td>null</td><td>7500.0</td><td>null</td><td>null</td><td>null</td><td>Mín 144.50 / Méd 153.01 / Máx 161.99</td><td></td><td></td><td></td><td></td><td></td><td>null</td><td>4.2E7</td><td></td><td>CONCORRENTE</td><td>280000.0</td><td>Tijolo Renda Gestão Definida</td><td>0.20956396085813866</td><td>1242.188</td><td>-0.1976325787361302</td><td>0.07653779700527008</td><td>-0.11676111783478839</td><td>176.0</td><td>true</td><td>1</td><td>FII_1</td></tr><tr><td>08098114000128</td><td>2007-10-26</td><td>HSRE11</td><td>6.0</td><td>FUNDO DE INVESTIMENTO IMOBILIÁRIO COMERCIAL PROGRESSIVO II</td><td>FII</td><td>100.0</td><td>Sim</td><td>null</td><td></td><td></td><td>504700.0</td><td>null</td><td>quaisquer tipos de investidores, pessoas físicas ou jurídicas, que disponham de recursos na forma exigida pelo Regulamento do FUNDO</td><td></td><td></td><td>a) Taxa de Fiscalização da CVM: 0.30% do valor da emissão; b) Custo unitário do lançamento: 0.1642 por quota; c) Imposto sobre Transmissão de Bens Imóveis – ITBI: 2% sobre o valor do primeiro imóvel; d) Taxas e emolumentos dos cartórios para escritura e registro</td><td>Riscos relacionados a fatores macroeconômicos (Moderado), Risco relacionado à liquidez (Alto), Risco relativo à concentração de quotas (Alto), Riscos relativos à rentabilidade do investimento (Moderado), Risco relativo à desvalorização (Moderado), Riscos relativos à atividade econômica (Moderado), Risco quanto ao objeto do Fundo (Moderado), Riscos relativos às receitas mais relevantes (Moderado), Riscos relativos à aquisição do imóvel (Moderado), Risco relativo às novas emissões (Moderado), Risco tributário (Moderado)</td><td>5.047E7</td><td>10000.0</td><td>null</td><td>null</td><td>null</td><td></td><td>proporção das quotas integralizadas que possuir</td><td>Os quotistas poderão sofrer diluição na ausência de subscrição nas novas emissões, mas há direito de preferência para minimizar esse risco.</td><td>Pro rata</td><td></td><td>Banco Ourinvest S.A., com histórico desde 1968, pioneiro em diversos produtos financeiros e fundos imobiliários, com atuação consolidada no mercado brasileiro.</td><td>null</td><td>5.047E7</td><td></td><td>CONCORRENTE</td><td>504700.0</td><td>Tijolo Renda Gestão Ativa</td><td>0.15090618247082915</td><td>23272.714285714286</td><td>-0.07731147432339516</td><td>0.13495950079488406</td><td>0.16807282077479818</td><td>101.5</td><td>true</td><td>4</td><td>FII_4</td></tr><tr><td>08098114000128</td><td>2007-12-03</td><td>HSRE11</td><td>6.0</td><td>FUNDO DE INVESTIMENTO IMOBILIÁRIO COMERCIAL PROGRESSIVO II</td><td>FII</td><td>100.0</td><td>Sim</td><td>null</td><td></td><td></td><td>504700.0</td><td>null</td><td>Investidores em geral</td><td></td><td></td><td>a) Taxa de Fiscalização da CVM: 0.30% do valor da emissão; b) Custo unitário do lançamento: 0.1642 por quota</td><td>Riscos relacionados a fatores macroeconômicos (Moderado), Risco relacionado à liquidez (Alto), Risco relativo à concentração de quotas (Alto), Riscos relativos à rentabilidade do investimento (Moderado), Risco relativo à desvalorização (Moderado), Riscos relativos à atividade econômica (Moderado), Risco quanto ao objeto do Fundo (Moderado), Riscos relativos às receitas mais relevantes (Moderado), Risco relativo às aquisições do imóvel (Moderado), Risco relativo às novas emissões (Moderado), Risco tributário (Moderado)</td><td>5.047E7</td><td>10000.0</td><td>null</td><td>null</td><td>null</td><td></td><td>1 quota para 1 quota</td><td>A ausência do quotista na subscrição de novas quotas pode ensejar diluição da participação no patrimônio do FUNDO.</td><td>Pro rata</td><td></td><td></td><td>null</td><td>5.047E7</td><td></td><td>CONCORRENTE</td><td>504700.0</td><td>Tijolo Renda Gestão Ativa</td><td>0.15090618247082915</td><td>23272.714285714286</td><td>-0.07731147432339516</td><td>0.13495950079488406</td><td>0.16807282077479818</td><td>101.5</td><td>true</td><td>0</td><td>FII_0</td></tr><tr><td>08706065000169</td><td>2007-07-12</td><td>HTMX11</td><td>17.0</td><td>FUNDO DE INVESTIMENTO IMOBILIÁRIO HOTEL MAXINVEST</td><td>FII</td><td>100.0</td><td>Sim</td><td>null</td><td></td><td></td><td>1000000.0</td><td>null</td><td>Investidores em geral</td><td></td><td></td><td>a) Taxa de Fiscalização da CVM: 300000.00 (0.30% do valor de cada emissão da 3ª a 18ª); b) Comissão de Colocação: 2.8% sobre o valor das quotas efetivamente colocadas pelo Coordenador; c) Custo unitário do lançamento: 3.10 por quota</td><td>Riscos relacionados a fatores macroeconômicos (Moderado), Risco relacionado à liquidez (Moderado), Risco relativo à concentração de quotas do Fundo (Moderado), Riscos relativos à rentabilidade do investimento (Moderado), Risco relativo à desvalorização (Moderado), Riscos relativos à atividade econômica (Moderado), Risco quanto ao objeto do Fundo (Moderado), Riscos relativos às receitas mais relevantes (Moderado), Riscos relativos à aquisição do imóvel (Moderado), Risco do Fundo não captar a totalidade dos recursos das 17 emissões (Moderado), Risco relativo às novas emissões (Moderado), Risco tributário (Moderado)</td><td>null</td><td>null</td><td>null</td><td>null</td><td>null</td><td></td><td></td><td></td><td></td><td></td><td></td><td>null</td><td>1.0E8</td><td></td><td>CONCORRENTE</td><td>1000000.0</td><td>Tijolo Renda Gestão Definida</td><td>0.22163819225994544</td><td>6845.216</td><td>-0.27946236871204294</td><td>-0.12243690082319347</td><td>-1.0268071714733689</td><td>140.33999633789062</td><td>true</td><td>1</td><td>FII_1</td></tr><tr><td>08706065000169</td><td>2010-08-26</td><td>HTMX11</td><td>12.0</td><td>FUNDO DE INVESTIMENTO IMOBILIÁRIO HOTEL MAXINVEST</td><td>FII</td><td>130.0</td><td>Sim</td><td>null</td><td>Blue Tree Berrini, Blue Tree Faria Lima, Intercity Nações Unidas, Blue Tree Paulista, Blue Tree Verbo Divino, Caesar Business Faria Lima, Caesar Business Paulista, Clarion Jardim Europa, Comfort Ibirapuera, Comfort Nova Paulista, Comfort Suites Oscar Freire, Feller Paulista, Formule 1 Jardins, Formule 1 Paulista, Formule 1 São João, Golden Tulip Park Plaza, Golden Tulip Paulista Plaza, Ibis Congonhas, Ibis Santo André, Ibis São Paulo Paulista, Intercity Premium Berrini, Intercity Premium Ibirapuera, Meliá Jardim Europa, Mercure Apts Central Towers, Mercure Apts Privilege, Mercure Apts The Executive One, Park Suites ITC, Quality Berrini, Quality Faria Lima, Quality Jardins, Quality Suites Congonhas, Quality Suites Imperial Hall, Staybridge Suites São Paulo, Transamerica Congonhas, Transamerica Faria Lima, Transamerica International, Tryp Berrini, Tryp Higienopolis, Tryp Iguatemi, Tryp Itaim, Tryp Jesuino Arruda, Tryp Paulista, Tryp Tatuape</td><td></td><td>59516.0</td><td>null</td><td>O FUNDO é destinado a investidores pessoas físicas e jurídicas, investidores institucionais, residentes e domiciliadas no Brasil ou no exterior, bem como fundos de investimento, com objetivo de investimento de longo prazo, sendo garantido aos Investidores o tratamento igualitário e eqüitativo.</td><td></td><td></td><td>a) Taxa de Fiscalização da CVM: 0.30% do valor da emissão; b) Comissão de Colocação: 2.0% sobre o valor das cotas efetivamente colocadas; c) Imposto sobre Transmissão de Bens Imóveis – ITBI: 2% sobre o valor dos Imóveis-Alvos; d) Demais custos: taxas e emolumentos dos cartórios, custos de transação imobiliária e custos financeiros; Custo Total: 1217152.84</td><td>Riscos relacionados a fatores macroeconômicos (Maior), Risco de Liquidez (Maior), Risco de Concentração de Propriedade (Médio), Riscos relativos à rentabilidade do investimento (Médio), Risco relativo à desvalorização (Médio), Riscos relativos à atividade econômica (Médio), Risco quanto ao objeto do Fundo (Médio), Riscos relativos às receitas mais relevantes (Médio), Riscos relativos à aquisição do imóvel (Médio), Risco do Fundo não captar a totalidade dos recursos da emissão (Médio), Risco relativo às novas emissões (Médio), Risco tributário (Médio)</td><td>130.0</td><td>130.0</td><td>null</td><td>null</td><td>null</td><td></td><td>Para cada lote de 11 cotas da atual participação, o cotista poderá subscrever 1 nova cota</td><td></td><td>Ordem de chegada</td><td></td><td>Banco Ourinvest S.A. originou-se em 1968, com foco no mercado de atacado e expansão dos mercados financeiros. Em 1991 passou a se chamar Banco Ourinvest S.A., oferecendo diversas operações financeiras. Atuou no mercado internacional desde 1990. Foi pioneiro na distribuição de eurobonds e na estruturação de notas de capital garantido. Atualmente foca em operações de tesouraria e finanças corporativas, oferecendo soluções inovadoras. Administra diversos fundos imobiliários e participou da estruturação de outros fundos. Tem parceria para investimentos estrangeiros e atua em project finance.</td><td>null</td><td>7737080.0</td><td></td><td>CONCORRENTE</td><td>59516.0</td><td>Tijolo Renda Gestão Definida</td><td>0.22163819225994544</td><td>6845.216</td><td>-0.27946236871204294</td><td>-0.12243690082319347</td><td>-1.0268071714733689</td><td>140.33999633789062</td><td>true</td><td>1</td><td>FII_1</td></tr><tr><td>11179118000145</td><td>2010-10-25</td><td>FAED11</td><td>2.0</td><td>Fundo de Investimento Imobiliário Anhanguera Educacional</td><td>FII</td><td>110.0</td><td>Sim</td><td>null</td><td>imóveis comerciais localizados na Rua Waldemar Silenci, Leme - SP, e Alameda Maria Tereza, Valinhos - SP</td><td>Banco Ourinvest S.A. com histórico desde 1968, pioneiro em fundos imobiliários e operações financeiras sofisticadas, com Diretor Responsável Sr. David Assine.</td><td>136629.0</td><td>null</td><td>investidores pessoas físicas e jurídicas, investidores institucionais, residentes e domiciliadas no Brasil ou no exterior, bem como fundos de investimento</td><td></td><td></td><td>comissão de colocação e coordenação: 3.0%, taxa de fiscalização: 0.30%, ITBI: 1.88%, registros: 0.60%</td><td>Risco de Crédito (Maior); Fatores macroeconômicos relevantes (Maior); Riscos de alteração da legislação (Médio); Risco tributário (Médio); Riscos jurídicos (Médio); Risco de concentração de propriedade (Médio); Risco de concentração da carteira (Médio); Risco relativo à rentabilidade (Maior); Riscos de despesas extraordinárias (Médio); Riscos relacionados ao mercado imobiliário (Maior)</td><td>11000.0</td><td>11000.0</td><td>null</td><td>null</td><td>null</td><td></td><td>proporção do número de cotas que possuir</td><td></td><td>rateio proporcional entre os subscritores na proporção das cotas subscritas e integralizadas</td><td></td><td>Banco Ourinvest S.A., fundado em 1968, pioneiro em fundos imobiliários, com experiência em operações financeiras sofisticadas e gestão de fundos imobiliários, tendo o Sr. David Assine como Diretor Responsável.</td><td>null</td><td>1.502919E7</td><td></td><td>CONCORRENTE</td><td>136629.0</td><td>Tijolo Renda Gestão Definida</td><td>0.19414961782915105</td><td>449.568</td><td>-0.1292413918212614</td><td>0.08263482556855828</td><td>-0.11144666037367103</td><td>143.64999389648438</td><td>true</td><td>1</td><td>FII_1</td></tr><tr><td>16706958000132</td><td>2024-10-28</td><td>KNCR11</td><td>11.0</td><td>Kinea Rendimentos Imobiliários Fundo de Investimento Imobiliário - FII</td><td>FII</td><td>101.49</td><td>Sim</td><td>null</td><td>Certificados de Recebíveis Imobiliários (CRI), Letras de Crédito Imobiliário (LCI), Letras Hipotecárias (LH), outros ativos financeiros, títulos e valores mobiliários permitidos pela Instrução CVM nº 472</td><td>Marcio Verri, CFA e CAIA: sócio, fundador e CEO da Kinea Investimentos, com experiência no BankBoston e especializações em Finanças pela FGV-SP, Private Equity e Estratégia pela Harvard Business School e Opções e Gestão pelo INSEAD. Flávio Cagno, CFA e CAIA: sócio e gestor responsável pelos fundos de CRI e CRA da Kinea, com experiência na RB Capital, Vision Brazil Investments, Capitânia Asset & Risk Management e formação em Administração e Direito pela FGV e USP, mestrado em real estate pela NYU. Danilo Lee: atuou 18 anos na área de Distressed & Special Situations do Bank of America Merrill Lynch no Brasil, graduado em Administração pela FGV/SP. Daniel Xavier Juc, CFA, CAIA: formado em engenharia mecatrônica pela USP, atua na gestão de fundos da Kinea desde 2016. Gabriel Duarte: engenheiro mecânico pela USP, atua na Kinea desde 2020. Guilherme Coutinho: economista pela Universidade Federal de Alagoas, atua na Kinea desde 2013. José Olenscki: engenheiro mecatrônico pela USP, atua na Kinea desde 2021. Luiz Saad: engenheiro civil pelo Mackenzie-SP, com MBA em Real Estate pela USP e especialização em Finanças pela FGV/SP, atua na Kinea desde 2022. Lucas Nunes Badaró: cursa ciências econômicas na Universidade Estadual de Campinas, atua na Kinea desde 2021. Pedro Bruder: administrador pela FEA-USP, atua na Kinea desde 2016. Rafael de Albuquerque Carvalho: administrador pela Mackenzie, pós-graduado em Finanças e Economia pela FGV, atua na Kinea desde 2022. Alessandro Lopes: MBA pela Boston School/Columbia University, graduado em Administração e Ciências Contábeis pela Universidade Paulista, atua na Kinea desde 2017. Ricardo Sakai: graduado em Engenharia Metalúrgica pela USP, atua na Kinea desde 2013. Ivan Freitas Simão: graduado em Administração pela PUC-SP, atua na Kinea desde 2014. Luis Filipe de Callis: graduado em Engenharia de Produção pelo Mackenzie, atua na Kinea desde 2021. Artur Pereira Batista Silva: discente de engenharia civil na Universidade Federal do Rio Grande do Norte, atua na Kinea desde 2022.</td><td>1.9661816E7</td><td>4915454.0</td><td>Investidores em geral</td><td>Clientes correntistas dos segmentos Institucionais, Corporate, Íon, Private, Personnalité, Uniclass e Agências do Itaú Unibanco, excluídos clubes de investimento e regimes próprios de previdência social (RPPS)</td><td>Modelo de procuração incluso</td><td>Taxa de distribuição total 2.00%, comissão de coordenação 0.20%, comissão de distribuição 1.70%, advogados 0.01%, taxa de registro CVM 0.04%, taxa B3 análise oferta 0.00%, taxa B3 distribuição padrão fixa 0.01%, taxa B3 distribuição padrão variável 0.04%, taxa registro Anbima 0.00%, anúncio 0.01%, cartório 0.00%, outras despesas 0.00%.</td><td>Risco de Crédito (Maior), Risco Sistêmico e do Setor Imobiliário (Maior), Risco Tributário (Maior), Risco Regulatório/Jurídico (Maior), Riscos de Mercado (Maior), Liquidez Reduzida das Cotas (Maior), Riscos de Liquidez e Descontinuidade do Investimento (Maior), Riscos do Prazo (Maior), Riscos Relativos aos CRI, às LCI e às LH (Maior), Riscos Relativos ao Pré-Pagamento ou Amortização Extraordinária dos Ativos (Médio), Risco de Execução das Garantias Atreladas aos Ativos (Médio), Risco Relativo ao Desenvolvimento Imobiliário e de Construção (Médio), Risco de Inexistência de Operações de Mercado Equivalentes para fins de Determinação do Ágio e/ou Deságio Aplicável ao Preço de Aquisição (Médio), Risco Decorrente da Aquisição de Ativos e/ou Ativos de Liquidez nos Termos da Resolução CMN nº 2.921 (Médio), Riscos Atrelados aos Fundos Investidos (Médio), Risco Operacional (Médio), Riscos Relativos ao Registro de Aquisição de Imóveis (Médio), Fatores Macroeconômicos Relevantes (Médio), Riscos Ambientais (Médio), Riscos das Contingências Ambientais (Médio), Risco Relativo ao Prazo de Duração Indeterminado do Fundo (Médio), Risco da Morosidade da Justiça Brasileira (Médio), Risco de lançamento de novos empreendimentos imobiliários comerciais próximos aos imóveis investidos pelo Fundo (Médio), Não Existência de Garantia de Eliminação de Riscos (Médio), Risco do Investimento nos Ativos de Liquidez (Médio), Risco Relativo à Inexistência de Ativos e/ou de Ativos de Liquidez que se Enquadrem na Política de Investimento (Médio), Riscos de Concentração da Carteira (Médio), Risco de Inexistência de Quórum nas Deliberações a serem tomadas pela Assembleia Geral de Cotistas (Médio), Risco de Sinistro e de Inexistência de Seguro (Médio), Riscos do Uso de Derivativos (Médio), O Fundo poderá realizar a Emissão de Novas Cotas, o que poderá resultar em uma Diluição da Participação do Cotista ou Redução da Rentabilidade (Médio), Riscos relacionados à Oferta (Médio), Risco de não Materialização das Perspectivas Contidas nos Documentos de Oferta das Cotas (Médio), Risco Relativo à Impossibilidade de Negociação das Novas Cotas até o Encerramento da Oferta (Médio), Risco da Possibilidade de Devolução dos Recursos Aportados no Fundo sem qualquer Remuneração/Acréscimo em Caso de Desistência da Oferta (Médio), Risco de Elaboração do Estudo de Viabilidade pelo Gestor (Médio), Risco de Desenquadramento Passivo Involuntário (Médio), Risco Relativo à Concentração e Pulverização (Médio), Risco de Governança (Menor), Riscos Relacionados à Pandemia do COVID-19 (Menor), Risco Relativo à não Substituição do Administrador, do Gestor ou do Custodiante (Menor)</td><td>9977380.0</td><td>1035.2</td><td>1000003.2</td><td>999899.7</td><td>null</td><td>Mín 80.40 / Méd 98.57 / Máx 106.51</td><td>0.28294749489</td><td>A posição patrimonial do Fundo, antes da emissão das Novas Cotas, é a seguinte: Quantidade de Cotas do Fundo (em 30/09/2024) 69.489.274, Patrimônio Líquido do Fundo (em 30/09/2024) 7052609623.01, Valor Patrimonial das Cotas (em 30/09/2024) 101.4920608. A posição patrimonial do Fundo, após a subscrição e integralização das Novas Cotas, objeto da Oferta, poderá ser a seguinte, com base nos cenários abaixo descritos: Cenário 1: Quantidade de Novas Cotas Emitidas 19661816, Quantidade de Cotas do Fundo Após a Oferta 89151090, Patrimônio Líquido do Fundo Após a Captação dos Recursos da Emissão 9048127848.28, Valor Patrimonial das Cotas Após a Captação dos Recursos da Emissão 101.49. Cenário 2: Quantidade de Novas Cotas Emitidas 98309, Quantidade de Cotas do Fundo Após a Oferta 69587583, Patrimônio Líquido do Fundo Após a Captação dos Recursos da Emissão 7062587206.02, Valor Patrimonial das Cotas Após a Captação dos Recursos da Emissão 101.49. Cenário 3: Quantidade de Novas Cotas Emitidas 24577270, Quantidade de Cotas do Fundo Após a Oferta 94066544, Patrimônio Líquido do Fundo Após a Captação dos Recursos da Emissão 9547007404.59, Valor Patrimonial das Cotas Após a Captação dos Recursos da Emissão 101.49.</td><td>Pro rata</td><td>Kinea Renda Imobiliária FII, Kinea II Real Estate FII, Kinea Rendimentos Imobiliários FII, Kinea Premium Properties FII, Kinea Índice de Preços FII, Kinea Fundo de Fundos FII, Kinea High Yield CRI FII, Even II Kinea FII, Kinea Securities FII, Kinea Creditas FII, Kinea Hedge Fund FII, Kinea Unique HY CDI FII, Kinea Oportunidades Agro I Fiagro-Imobiliário, Kinea Desenvolvimento Logístico FII, Kinea Oportunidades Real Estate FII, Kinea Fênix FII</td><td>O Gestor é a Kinea Investimentos Ltda., sociedade limitada, com sede na Rua Minas de Prata, nº 30, 4º andar, Vila Olímpia, CEP 04.552-080, São Paulo - SP. O Gestor foi contratado pelo Administrador para prestação de serviços de gestão de carteira do Fundo e presta serviços de gestão de carteiras de outros fundos de investimento administrados pelo Administrador. O Gestor integra o mesmo conglomerado financeiro do Administrador, controlado pelo Itaú Unibanco Holding S.A.</td><td>null</td><td>1.99547776E9</td><td></td><td>KINEA</td><td>2.457727E7</td><td>Papel Híbrido Gestão Ativa</td><td>0.09710710014631813</td><td>129100.316</td><td>-0.07015198278406308</td><td>0.1360068811234736</td><td>0.1339097186356952</td><td>104.36000061035156</td><td>true</td><td>3</td><td>FII_3</td></tr><tr><td>30130708000128</td><td>2025-07-17</td><td>KNHY11</td><td>7.0</td><td>Kinea High Yield CRI Fundo de Investimento Imobiliário Responsabilidade Limitada</td><td>FII</td><td>99.15</td><td>Sim</td><td>null</td><td>CRI, Debêntures, FIDC, LIG, LCI, LH, FII, outros ativos financeiros, títulos e valores mobiliários permitidos</td><td>Marcio Verri, CFA e CAIA: sócio, fundador e CEO da Kinea Investimentos; Flávio Cagno, CFA e CAIA: sócio e gestor responsável pelos fundos de CRI e CRA da Kinea; Danilo Lee: atua na área de Capital Solutions; Daniel Xavier Juc, CFA, CAIA: integra a área de gestão de fundos; Gabriel Duarte: integra a área de gestão de fundos; Guilherme Coutinho: integra a área de gestão de fundos; José Olenscki: integra a área de gestão de fundos; Lucas Nunes Badaró: integra a área de gestão de fundos; Luiz Saad: integra a área de gestão de fundos; Pedro Bruder: integra a área de gestão de fundos; Rafael de Albuquerque Carvalho: integra a área de gestão de fundos; Alessandro Lopes: responsável pelas áreas de Riscos, Controles Internos e Compliance e Controladoria; Ricardo Sakai: responsável pela área de Riscos; Ivan Freitas Simão: integra a área de Relações com Investidores; Luis Filipe de Callis: atua na equipe de RI dos fundos listados; Artur Pereira Batista Silva: integra a área de relacionamento com investidores</td><td>6000000.0</td><td>1500000.0</td><td>Investidores qualificados</td><td>No âmbito da 2ª Série, os Investidores deverão ser clientes correntistas dos segmentos Institucionais, Corporate, Íon, Private, Personnalité, Uniclass e Agências do Itaú Unibanco, excluídos clubes de investimento e regimes próprios de previdência social (RPPS)</td><td>Modelo de procuração incluso</td><td>Taxa de distribuição total 1.80%, comissão de coordenação 0.10%, comissão de distribuição 1.50%, advogados 0.04%, tributos advogados 0.00%, taxa registro CVM 0.04%, taxa registro Anbima 0.03%, taxa B3 distribuição padrão fixa 0.03%, taxa B3 distribuição padrão variável 0.05%, taxa B3 análise oferta 0.00%, taxa B3 listagem 0.00%, anúncio 0.00%, cartório 0.00%, outras despesas 0.03%.</td><td>Risco de Crédito (Maior), Liquidez Reduzida das Cotas (Maior), Riscos de Liquidez e Descontinuidade do Investimento (Maior), Riscos de Mercado (Maior), Risco Tributário (Maior), Riscos Decorrentes dos Cenários Econômico e Fiscal Brasileiro (Maior), Riscos Relativos aos CRI, às LCI e às LH (Maior), Fatores Macroeconômicos Relevantes (Médio), Risco Sistêmico e do Setor Imobiliário (Médio), Risco do Investimento nos Ativos de Liquidez (Médio), Riscos de Concentração da Carteira (Médio), Riscos do Prazo (Médio), Risco Operacional (Médio), Risco de Sinistro e de Inexistência de Seguro (Médio), Risco de Desenquadramento Passivo Involuntário (Médio), Cobrança dos Ativos e dos Ativos de Liquidez, Possibilidade de Perda do Capital Investido (Médio), Risco de Inexistência de Quórum nas Deliberações a serem tomadas pela Assembleia Geral de Cotistas (Médio), Risco de Governança (Médio), Risco Regulatório/Jurídico (Médio), Risco Relativo à Concentração e Pulverização (Médio), Não Existência de Garantia de Eliminação de Riscos (Médio), Riscos de o Fundo vir a ter Patrimônio Líquido Negativo (Médio), Riscos Relativos ao Pré-Pagamento ou Amortização Extraordinária dos Ativos (Médio), Risco Relativo à Inexistência de Ativos e/ou de Ativos de Liquidez que se Enquadrem na Política de Investimento (Médio), Risco de Inexistência de Operações de Mercado Equivalentes para fins de Determinação do Ágio e/ou Deságio Aplicável ao Preço de Aquisição (Médio), Risco Decorrente da Aquisição de Ativos e/ou Ativos de Liquidez nos Termos da Resolução CMN nº 2.921 (Médio), Risco de Elaboração do Estudo de Viabilidade pelo Gestor (Médio), Riscos Atrelados aos Fundos Investidos (Médio), Risco de Execução das Garantias Atreladas aos Ativos (Médio), Riscos relacionados à Oferta (Médio), Risco de não Materialização das Perspectivas Contidas nos Documentos da Oferta (Médio), O Fundo poderá realizar a Emissão de Novas Cotas, o que poderá resultar em uma Diluição da Participação do Cotista ou Redução da Rentabilidade (Médio), Risco de Potencial Conflito de Interesses (Médio), Riscos Ambientais (Médio), Riscos das Contingências Ambientais (Médio), Risco Relativo ao Prazo de Duração Indeterminado do Fundo (Médio), Risco Relativo à Impossibilidade de Negociação das Novas Cotas até o Encerramento da Oferta (Médio), Risco de Vacância (Médio), Risco de Desvalorização dos Ativos Integrantes do Patrimônio dos FIIs Investidos (Médio), Riscos Relativos às Receitas Projetadas e Despesas Mais Relevantes (Médio), Risco de Desapropriação (Médio), Risco Relativo às Informações disponíveis sobre os FII Investidos (Médio), Riscos Relativos ao Registro de Aquisição de Imóveis (Médio), Riscos do Uso de Derivativos (Menor), Riscos Relacionados à Pandemia do COVID-19 (Menor), Risco da Morosidade da Justiça Brasileira (Menor), Risco Relativo à não Substituição do Administrador, do Gestor ou do Custodiante (Menor), Classe Única de Cotas (Menor), Participação de Pessoas Vinculadas na Oferta (Menor), Risco da Possibilidade de Devolução dos Recursos Aportados no Fundo sem qualquer Remuneração/Acréscimo em Caso de Desistência da Oferta (Menor)</td><td>9983810.0</td><td>991.5</td><td>null</td><td>3.9999984E7</td><td>null</td><td>Mín 90.00 / Méd 104.68 / Máx 121.00</td><td>0.2129962728847</td><td>A diluição econômica imediata dos cotistas que não subscreverem as cotas ofertadas é calculada pela divisão da quantidade de novas cotas a serem emitidas pela soma dessa quantidade com a quantidade inicial de cotas antes da emissão em questão multiplicando o quociente obtido por 100 (cem).</td><td>Pro rata</td><td>Kinea Renda Imobiliária FII, Kinea II Real Estate FII, Kinea Rendimentos Imobiliários FII, Kinea Premium Properties FII, Kinea Índice de Preços FII, Kinea Fundo de Fundos FII, Kinea High Yield CRI FII, Even II Kinea FII, Kinea Securities FII, Kinea Creditas FII, Kinea Hedge Fund FII, Kinea Unique HY CDI FII, Kinea Crédito Agro Fiagro-Imobiliário, Kinea Oportunidades Agro I Fiagro-Imobiliário, Kinea Desenvolvimento Logístico FII, Kinea Oportunidades Real Estate FII, Kinea Fênix FII, Kinea Estratégia Infra CDI FIP, Kinea Agro Income USD Fiagro-Imobiliário, Kinea Aquisições Residenciais FII, Kinea Prime Residencial FII, Kinea Prime Residencial PVT FII</td><td>Kinea Investimentos Ltda., constituída em 18 de outubro de 2007 pelo Itaú Unibanco e sócios executivos da Kinea, especializada em gestão de investimentos alternativos, com mais de 200 colaboradores e fundos totalizando R$131.2 bilhões de patrimônio líquido em junho de 2025.</td><td>null</td><td>5.9489997E8</td><td></td><td>KINEA</td><td>7500000.0</td><td>Multiestratégia Gestão Ativa</td><td>0.1117033912783868</td><td>43165.828</td><td>-0.09705124676325909</td><td>0.091775684525508</td><td>-0.23010462752747532</td><td>100.86000061035156</td><td>true</td><td>2</td><td>FII_2</td></tr><tr><td>42754362000118</td><td>2025-07-17</td><td>KNUQ11</td><td>4.0</td><td>Kinea Unique HY CDI Fundo de Investimento Imobiliário Responsabilidade Limitada</td><td>FII</td><td>101.26</td><td>Sim</td><td>null</td><td>CRI, FII, Debêntures, FIDC, LIG, LCI, LH</td><td>Marcio Verri, CFA e CAIA: sócio, fundador e CEO da Kinea Investimentos; Flávio Cagno, CFA e CAIA: sócio e gestor responsável pelos fundos de CRI e CRA da Kinea; Danilo Lee: atua na área de Capital Solutions; Daniel Xavier Juc, CFA, CAIA: integra a área de gestão de fundos; Gabriel Duarte: integra a área de gestão de fundos; Guilherme Coutinho: integra a área de gestão de fundos; José Olenscki: integra a área de gestão de fundos; Lucas Nunes Badaró: integra a área de gestão de fundos; Luiz Saad: integra a área de gestão de fundos; Pedro Bruder: integra a área de gestão de fundos; Rafael de Albuquerque Carvalho: integra a área de gestão de fundos; Alessandro Lopes: responsável pelas áreas de Riscos, Controles Internos e Compliance e Controladoria; Ricardo Sakai: responsável pela área de Riscos; Ivan Freitas Simão: integra a área de Relações com Investidores; Luis Filipe de Callis: atua na equipe de RI dos fundos listados; Artur Pereira Batista Silva: integra a área de relacionamento com investidores</td><td>4937783.0</td><td>1234445.0</td><td>Investidores Institucionais</td><td>Clientes correntistas dos segmentos Institucionais, Corporate, Íon, Private, Personnalité, Uniclass e Agências do Itaú Unibanco; excluídos clubes de investimento e regimes próprios de previdência social (RPPS)</td><td>Modelo de procuração incluso</td><td>Taxa de distribuição total 1.80%, comissão de coordenação 0.10%, comissão de distribuição 1.50%, advogados 0.04%, tributos advogados 0.01%, taxa registro CVM 0.04%, taxa registro B3 distribuição fixa 0.03%, taxa registro B3 distribuição variável 0.05%, taxa B3 análise oferta 0.00%, taxa B3 evento corporativo subscrição DP 0.01%, outras despesas 0.02%.</td><td>Risco de Crédito (Maior), Riscos Relativos às Cotas de FII, aos CRI, às LCI, às LH e às LIG (Maior), Risco Sistêmico e do Setor Imobiliário (Maior), Risco Tributário (Maior), Riscos Decorrentes dos Cenários Econômico e Fiscal Brasileiro (Maior), Risco Regulatório/Jurídico (Maior), Riscos de Mercado (Maior), Liquidez Reduzida das Cotas (Maior), Riscos de Liquidez e Descontinuidade do Investimento (Maior), Riscos do Prazo (Maior), Riscos Relativos ao Pré-Pagamento ou Amortização Extraordinária dos Ativos (Médio), Risco de Inexistência de Operações de Mercado Equivalentes para fins de Determinação do Ágio e/ou Deságio Aplicável ao Preço de Aquisição (Médio), Risco Relacionado às Garantias dos Ativos e/ou Ativos de Liquidez e ao seu Aperfeiçoamento (Médio), Risco de Desvalorização dos Ativos Integrantes do Patrimônio do Fundo e dos FII investidos pelo Fundo (Médio), Risco de Revisão ou Rescisão dos Contratos de Locação (Médio), Riscos Relativos ao Registro de Aquisição de Imóveis (Médio), Riscos Atrelados aos Ativos FII (Médio), Fatores Macroeconômicos Relevantes (Médio), Não Existência de Garantia de Eliminação de Riscos (Médio), Risco do Investimento nos Ativos de Liquidez (Médio), Risco Relativo à Inexistência de Ativos e/ou de Ativos de Liquidez que se Enquadrem na Política de Investimento (Médio), Risco Decorrente da Aquisição de Ativos e/ou Ativos de Liquidez nos Termos da Resolução CMN nº 2.921 (Médio), Riscos de Concentração da Carteira (Médio), Risco Decorrente de Alterações do Regulamento (Médio), Risco de Inexistência de Quórum nas Deliberações a Serem tomadas pela Assembleia Geral de Cotistas (Médio), Risco de Desempenho Passado (Médio), Risco Relativo às Informações Disponíveis Sobre os FII (Médio), Risco de Sinistro e de Inexistência de Seguro (Médio), Risco de Contingências Ambientais (Médio), Risco de Desapropriação (Médio), Risco de Despesas Extraordinárias (Médio), Riscos Relativos às Receitas Projetadas e Despesas Mais Relevantes (Médio), Risco de Elaboração do Estudo de Viabilidade pelo Gestor (Médio), Riscos Relativos à Rentabilidade do Investimento (Médio), Risco de Desenquadramento Passivo Involuntário (Médio), Risco de o Fundo não Captar a Totalidade dos Recursos Previstos no Volume Inicial da Oferta e de não Contar com Recursos Para a Aquisição de Ativos (Médio), Riscos relacionados à Oferta (Médio), Risco de Não Materialização das Perspectivas Contidas nos Documentos da Oferta (Médio), Risco Relativo à Impossibilidade de Negociação das Cotas até o Encerramento da Oferta (Médio), Risco de Falha de Liquidação Pelos Investidores (Médio), Risco de Não Concretização da Oferta das Cotas e de Cancelamento das Ordens de Subscrição Condicionadas e do Investimento por Pessoas Vinculadas (Médio), Risco Relativo à Concentração e Pulverização (Médio), O Fundo Poderá Realizar a Emissão de Cotas, o que Poderá Resultar em uma Diluição da Participação do Cotista ou Redução da Rentabilidade (Médio), Majoração de Custos dos Prestadores de Serviços (Menor), Risco de Governança (Menor), Riscos Relacionados à Ocorrência de Casos Fortuitos e Eventos de Força Maior (Médio), Riscos Relacionados à Disseminação de Doenças Transmissíveis (Menor), Risco de Conflito de Interesse (Menor), Cobrança dos Ativos e dos Ativos de Liquidez, Possibilidade de Perda do Capital Investido (Menor), Riscos de o Fundo vir a ter Patrimônio Líquido Negativo (Menor)</td><td>9999931.0</td><td>1012.6</td><td>1000043.75</td><td>999942.5</td><td>null</td><td>Mín 93.67 / Méd 103.50 / Máx 106.35 (2024), Mín 100.57 / Méd 101.92 / Máx 102.80 (2023), Mín N/A / Méd N/A / Máx N/A (2022), Mín N/A / Méd N/A / Máx N/A (2021), Mín N/A / Méd N/A / Máx N/A (2020), Mín 102.53 / Méd 103.71 / Máx 104.77 (2Tri25), Mín 96.72 / Méd 101.73 / Máx 105.05 (1Tri25), Mín 93.67 / Méd 101.60 / Máx 105.00 (4Tri24), Mín 103.01 / Méd 104.76 / Máx 106.35 (3Tri24), Mín 102.01 / Méd 103.88 / Máx 106.16 (2Tri24), Mín 101.71 / Méd 103.62 / Máx 105.71 (1Tri24), Mín 100.57 / Méd 101.92 / Máx 102.80 (4Tri23), Mín N/A / Méd N/A / Máx N/A (3Tri23), Mín 101.26 / Méd 101.98 / Máx 102.62 (jun-25), Mín 101.33 / Méd 101.94 / Máx 102.62 (mai-25), Mín 101.28 / Méd 101.88 / Máx 102.50 (abr-25), Mín 101.25 / Méd 101.81 / Máx 102.37 (mar-25), Mín 101.25 / Méd 101.81 / Máx 102.41 (fev-25), Mín 101.21 / Méd 101.79 / Máx 102.40 (jan-25)</td><td>0,3224671032202</td><td>A diluição econômica imediata dos cotistas que não subscreverem as cotas ofertadas é calculada pela divisão da quantidade de novas cotas a serem emitidas pela soma dessa quantidade com a quantidade inicial de cotas antes da emissão em questão multiplicando o quociente obtido por 100 (cem).</td><td>Pro rata</td><td>Kinea Renda Imobiliária FII, Kinea II Real Estate FII, Kinea Rendimentos Imobiliários FII, Kinea Premium Properties FII, Kinea Índice de Preços FII, Kinea Fundo de Fundos FII, Kinea High Yield CRI FII, Even II Kinea FII, Kinea Securities FII, Kinea Creditas FII, Kinea Hedge Fund FII, Kinea Unique HY CDI FII, Kinea Crédito Agro Fiagro-Imobiliário, Kinea Oportunidades Agro I Fiagro-Imobiliário, Kinea Desenvolvimento Logístico FII, Kinea Oportunidades Real Estate FII, Kinea Fênix FII, Kinea Estratégia Infra CDI FIP, Kinea Agro Income USD Fiagro-Imobiliário, Kinea Aquisições Residenciais FII, Kinea Prime Residencial FII, Kinea Prime Residencial PVT FII</td><td>Kinea Investimentos Ltda., constituída em 18 de outubro de 2007 pelo Itaú Unibanco e sócios executivos da Kinea, especializada em gestão de investimentos alternativos, com mais de 200 colaboradores e fundos totalizando R$131,2 bilhões de patrimônio líquido em junho de 2025.</td><td>null</td><td>4.99999904E8</td><td></td><td>KINEA</td><td>6172228.0</td><td>Papel Híbrido Gestão Ativa</td><td>0.11737480730003803</td><td>34109.316</td><td>-0.11098748049599676</td><td>0.0676556854119954</td><td>-0.40633752917320176</td><td>104.9800033569336</td><td>true</td><td>2</td><td>FII_2</td></tr></tbody></table></div>"
      ]
     },
     "metadata": {
      "application/vnd.databricks.v1+output": {
       "addedWidgets": {},
       "aggData": [],
       "aggError": "",
       "aggOverflow": false,
       "aggSchema": [],
       "aggSeriesLimitReached": false,
       "aggType": "",
       "arguments": {},
       "columnCustomDisplayInfos": {},
       "data": [
        [
         "01235622000161",
         "2015-07-13",
         "FTCE11",
         4.0,
         "OPPORTUNITY FUNDO DE INVESTIMENTO IMOBILIÁRIO",
         "FII",
         1766.05,
         "Não",
         null,
         "imóveis comerciais, residenciais, industriais, terrenos, shopping centers, títulos de renda fixa públicos e privados, cotas de fundos de investimento referenciados, renda fixa e curto prazo",
         "Consultor Especializado MÉTRICA EMPREENDIMENTOS E PARTICIPAÇÕES LTDA., com 30 anos de experiência, coordenado por Jomar Monnerat, diretor com MBA em Finanças Corporativas pela FGV e experiência na KPMG e Grupo Opportunity",
         null,
         null,
         "Investidores qualificados",
         "",
         "",
         "Não incorrerá em custos adicionais para o Fundo",
         "Risco de Liquidez (Maior), Dificuldades Financeiras do Incorporador/Construtor (Maior), Risco relacionado a Fatores Macroeconômicos e Regulatórios (Maior), Riscos de Mercado (Maior), Risco de Crédito (Maior), Outros Riscos Exógenos ao Controle do Administrador (Maior), Risco de Desapropriação (Maior), Risco de Patrimônio Negativo (Maior), Riscos do Setor Imobiliário (Maior), Risco de Alterações nas Leis de Zoneamento (Maior), Riscos Ambientais (Maior), Riscos Relativos às Operações de Aquisição de bens Imóveis (Maior), Risco de Regularidade dos Imóveis (Maior), Riscos dos Contratos de Locação ou Arrendamento e Risco de Vacância (Maior), Risco de Desligamento da Carteira (Maior), Riscos quanto às Despesas de Manutenção dos Imóveis (Maior), Riscos decorrentes de Vícios Ocultos e Contingências Não Identificadas ou Não Identificáveis (Maior), Risco na gestão financeira, contábil e/ou imobiliária de empreendimento investido pelo FUNDO (Maior), Risco de Ocorrência de Casos Fortuitos e Eventos de Força Maior (Maior), Risco de sinistro e de perdas decorrentes de sinistros não cobertos pelos seguros contratados (Maior), Riscos Operacionais (Maior), Riscos de Conflitos de interesse (Maior), Risco de Custos Relativos a Eventuais Reclamações de Terceiros (Maior), Risco de concentração da carteira do FUNDO (Maior), Risco em Função da Dispensa de Registro da Oferta das Cotas do FUNDO (Maior), Risco do Bloqueio à Negociação de Cotas (Maior), Risco de Colocação Parcial da Emissão de Cotas (Maior), Risco de Governança (Maior), Risco de Inexistência de Garantia das Aplicações no FUNDO (Maior)",
         2.5E7,
         1000000.0,
         null,
         null,
         null,
         "Mín 1850 / Méd 1912.89 / Máx 2950 (2011), Mín 2950 / Méd 3106 / Máx 3350 (2012), Mín 3500 / Méd 3563.66 / Máx 3700.01 (2013), Mín 3710 / Méd 3710 / Máx 3710 (2014)",
         "",
         "",
         "",
         "",
         "BNY Mellon Serviços Financeiros, fundada em 1784, líder global em administração e gestão de ativos, com US$ 28,5 trilhões em ativos sob custódia e US$ 1,7 trilhão em ativos sob gestão até março de 2015",
         null,
         2.5E7,
         "",
         "CONCORRENTE",
         0.0,
         "Multiestratégia Gestão Ativa",
         0.02800389511121603,
         29.72289156626506,
         -0.020245367891120653,
         0.008465619375751299,
         -3.993086313562455,
         2841.75,
         true,
         1,
         "FII_1"
        ],
        [
         "03683056000186",
         "2011-11-01",
         "RCRB11",
         4.0,
         "FUNDO DE INVESTIMENTO IMOBILIÁRIO RIO BRAVO RENDA CORPORATIVA",
         "FII",
         1.7,
         "Sim",
         null,
         "lajes corporativas, conjuntos comerciais, vagas de garagem, direitos sobre empreendimentos imobiliários",
         "Mario Fleck (CEO), Gustavo Franco (Presidente do Conselho), Paulo Bilyk (CIO), Fabio Ohara Ishigami (Diretor), Miguel Russo Neto (Diretor de Risco e Compliance), Luiz Eugenio J. Figueiredo (Diretor de Operações), Pedro Bohrer Amaral (Gerente Jurídico), José Alberto Diniz (Diretor de Investimentos Imobiliários), Anita Spichler Scal (Gerente de Investimentos Imobiliários)",
         2.9411764E7,
         null,
         "pessoas naturais e jurídicas, fundos de investimento, investidores institucionais",
         "",
         "",
         "a) comissão de distribuição: 2.5% b) comissão de coordenação: 1.5% c) comissão de sucesso: 0.5% d) despesas gerais e taxas: 0.17%",
         "Risco de Crédito (Maior); Risco de Mercado (Maior); Risco de Liquidez (Médio); Risco Jurídico (Médio); Risco Tributário (Médio)",
         5000000.0,
         100.0,
         500000.0,
         null,
         null,
         "Mín 0.65 / Méd 1.38 / Máx 1.80",
         "0.454602278",
         "",
         "Pro rata",
         "",
         "",
         null,
         5.0E7,
         "",
         "CONCORRENTE",
         2.9411764E7,
         "Tijolo Renda Gestão Ativa",
         0.2966779177143121,
         7598.044,
         -0.15738786877293845,
         0.027917771916063705,
         -0.1651192720868273,
         126.94000244140625,
         true,
         1,
         "FII_1"
        ],
        [
         "08014513000163",
         "2008-09-18",
         "NSLU11",
         1.0,
         "FUNDO DE INVESTIMENTO IMOBILIÁRIO HOSPITAL NOSSA SENHORA DE LOURDES",
         "FII",
         150.0,
         "",
         null,
         "",
         "",
         280000.0,
         null,
         "quaisquer investidores, qualificados ou não, pessoas físicas ou jurídicas, brasileiros ou estrangeiros, que disponham de recursos na forma exigida pelo Regulamento do FUNDO interessados em investimento em valores mobiliários de renda variável lastreado em imóveis",
         "",
         "",
         "a) comissão de colocação: 2%... b) comissão de coordenação: 1%... Taxa de Fiscalização da CVM: 82870,00... custo unitário da distribuição: 4,8 reais por quota, 3,20% do preço unitário, montante líquido para o ofertante: 145,2 reais por quota",
         "Riscos relacionados a fatores macroeconômicos (Maior); Riscos relacionados à liquidez (Médio); Riscos relativos à concentração de quotas do fundo (Maior); Riscos relativos à rentabilidade do investimento (Maior); Risco relativo à desvalorização do imóvel (Médio); Riscos relativos à atividade econômica (Médio); Riscos relativos às receitas projetadas e às despesas mais relevantes (Médio); Risco relativo às novas emissões (Médio); Risco tributário (Médio); Risco de desapropriação e do caso fortuito ou força maior (Médio)",
         null,
         7500.0,
         null,
         null,
         null,
         "Mín 144.50 / Méd 153.01 / Máx 161.99",
         "",
         "",
         "",
         "",
         "",
         null,
         4.2E7,
         "",
         "CONCORRENTE",
         280000.0,
         "Tijolo Renda Gestão Definida",
         0.20956396085813866,
         1242.188,
         -0.1976325787361302,
         0.07653779700527008,
         -0.11676111783478839,
         176.0,
         true,
         1,
         "FII_1"
        ],
        [
         "08098114000128",
         "2007-10-26",
         "HSRE11",
         6.0,
         "FUNDO DE INVESTIMENTO IMOBILIÁRIO COMERCIAL PROGRESSIVO II",
         "FII",
         100.0,
         "Sim",
         null,
         "",
         "",
         504700.0,
         null,
         "quaisquer tipos de investidores, pessoas físicas ou jurídicas, que disponham de recursos na forma exigida pelo Regulamento do FUNDO",
         "",
         "",
         "a) Taxa de Fiscalização da CVM: 0.30% do valor da emissão; b) Custo unitário do lançamento: 0.1642 por quota; c) Imposto sobre Transmissão de Bens Imóveis – ITBI: 2% sobre o valor do primeiro imóvel; d) Taxas e emolumentos dos cartórios para escritura e registro",
         "Riscos relacionados a fatores macroeconômicos (Moderado), Risco relacionado à liquidez (Alto), Risco relativo à concentração de quotas (Alto), Riscos relativos à rentabilidade do investimento (Moderado), Risco relativo à desvalorização (Moderado), Riscos relativos à atividade econômica (Moderado), Risco quanto ao objeto do Fundo (Moderado), Riscos relativos às receitas mais relevantes (Moderado), Riscos relativos à aquisição do imóvel (Moderado), Risco relativo às novas emissões (Moderado), Risco tributário (Moderado)",
         5.047E7,
         10000.0,
         null,
         null,
         null,
         "",
         "proporção das quotas integralizadas que possuir",
         "Os quotistas poderão sofrer diluição na ausência de subscrição nas novas emissões, mas há direito de preferência para minimizar esse risco.",
         "Pro rata",
         "",
         "Banco Ourinvest S.A., com histórico desde 1968, pioneiro em diversos produtos financeiros e fundos imobiliários, com atuação consolidada no mercado brasileiro.",
         null,
         5.047E7,
         "",
         "CONCORRENTE",
         504700.0,
         "Tijolo Renda Gestão Ativa",
         0.15090618247082915,
         23272.714285714286,
         -0.07731147432339516,
         0.13495950079488406,
         0.16807282077479818,
         101.5,
         true,
         4,
         "FII_4"
        ],
        [
         "08098114000128",
         "2007-12-03",
         "HSRE11",
         6.0,
         "FUNDO DE INVESTIMENTO IMOBILIÁRIO COMERCIAL PROGRESSIVO II",
         "FII",
         100.0,
         "Sim",
         null,
         "",
         "",
         504700.0,
         null,
         "Investidores em geral",
         "",
         "",
         "a) Taxa de Fiscalização da CVM: 0.30% do valor da emissão; b) Custo unitário do lançamento: 0.1642 por quota",
         "Riscos relacionados a fatores macroeconômicos (Moderado), Risco relacionado à liquidez (Alto), Risco relativo à concentração de quotas (Alto), Riscos relativos à rentabilidade do investimento (Moderado), Risco relativo à desvalorização (Moderado), Riscos relativos à atividade econômica (Moderado), Risco quanto ao objeto do Fundo (Moderado), Riscos relativos às receitas mais relevantes (Moderado), Risco relativo às aquisições do imóvel (Moderado), Risco relativo às novas emissões (Moderado), Risco tributário (Moderado)",
         5.047E7,
         10000.0,
         null,
         null,
         null,
         "",
         "1 quota para 1 quota",
         "A ausência do quotista na subscrição de novas quotas pode ensejar diluição da participação no patrimônio do FUNDO.",
         "Pro rata",
         "",
         "",
         null,
         5.047E7,
         "",
         "CONCORRENTE",
         504700.0,
         "Tijolo Renda Gestão Ativa",
         0.15090618247082915,
         23272.714285714286,
         -0.07731147432339516,
         0.13495950079488406,
         0.16807282077479818,
         101.5,
         true,
         0,
         "FII_0"
        ],
        [
         "08706065000169",
         "2007-07-12",
         "HTMX11",
         17.0,
         "FUNDO DE INVESTIMENTO IMOBILIÁRIO HOTEL MAXINVEST",
         "FII",
         100.0,
         "Sim",
         null,
         "",
         "",
         1000000.0,
         null,
         "Investidores em geral",
         "",
         "",
         "a) Taxa de Fiscalização da CVM: 300000.00 (0.30% do valor de cada emissão da 3ª a 18ª); b) Comissão de Colocação: 2.8% sobre o valor das quotas efetivamente colocadas pelo Coordenador; c) Custo unitário do lançamento: 3.10 por quota",
         "Riscos relacionados a fatores macroeconômicos (Moderado), Risco relacionado à liquidez (Moderado), Risco relativo à concentração de quotas do Fundo (Moderado), Riscos relativos à rentabilidade do investimento (Moderado), Risco relativo à desvalorização (Moderado), Riscos relativos à atividade econômica (Moderado), Risco quanto ao objeto do Fundo (Moderado), Riscos relativos às receitas mais relevantes (Moderado), Riscos relativos à aquisição do imóvel (Moderado), Risco do Fundo não captar a totalidade dos recursos das 17 emissões (Moderado), Risco relativo às novas emissões (Moderado), Risco tributário (Moderado)",
         null,
         null,
         null,
         null,
         null,
         "",
         "",
         "",
         "",
         "",
         "",
         null,
         1.0E8,
         "",
         "CONCORRENTE",
         1000000.0,
         "Tijolo Renda Gestão Definida",
         0.22163819225994544,
         6845.216,
         -0.27946236871204294,
         -0.12243690082319347,
         -1.0268071714733689,
         140.33999633789062,
         true,
         1,
         "FII_1"
        ],
        [
         "08706065000169",
         "2010-08-26",
         "HTMX11",
         12.0,
         "FUNDO DE INVESTIMENTO IMOBILIÁRIO HOTEL MAXINVEST",
         "FII",
         130.0,
         "Sim",
         null,
         "Blue Tree Berrini, Blue Tree Faria Lima, Intercity Nações Unidas, Blue Tree Paulista, Blue Tree Verbo Divino, Caesar Business Faria Lima, Caesar Business Paulista, Clarion Jardim Europa, Comfort Ibirapuera, Comfort Nova Paulista, Comfort Suites Oscar Freire, Feller Paulista, Formule 1 Jardins, Formule 1 Paulista, Formule 1 São João, Golden Tulip Park Plaza, Golden Tulip Paulista Plaza, Ibis Congonhas, Ibis Santo André, Ibis São Paulo Paulista, Intercity Premium Berrini, Intercity Premium Ibirapuera, Meliá Jardim Europa, Mercure Apts Central Towers, Mercure Apts Privilege, Mercure Apts The Executive One, Park Suites ITC, Quality Berrini, Quality Faria Lima, Quality Jardins, Quality Suites Congonhas, Quality Suites Imperial Hall, Staybridge Suites São Paulo, Transamerica Congonhas, Transamerica Faria Lima, Transamerica International, Tryp Berrini, Tryp Higienopolis, Tryp Iguatemi, Tryp Itaim, Tryp Jesuino Arruda, Tryp Paulista, Tryp Tatuape",
         "",
         59516.0,
         null,
         "O FUNDO é destinado a investidores pessoas físicas e jurídicas, investidores institucionais, residentes e domiciliadas no Brasil ou no exterior, bem como fundos de investimento, com objetivo de investimento de longo prazo, sendo garantido aos Investidores o tratamento igualitário e eqüitativo.",
         "",
         "",
         "a) Taxa de Fiscalização da CVM: 0.30% do valor da emissão; b) Comissão de Colocação: 2.0% sobre o valor das cotas efetivamente colocadas; c) Imposto sobre Transmissão de Bens Imóveis – ITBI: 2% sobre o valor dos Imóveis-Alvos; d) Demais custos: taxas e emolumentos dos cartórios, custos de transação imobiliária e custos financeiros; Custo Total: 1217152.84",
         "Riscos relacionados a fatores macroeconômicos (Maior), Risco de Liquidez (Maior), Risco de Concentração de Propriedade (Médio), Riscos relativos à rentabilidade do investimento (Médio), Risco relativo à desvalorização (Médio), Riscos relativos à atividade econômica (Médio), Risco quanto ao objeto do Fundo (Médio), Riscos relativos às receitas mais relevantes (Médio), Riscos relativos à aquisição do imóvel (Médio), Risco do Fundo não captar a totalidade dos recursos da emissão (Médio), Risco relativo às novas emissões (Médio), Risco tributário (Médio)",
         130.0,
         130.0,
         null,
         null,
         null,
         "",
         "Para cada lote de 11 cotas da atual participação, o cotista poderá subscrever 1 nova cota",
         "",
         "Ordem de chegada",
         "",
         "Banco Ourinvest S.A. originou-se em 1968, com foco no mercado de atacado e expansão dos mercados financeiros. Em 1991 passou a se chamar Banco Ourinvest S.A., oferecendo diversas operações financeiras. Atuou no mercado internacional desde 1990. Foi pioneiro na distribuição de eurobonds e na estruturação de notas de capital garantido. Atualmente foca em operações de tesouraria e finanças corporativas, oferecendo soluções inovadoras. Administra diversos fundos imobiliários e participou da estruturação de outros fundos. Tem parceria para investimentos estrangeiros e atua em project finance.",
         null,
         7737080.0,
         "",
         "CONCORRENTE",
         59516.0,
         "Tijolo Renda Gestão Definida",
         0.22163819225994544,
         6845.216,
         -0.27946236871204294,
         -0.12243690082319347,
         -1.0268071714733689,
         140.33999633789062,
         true,
         1,
         "FII_1"
        ],
        [
         "11179118000145",
         "2010-10-25",
         "FAED11",
         2.0,
         "Fundo de Investimento Imobiliário Anhanguera Educacional",
         "FII",
         110.0,
         "Sim",
         null,
         "imóveis comerciais localizados na Rua Waldemar Silenci, Leme - SP, e Alameda Maria Tereza, Valinhos - SP",
         "Banco Ourinvest S.A. com histórico desde 1968, pioneiro em fundos imobiliários e operações financeiras sofisticadas, com Diretor Responsável Sr. David Assine.",
         136629.0,
         null,
         "investidores pessoas físicas e jurídicas, investidores institucionais, residentes e domiciliadas no Brasil ou no exterior, bem como fundos de investimento",
         "",
         "",
         "comissão de colocação e coordenação: 3.0%, taxa de fiscalização: 0.30%, ITBI: 1.88%, registros: 0.60%",
         "Risco de Crédito (Maior); Fatores macroeconômicos relevantes (Maior); Riscos de alteração da legislação (Médio); Risco tributário (Médio); Riscos jurídicos (Médio); Risco de concentração de propriedade (Médio); Risco de concentração da carteira (Médio); Risco relativo à rentabilidade (Maior); Riscos de despesas extraordinárias (Médio); Riscos relacionados ao mercado imobiliário (Maior)",
         11000.0,
         11000.0,
         null,
         null,
         null,
         "",
         "proporção do número de cotas que possuir",
         "",
         "rateio proporcional entre os subscritores na proporção das cotas subscritas e integralizadas",
         "",
         "Banco Ourinvest S.A., fundado em 1968, pioneiro em fundos imobiliários, com experiência em operações financeiras sofisticadas e gestão de fundos imobiliários, tendo o Sr. David Assine como Diretor Responsável.",
         null,
         1.502919E7,
         "",
         "CONCORRENTE",
         136629.0,
         "Tijolo Renda Gestão Definida",
         0.19414961782915105,
         449.568,
         -0.1292413918212614,
         0.08263482556855828,
         -0.11144666037367103,
         143.64999389648438,
         true,
         1,
         "FII_1"
        ],
        [
         "16706958000132",
         "2024-10-28",
         "KNCR11",
         11.0,
         "Kinea Rendimentos Imobiliários Fundo de Investimento Imobiliário - FII",
         "FII",
         101.49,
         "Sim",
         null,
         "Certificados de Recebíveis Imobiliários (CRI), Letras de Crédito Imobiliário (LCI), Letras Hipotecárias (LH), outros ativos financeiros, títulos e valores mobiliários permitidos pela Instrução CVM nº 472",
         "Marcio Verri, CFA e CAIA: sócio, fundador e CEO da Kinea Investimentos, com experiência no BankBoston e especializações em Finanças pela FGV-SP, Private Equity e Estratégia pela Harvard Business School e Opções e Gestão pelo INSEAD. Flávio Cagno, CFA e CAIA: sócio e gestor responsável pelos fundos de CRI e CRA da Kinea, com experiência na RB Capital, Vision Brazil Investments, Capitânia Asset & Risk Management e formação em Administração e Direito pela FGV e USP, mestrado em real estate pela NYU. Danilo Lee: atuou 18 anos na área de Distressed & Special Situations do Bank of America Merrill Lynch no Brasil, graduado em Administração pela FGV/SP. Daniel Xavier Juc, CFA, CAIA: formado em engenharia mecatrônica pela USP, atua na gestão de fundos da Kinea desde 2016. Gabriel Duarte: engenheiro mecânico pela USP, atua na Kinea desde 2020. Guilherme Coutinho: economista pela Universidade Federal de Alagoas, atua na Kinea desde 2013. José Olenscki: engenheiro mecatrônico pela USP, atua na Kinea desde 2021. Luiz Saad: engenheiro civil pelo Mackenzie-SP, com MBA em Real Estate pela USP e especialização em Finanças pela FGV/SP, atua na Kinea desde 2022. Lucas Nunes Badaró: cursa ciências econômicas na Universidade Estadual de Campinas, atua na Kinea desde 2021. Pedro Bruder: administrador pela FEA-USP, atua na Kinea desde 2016. Rafael de Albuquerque Carvalho: administrador pela Mackenzie, pós-graduado em Finanças e Economia pela FGV, atua na Kinea desde 2022. Alessandro Lopes: MBA pela Boston School/Columbia University, graduado em Administração e Ciências Contábeis pela Universidade Paulista, atua na Kinea desde 2017. Ricardo Sakai: graduado em Engenharia Metalúrgica pela USP, atua na Kinea desde 2013. Ivan Freitas Simão: graduado em Administração pela PUC-SP, atua na Kinea desde 2014. Luis Filipe de Callis: graduado em Engenharia de Produção pelo Mackenzie, atua na Kinea desde 2021. Artur Pereira Batista Silva: discente de engenharia civil na Universidade Federal do Rio Grande do Norte, atua na Kinea desde 2022.",
         1.9661816E7,
         4915454.0,
         "Investidores em geral",
         "Clientes correntistas dos segmentos Institucionais, Corporate, Íon, Private, Personnalité, Uniclass e Agências do Itaú Unibanco, excluídos clubes de investimento e regimes próprios de previdência social (RPPS)",
         "Modelo de procuração incluso",
         "Taxa de distribuição total 2.00%, comissão de coordenação 0.20%, comissão de distribuição 1.70%, advogados 0.01%, taxa de registro CVM 0.04%, taxa B3 análise oferta 0.00%, taxa B3 distribuição padrão fixa 0.01%, taxa B3 distribuição padrão variável 0.04%, taxa registro Anbima 0.00%, anúncio 0.01%, cartório 0.00%, outras despesas 0.00%.",
         "Risco de Crédito (Maior), Risco Sistêmico e do Setor Imobiliário (Maior), Risco Tributário (Maior), Risco Regulatório/Jurídico (Maior), Riscos de Mercado (Maior), Liquidez Reduzida das Cotas (Maior), Riscos de Liquidez e Descontinuidade do Investimento (Maior), Riscos do Prazo (Maior), Riscos Relativos aos CRI, às LCI e às LH (Maior), Riscos Relativos ao Pré-Pagamento ou Amortização Extraordinária dos Ativos (Médio), Risco de Execução das Garantias Atreladas aos Ativos (Médio), Risco Relativo ao Desenvolvimento Imobiliário e de Construção (Médio), Risco de Inexistência de Operações de Mercado Equivalentes para fins de Determinação do Ágio e/ou Deságio Aplicável ao Preço de Aquisição (Médio), Risco Decorrente da Aquisição de Ativos e/ou Ativos de Liquidez nos Termos da Resolução CMN nº 2.921 (Médio), Riscos Atrelados aos Fundos Investidos (Médio), Risco Operacional (Médio), Riscos Relativos ao Registro de Aquisição de Imóveis (Médio), Fatores Macroeconômicos Relevantes (Médio), Riscos Ambientais (Médio), Riscos das Contingências Ambientais (Médio), Risco Relativo ao Prazo de Duração Indeterminado do Fundo (Médio), Risco da Morosidade da Justiça Brasileira (Médio), Risco de lançamento de novos empreendimentos imobiliários comerciais próximos aos imóveis investidos pelo Fundo (Médio), Não Existência de Garantia de Eliminação de Riscos (Médio), Risco do Investimento nos Ativos de Liquidez (Médio), Risco Relativo à Inexistência de Ativos e/ou de Ativos de Liquidez que se Enquadrem na Política de Investimento (Médio), Riscos de Concentração da Carteira (Médio), Risco de Inexistência de Quórum nas Deliberações a serem tomadas pela Assembleia Geral de Cotistas (Médio), Risco de Sinistro e de Inexistência de Seguro (Médio), Riscos do Uso de Derivativos (Médio), O Fundo poderá realizar a Emissão de Novas Cotas, o que poderá resultar em uma Diluição da Participação do Cotista ou Redução da Rentabilidade (Médio), Riscos relacionados à Oferta (Médio), Risco de não Materialização das Perspectivas Contidas nos Documentos de Oferta das Cotas (Médio), Risco Relativo à Impossibilidade de Negociação das Novas Cotas até o Encerramento da Oferta (Médio), Risco da Possibilidade de Devolução dos Recursos Aportados no Fundo sem qualquer Remuneração/Acréscimo em Caso de Desistência da Oferta (Médio), Risco de Elaboração do Estudo de Viabilidade pelo Gestor (Médio), Risco de Desenquadramento Passivo Involuntário (Médio), Risco Relativo à Concentração e Pulverização (Médio), Risco de Governança (Menor), Riscos Relacionados à Pandemia do COVID-19 (Menor), Risco Relativo à não Substituição do Administrador, do Gestor ou do Custodiante (Menor)",
         9977380.0,
         1035.2,
         1000003.2,
         999899.7,
         null,
         "Mín 80.40 / Méd 98.57 / Máx 106.51",
         "0.28294749489",
         "A posição patrimonial do Fundo, antes da emissão das Novas Cotas, é a seguinte: Quantidade de Cotas do Fundo (em 30/09/2024) 69.489.274, Patrimônio Líquido do Fundo (em 30/09/2024) 7052609623.01, Valor Patrimonial das Cotas (em 30/09/2024) 101.4920608. A posição patrimonial do Fundo, após a subscrição e integralização das Novas Cotas, objeto da Oferta, poderá ser a seguinte, com base nos cenários abaixo descritos: Cenário 1: Quantidade de Novas Cotas Emitidas 19661816, Quantidade de Cotas do Fundo Após a Oferta 89151090, Patrimônio Líquido do Fundo Após a Captação dos Recursos da Emissão 9048127848.28, Valor Patrimonial das Cotas Após a Captação dos Recursos da Emissão 101.49. Cenário 2: Quantidade de Novas Cotas Emitidas 98309, Quantidade de Cotas do Fundo Após a Oferta 69587583, Patrimônio Líquido do Fundo Após a Captação dos Recursos da Emissão 7062587206.02, Valor Patrimonial das Cotas Após a Captação dos Recursos da Emissão 101.49. Cenário 3: Quantidade de Novas Cotas Emitidas 24577270, Quantidade de Cotas do Fundo Após a Oferta 94066544, Patrimônio Líquido do Fundo Após a Captação dos Recursos da Emissão 9547007404.59, Valor Patrimonial das Cotas Após a Captação dos Recursos da Emissão 101.49.",
         "Pro rata",
         "Kinea Renda Imobiliária FII, Kinea II Real Estate FII, Kinea Rendimentos Imobiliários FII, Kinea Premium Properties FII, Kinea Índice de Preços FII, Kinea Fundo de Fundos FII, Kinea High Yield CRI FII, Even II Kinea FII, Kinea Securities FII, Kinea Creditas FII, Kinea Hedge Fund FII, Kinea Unique HY CDI FII, Kinea Oportunidades Agro I Fiagro-Imobiliário, Kinea Desenvolvimento Logístico FII, Kinea Oportunidades Real Estate FII, Kinea Fênix FII",
         "O Gestor é a Kinea Investimentos Ltda., sociedade limitada, com sede na Rua Minas de Prata, nº 30, 4º andar, Vila Olímpia, CEP 04.552-080, São Paulo - SP. O Gestor foi contratado pelo Administrador para prestação de serviços de gestão de carteira do Fundo e presta serviços de gestão de carteiras de outros fundos de investimento administrados pelo Administrador. O Gestor integra o mesmo conglomerado financeiro do Administrador, controlado pelo Itaú Unibanco Holding S.A.",
         null,
         1.99547776E9,
         "",
         "KINEA",
         2.457727E7,
         "Papel Híbrido Gestão Ativa",
         0.09710710014631813,
         129100.316,
         -0.07015198278406308,
         0.1360068811234736,
         0.1339097186356952,
         104.36000061035156,
         true,
         3,
         "FII_3"
        ],
        [
         "30130708000128",
         "2025-07-17",
         "KNHY11",
         7.0,
         "Kinea High Yield CRI Fundo de Investimento Imobiliário Responsabilidade Limitada",
         "FII",
         99.15,
         "Sim",
         null,
         "CRI, Debêntures, FIDC, LIG, LCI, LH, FII, outros ativos financeiros, títulos e valores mobiliários permitidos",
         "Marcio Verri, CFA e CAIA: sócio, fundador e CEO da Kinea Investimentos; Flávio Cagno, CFA e CAIA: sócio e gestor responsável pelos fundos de CRI e CRA da Kinea; Danilo Lee: atua na área de Capital Solutions; Daniel Xavier Juc, CFA, CAIA: integra a área de gestão de fundos; Gabriel Duarte: integra a área de gestão de fundos; Guilherme Coutinho: integra a área de gestão de fundos; José Olenscki: integra a área de gestão de fundos; Lucas Nunes Badaró: integra a área de gestão de fundos; Luiz Saad: integra a área de gestão de fundos; Pedro Bruder: integra a área de gestão de fundos; Rafael de Albuquerque Carvalho: integra a área de gestão de fundos; Alessandro Lopes: responsável pelas áreas de Riscos, Controles Internos e Compliance e Controladoria; Ricardo Sakai: responsável pela área de Riscos; Ivan Freitas Simão: integra a área de Relações com Investidores; Luis Filipe de Callis: atua na equipe de RI dos fundos listados; Artur Pereira Batista Silva: integra a área de relacionamento com investidores",
         6000000.0,
         1500000.0,
         "Investidores qualificados",
         "No âmbito da 2ª Série, os Investidores deverão ser clientes correntistas dos segmentos Institucionais, Corporate, Íon, Private, Personnalité, Uniclass e Agências do Itaú Unibanco, excluídos clubes de investimento e regimes próprios de previdência social (RPPS)",
         "Modelo de procuração incluso",
         "Taxa de distribuição total 1.80%, comissão de coordenação 0.10%, comissão de distribuição 1.50%, advogados 0.04%, tributos advogados 0.00%, taxa registro CVM 0.04%, taxa registro Anbima 0.03%, taxa B3 distribuição padrão fixa 0.03%, taxa B3 distribuição padrão variável 0.05%, taxa B3 análise oferta 0.00%, taxa B3 listagem 0.00%, anúncio 0.00%, cartório 0.00%, outras despesas 0.03%.",
         "Risco de Crédito (Maior), Liquidez Reduzida das Cotas (Maior), Riscos de Liquidez e Descontinuidade do Investimento (Maior), Riscos de Mercado (Maior), Risco Tributário (Maior), Riscos Decorrentes dos Cenários Econômico e Fiscal Brasileiro (Maior), Riscos Relativos aos CRI, às LCI e às LH (Maior), Fatores Macroeconômicos Relevantes (Médio), Risco Sistêmico e do Setor Imobiliário (Médio), Risco do Investimento nos Ativos de Liquidez (Médio), Riscos de Concentração da Carteira (Médio), Riscos do Prazo (Médio), Risco Operacional (Médio), Risco de Sinistro e de Inexistência de Seguro (Médio), Risco de Desenquadramento Passivo Involuntário (Médio), Cobrança dos Ativos e dos Ativos de Liquidez, Possibilidade de Perda do Capital Investido (Médio), Risco de Inexistência de Quórum nas Deliberações a serem tomadas pela Assembleia Geral de Cotistas (Médio), Risco de Governança (Médio), Risco Regulatório/Jurídico (Médio), Risco Relativo à Concentração e Pulverização (Médio), Não Existência de Garantia de Eliminação de Riscos (Médio), Riscos de o Fundo vir a ter Patrimônio Líquido Negativo (Médio), Riscos Relativos ao Pré-Pagamento ou Amortização Extraordinária dos Ativos (Médio), Risco Relativo à Inexistência de Ativos e/ou de Ativos de Liquidez que se Enquadrem na Política de Investimento (Médio), Risco de Inexistência de Operações de Mercado Equivalentes para fins de Determinação do Ágio e/ou Deságio Aplicável ao Preço de Aquisição (Médio), Risco Decorrente da Aquisição de Ativos e/ou Ativos de Liquidez nos Termos da Resolução CMN nº 2.921 (Médio), Risco de Elaboração do Estudo de Viabilidade pelo Gestor (Médio), Riscos Atrelados aos Fundos Investidos (Médio), Risco de Execução das Garantias Atreladas aos Ativos (Médio), Riscos relacionados à Oferta (Médio), Risco de não Materialização das Perspectivas Contidas nos Documentos da Oferta (Médio), O Fundo poderá realizar a Emissão de Novas Cotas, o que poderá resultar em uma Diluição da Participação do Cotista ou Redução da Rentabilidade (Médio), Risco de Potencial Conflito de Interesses (Médio), Riscos Ambientais (Médio), Riscos das Contingências Ambientais (Médio), Risco Relativo ao Prazo de Duração Indeterminado do Fundo (Médio), Risco Relativo à Impossibilidade de Negociação das Novas Cotas até o Encerramento da Oferta (Médio), Risco de Vacância (Médio), Risco de Desvalorização dos Ativos Integrantes do Patrimônio dos FIIs Investidos (Médio), Riscos Relativos às Receitas Projetadas e Despesas Mais Relevantes (Médio), Risco de Desapropriação (Médio), Risco Relativo às Informações disponíveis sobre os FII Investidos (Médio), Riscos Relativos ao Registro de Aquisição de Imóveis (Médio), Riscos do Uso de Derivativos (Menor), Riscos Relacionados à Pandemia do COVID-19 (Menor), Risco da Morosidade da Justiça Brasileira (Menor), Risco Relativo à não Substituição do Administrador, do Gestor ou do Custodiante (Menor), Classe Única de Cotas (Menor), Participação de Pessoas Vinculadas na Oferta (Menor), Risco da Possibilidade de Devolução dos Recursos Aportados no Fundo sem qualquer Remuneração/Acréscimo em Caso de Desistência da Oferta (Menor)",
         9983810.0,
         991.5,
         null,
         3.9999984E7,
         null,
         "Mín 90.00 / Méd 104.68 / Máx 121.00",
         "0.2129962728847",
         "A diluição econômica imediata dos cotistas que não subscreverem as cotas ofertadas é calculada pela divisão da quantidade de novas cotas a serem emitidas pela soma dessa quantidade com a quantidade inicial de cotas antes da emissão em questão multiplicando o quociente obtido por 100 (cem).",
         "Pro rata",
         "Kinea Renda Imobiliária FII, Kinea II Real Estate FII, Kinea Rendimentos Imobiliários FII, Kinea Premium Properties FII, Kinea Índice de Preços FII, Kinea Fundo de Fundos FII, Kinea High Yield CRI FII, Even II Kinea FII, Kinea Securities FII, Kinea Creditas FII, Kinea Hedge Fund FII, Kinea Unique HY CDI FII, Kinea Crédito Agro Fiagro-Imobiliário, Kinea Oportunidades Agro I Fiagro-Imobiliário, Kinea Desenvolvimento Logístico FII, Kinea Oportunidades Real Estate FII, Kinea Fênix FII, Kinea Estratégia Infra CDI FIP, Kinea Agro Income USD Fiagro-Imobiliário, Kinea Aquisições Residenciais FII, Kinea Prime Residencial FII, Kinea Prime Residencial PVT FII",
         "Kinea Investimentos Ltda., constituída em 18 de outubro de 2007 pelo Itaú Unibanco e sócios executivos da Kinea, especializada em gestão de investimentos alternativos, com mais de 200 colaboradores e fundos totalizando R$131.2 bilhões de patrimônio líquido em junho de 2025.",
         null,
         5.9489997E8,
         "",
         "KINEA",
         7500000.0,
         "Multiestratégia Gestão Ativa",
         0.1117033912783868,
         43165.828,
         -0.09705124676325909,
         0.091775684525508,
         -0.23010462752747532,
         100.86000061035156,
         true,
         2,
         "FII_2"
        ],
        [
         "42754362000118",
         "2025-07-17",
         "KNUQ11",
         4.0,
         "Kinea Unique HY CDI Fundo de Investimento Imobiliário Responsabilidade Limitada",
         "FII",
         101.26,
         "Sim",
         null,
         "CRI, FII, Debêntures, FIDC, LIG, LCI, LH",
         "Marcio Verri, CFA e CAIA: sócio, fundador e CEO da Kinea Investimentos; Flávio Cagno, CFA e CAIA: sócio e gestor responsável pelos fundos de CRI e CRA da Kinea; Danilo Lee: atua na área de Capital Solutions; Daniel Xavier Juc, CFA, CAIA: integra a área de gestão de fundos; Gabriel Duarte: integra a área de gestão de fundos; Guilherme Coutinho: integra a área de gestão de fundos; José Olenscki: integra a área de gestão de fundos; Lucas Nunes Badaró: integra a área de gestão de fundos; Luiz Saad: integra a área de gestão de fundos; Pedro Bruder: integra a área de gestão de fundos; Rafael de Albuquerque Carvalho: integra a área de gestão de fundos; Alessandro Lopes: responsável pelas áreas de Riscos, Controles Internos e Compliance e Controladoria; Ricardo Sakai: responsável pela área de Riscos; Ivan Freitas Simão: integra a área de Relações com Investidores; Luis Filipe de Callis: atua na equipe de RI dos fundos listados; Artur Pereira Batista Silva: integra a área de relacionamento com investidores",
         4937783.0,
         1234445.0,
         "Investidores Institucionais",
         "Clientes correntistas dos segmentos Institucionais, Corporate, Íon, Private, Personnalité, Uniclass e Agências do Itaú Unibanco; excluídos clubes de investimento e regimes próprios de previdência social (RPPS)",
         "Modelo de procuração incluso",
         "Taxa de distribuição total 1.80%, comissão de coordenação 0.10%, comissão de distribuição 1.50%, advogados 0.04%, tributos advogados 0.01%, taxa registro CVM 0.04%, taxa registro B3 distribuição fixa 0.03%, taxa registro B3 distribuição variável 0.05%, taxa B3 análise oferta 0.00%, taxa B3 evento corporativo subscrição DP 0.01%, outras despesas 0.02%.",
         "Risco de Crédito (Maior), Riscos Relativos às Cotas de FII, aos CRI, às LCI, às LH e às LIG (Maior), Risco Sistêmico e do Setor Imobiliário (Maior), Risco Tributário (Maior), Riscos Decorrentes dos Cenários Econômico e Fiscal Brasileiro (Maior), Risco Regulatório/Jurídico (Maior), Riscos de Mercado (Maior), Liquidez Reduzida das Cotas (Maior), Riscos de Liquidez e Descontinuidade do Investimento (Maior), Riscos do Prazo (Maior), Riscos Relativos ao Pré-Pagamento ou Amortização Extraordinária dos Ativos (Médio), Risco de Inexistência de Operações de Mercado Equivalentes para fins de Determinação do Ágio e/ou Deságio Aplicável ao Preço de Aquisição (Médio), Risco Relacionado às Garantias dos Ativos e/ou Ativos de Liquidez e ao seu Aperfeiçoamento (Médio), Risco de Desvalorização dos Ativos Integrantes do Patrimônio do Fundo e dos FII investidos pelo Fundo (Médio), Risco de Revisão ou Rescisão dos Contratos de Locação (Médio), Riscos Relativos ao Registro de Aquisição de Imóveis (Médio), Riscos Atrelados aos Ativos FII (Médio), Fatores Macroeconômicos Relevantes (Médio), Não Existência de Garantia de Eliminação de Riscos (Médio), Risco do Investimento nos Ativos de Liquidez (Médio), Risco Relativo à Inexistência de Ativos e/ou de Ativos de Liquidez que se Enquadrem na Política de Investimento (Médio), Risco Decorrente da Aquisição de Ativos e/ou Ativos de Liquidez nos Termos da Resolução CMN nº 2.921 (Médio), Riscos de Concentração da Carteira (Médio), Risco Decorrente de Alterações do Regulamento (Médio), Risco de Inexistência de Quórum nas Deliberações a Serem tomadas pela Assembleia Geral de Cotistas (Médio), Risco de Desempenho Passado (Médio), Risco Relativo às Informações Disponíveis Sobre os FII (Médio), Risco de Sinistro e de Inexistência de Seguro (Médio), Risco de Contingências Ambientais (Médio), Risco de Desapropriação (Médio), Risco de Despesas Extraordinárias (Médio), Riscos Relativos às Receitas Projetadas e Despesas Mais Relevantes (Médio), Risco de Elaboração do Estudo de Viabilidade pelo Gestor (Médio), Riscos Relativos à Rentabilidade do Investimento (Médio), Risco de Desenquadramento Passivo Involuntário (Médio), Risco de o Fundo não Captar a Totalidade dos Recursos Previstos no Volume Inicial da Oferta e de não Contar com Recursos Para a Aquisição de Ativos (Médio), Riscos relacionados à Oferta (Médio), Risco de Não Materialização das Perspectivas Contidas nos Documentos da Oferta (Médio), Risco Relativo à Impossibilidade de Negociação das Cotas até o Encerramento da Oferta (Médio), Risco de Falha de Liquidação Pelos Investidores (Médio), Risco de Não Concretização da Oferta das Cotas e de Cancelamento das Ordens de Subscrição Condicionadas e do Investimento por Pessoas Vinculadas (Médio), Risco Relativo à Concentração e Pulverização (Médio), O Fundo Poderá Realizar a Emissão de Cotas, o que Poderá Resultar em uma Diluição da Participação do Cotista ou Redução da Rentabilidade (Médio), Majoração de Custos dos Prestadores de Serviços (Menor), Risco de Governança (Menor), Riscos Relacionados à Ocorrência de Casos Fortuitos e Eventos de Força Maior (Médio), Riscos Relacionados à Disseminação de Doenças Transmissíveis (Menor), Risco de Conflito de Interesse (Menor), Cobrança dos Ativos e dos Ativos de Liquidez, Possibilidade de Perda do Capital Investido (Menor), Riscos de o Fundo vir a ter Patrimônio Líquido Negativo (Menor)",
         9999931.0,
         1012.6,
         1000043.75,
         999942.5,
         null,
         "Mín 93.67 / Méd 103.50 / Máx 106.35 (2024), Mín 100.57 / Méd 101.92 / Máx 102.80 (2023), Mín N/A / Méd N/A / Máx N/A (2022), Mín N/A / Méd N/A / Máx N/A (2021), Mín N/A / Méd N/A / Máx N/A (2020), Mín 102.53 / Méd 103.71 / Máx 104.77 (2Tri25), Mín 96.72 / Méd 101.73 / Máx 105.05 (1Tri25), Mín 93.67 / Méd 101.60 / Máx 105.00 (4Tri24), Mín 103.01 / Méd 104.76 / Máx 106.35 (3Tri24), Mín 102.01 / Méd 103.88 / Máx 106.16 (2Tri24), Mín 101.71 / Méd 103.62 / Máx 105.71 (1Tri24), Mín 100.57 / Méd 101.92 / Máx 102.80 (4Tri23), Mín N/A / Méd N/A / Máx N/A (3Tri23), Mín 101.26 / Méd 101.98 / Máx 102.62 (jun-25), Mín 101.33 / Méd 101.94 / Máx 102.62 (mai-25), Mín 101.28 / Méd 101.88 / Máx 102.50 (abr-25), Mín 101.25 / Méd 101.81 / Máx 102.37 (mar-25), Mín 101.25 / Méd 101.81 / Máx 102.41 (fev-25), Mín 101.21 / Méd 101.79 / Máx 102.40 (jan-25)",
         "0,3224671032202",
         "A diluição econômica imediata dos cotistas que não subscreverem as cotas ofertadas é calculada pela divisão da quantidade de novas cotas a serem emitidas pela soma dessa quantidade com a quantidade inicial de cotas antes da emissão em questão multiplicando o quociente obtido por 100 (cem).",
         "Pro rata",
         "Kinea Renda Imobiliária FII, Kinea II Real Estate FII, Kinea Rendimentos Imobiliários FII, Kinea Premium Properties FII, Kinea Índice de Preços FII, Kinea Fundo de Fundos FII, Kinea High Yield CRI FII, Even II Kinea FII, Kinea Securities FII, Kinea Creditas FII, Kinea Hedge Fund FII, Kinea Unique HY CDI FII, Kinea Crédito Agro Fiagro-Imobiliário, Kinea Oportunidades Agro I Fiagro-Imobiliário, Kinea Desenvolvimento Logístico FII, Kinea Oportunidades Real Estate FII, Kinea Fênix FII, Kinea Estratégia Infra CDI FIP, Kinea Agro Income USD Fiagro-Imobiliário, Kinea Aquisições Residenciais FII, Kinea Prime Residencial FII, Kinea Prime Residencial PVT FII",
         "Kinea Investimentos Ltda., constituída em 18 de outubro de 2007 pelo Itaú Unibanco e sócios executivos da Kinea, especializada em gestão de investimentos alternativos, com mais de 200 colaboradores e fundos totalizando R$131,2 bilhões de patrimônio líquido em junho de 2025.",
         null,
         4.99999904E8,
         "",
         "KINEA",
         6172228.0,
         "Papel Híbrido Gestão Ativa",
         0.11737480730003803,
         34109.316,
         -0.11098748049599676,
         0.0676556854119954,
         -0.40633752917320176,
         104.9800033569336,
         true,
         2,
         "FII_2"
        ]
       ],
       "datasetInfos": [],
       "dbfsResultPath": null,
       "isJsonSchema": true,
       "metadata": {},
       "overflow": false,
       "plotOptions": {
        "customPlotOptions": {},
        "displayType": "table",
        "pivotAggregation": null,
        "pivotColumns": null,
        "xColumns": null,
        "yColumns": null
       },
       "removedWidgets": [],
       "schema": [
        {
         "metadata": "{}",
         "name": "cnpj",
         "type": "\"string\""
        },
        {
         "metadata": "{}",
         "name": "data_emissao",
         "type": "\"date\""
        },
        {
         "metadata": "{}",
         "name": "Ticker",
         "type": "\"string\""
        },
        {
         "metadata": "{}",
         "name": "qt_emissoes",
         "type": "\"float\""
        },
        {
         "metadata": "{}",
         "name": "nome_fundo",
         "type": "\"string\""
        },
        {
         "metadata": "{}",
         "name": "tipo_fundo",
         "type": "\"string\""
        },
        {
         "metadata": "{}",
         "name": "valor_cota_emissao",
         "type": "\"float\""
        },
        {
         "metadata": "{}",
         "name": "direito_preferencia_sobras_montante_adicional",
         "type": "\"string\""
        },
        {
         "metadata": "{}",
         "name": "taxa_distribuicao_emissao",
         "type": "\"float\""
        },
        {
         "metadata": "{}",
         "name": "tabela_ativos_fundo",
         "type": "\"string\""
        },
        {
         "metadata": "{}",
         "name": "sumario_experiencia_socios",
         "type": "\"string\""
        },
        {
         "metadata": "{}",
         "name": "quantidade_cotas_emissao",
         "type": "\"float\""
        },
        {
         "metadata": "{}",
         "name": "quantidade_cotas_adicionais_emissao",
         "type": "\"float\""
        },
        {
         "metadata": "{}",
         "name": "publico_alvo",
         "type": "\"string\""
        },
        {
         "metadata": "{}",
         "name": "obs_publico_alvo",
         "type": "\"string\""
        },
        {
         "metadata": "{}",
         "name": "procuracao_AGE",
         "type": "\"string\""
        },
        {
         "metadata": "{}",
         "name": "planilha_custos",
         "type": "\"string\""
        },
        {
         "metadata": "{}",
         "name": "ordenar_fatores_risco",
         "type": "\"string\""
        },
        {
         "metadata": "{}",
         "name": "montante_minimo_emissao",
         "type": "\"float\""
        },
        {
         "metadata": "{}",
         "name": "investimento_minimo_cpf_cnpj",
         "type": "\"float\""
        },
        {
         "metadata": "{}",
         "name": "investimento_minimo_inst",
         "type": "\"float\""
        },
        {
         "metadata": "{}",
         "name": "investimento_maximo_cpf_cnpj",
         "type": "\"float\""
        },
        {
         "metadata": "{}",
         "name": "investimento_maximo_inst",
         "type": "\"float\""
        },
        {
         "metadata": "{}",
         "name": "historico_cotacao_bolsa",
         "type": "\"string\""
        },
        {
         "metadata": "{}",
         "name": "fator_proporcao_dp",
         "type": "\"string\""
        },
        {
         "metadata": "{}",
         "name": "diluicao_economica_novas_emissoes",
         "type": "\"string\""
        },
        {
         "metadata": "{}",
         "name": "criterio_rateio",
         "type": "\"string\""
        },
        {
         "metadata": "{}",
         "name": "carteira_fundos_kinea_intrag",
         "type": "\"string\""
        },
        {
         "metadata": "{}",
         "name": "breve_historico_gestor",
         "type": "\"string\""
        },
        {
         "metadata": "{}",
         "name": "percentual_oferta_institucional",
         "type": "\"float\""
        },
        {
         "metadata": "{}",
         "name": "volume_base_emissao",
         "type": "\"float\""
        },
        {
         "metadata": "{}",
         "name": "chamada_capital_ipca",
         "type": "\"string\""
        },
        {
         "metadata": "{}",
         "name": "tipo_gestor",
         "type": "\"string\""
        },
        {
         "metadata": "{}",
         "name": "quantidade_cotas_totais",
         "type": "\"float\""
        },
        {
         "metadata": "{}",
         "name": "tipo_anbima",
         "type": "\"string\""
        },
        {
         "metadata": "{}",
         "name": "volatilidade_historica",
         "type": "\"double\""
        },
        {
         "metadata": "{}",
         "name": "liquidez_media",
         "type": "\"double\""
        },
        {
         "metadata": "{}",
         "name": "drawdown_max",
         "type": "\"double\""
        },
        {
         "metadata": "{}",
         "name": "retorno_acumulado",
         "type": "\"double\""
        },
        {
         "metadata": "{}",
         "name": "sharpe_ratio",
         "type": "\"double\""
        },
        {
         "metadata": "{}",
         "name": "valor_cotado_atual",
         "type": "\"double\""
        },
        {
         "metadata": "{}",
         "name": "potencial_nova_emissao",
         "type": "\"boolean\""
        },
        {
         "metadata": "{}",
         "name": "cluster_id",
         "type": "\"integer\""
        },
        {
         "metadata": "{}",
         "name": "cluster_id_full",
         "type": "\"string\""
        }
       ],
       "type": "table"
      }
     },
     "output_type": "display_data"
    },
    {
     "output_type": "display_data",
     "data": {
      "text/html": [
       "<style scoped>\n",
       "  .table-result-container {\n",
       "    max-height: 300px;\n",
       "    overflow: auto;\n",
       "  }\n",
       "  table, th, td {\n",
       "    border: 1px solid black;\n",
       "    border-collapse: collapse;\n",
       "  }\n",
       "  th, td {\n",
       "    padding: 5px;\n",
       "  }\n",
       "  th {\n",
       "    text-align: left;\n",
       "  }\n",
       "</style><div class='table-result-container'><table class='table-result'><thead style='background-color: white'><tr><th>cnpj</th><th>data_emissao</th><th>Ticker</th><th>qt_emissoes</th><th>nome_fundo</th><th>tipo_fundo</th><th>valor_cota_emissao</th><th>direito_preferencia_sobras_montante_adicional</th><th>taxa_distribuicao_emissao</th><th>tabela_ativos_fundo</th><th>sumario_experiencia_socios</th><th>quantidade_cotas_emissao</th><th>quantidade_cotas_adicionais_emissao</th><th>publico_alvo</th><th>obs_publico_alvo</th><th>procuracao_AGE</th><th>planilha_custos</th><th>ordenar_fatores_risco</th><th>montante_minimo_emissao</th><th>investimento_minimo_cpf_cnpj</th><th>investimento_minimo_inst</th><th>investimento_maximo_cpf_cnpj</th><th>investimento_maximo_inst</th><th>historico_cotacao_bolsa</th><th>fator_proporcao_dp</th><th>diluicao_economica_novas_emissoes</th><th>criterio_rateio</th><th>carteira_fundos_kinea_intrag</th><th>breve_historico_gestor</th><th>percentual_oferta_institucional</th><th>volume_base_emissao</th><th>chamada_capital_ipca</th><th>tipo_gestor</th><th>quantidade_cotas_totais</th><th>tipo_anbima</th><th>volatilidade_historica</th><th>liquidez_media</th><th>drawdown_max</th><th>retorno_acumulado</th><th>sharpe_ratio</th><th>valor_cotado_atual</th><th>potencial_nova_emissao</th><th>cluster_id</th><th>cluster_id_full</th></tr></thead><tbody><tr><td>57473619000130</td><td>2024-10-19</td><td>KNDI11</td><td>1.0</td><td>KINEA ESTRATÉGIA INFRA CDI FUNDO DE INVESTIMENTO EM PARTICIPAÇÕES EM INFRAESTRUTURA RESPONSABILIDADE LIMITADA</td><td>FIP</td><td>100.0</td><td>Não</td><td>null</td><td>Geração Solar, Geração Eólica, Rodovias, Saneamento, Energia, Energia, Geração Eólica, Saneamento, Título Público</td><td>Roberta Anchieta da Silva possui mais de 20 anos de experiência no mercado financeiro, atuando na Asset Management e na administração fiduciária do maior banco privado da América Latina. Marcio Verri, CFA e CAIA, sócio, fundador e CEO da Kinea Investimentos. Aymar Almeida, sócio executivo e gestor responsável pela estratégia de investimentos em Infraestrutura. Fábio Massao Inocima, gestor responsável pela estratégia de investimentos em Infraestrutura. Bruno Signorelli, integra a área de gestão de fundos da Kinea desde 2018. Gustavo Mendonça Faria, ingressou na Kinea em agosto de 2022. Pablo Nabil Bou Assi, integra a área de gestão de fundos de investimento em infraestrutura desde fevereiro de 2022. Guilherme Torres, ingressou na Kinea em 2023. Maria Eduarda Mochinski, ingressou na Kinea em 2023. Fernanda Guerra, ingressou na Kinea em 2024. Alessandro Lopes, responsável pelas áreas de Riscos, Controles Internos e Compliance e Controladoria. Ricardo Sakai, responsável pela área de Riscos. Ivan Freitas Simão, integra a área de Relações com Investidores - Fundos Imobiliários da Kinea. Luis Filipe de Callis, ingressou na Kinea em 2021 para atuar na equipe de RI dos fundos listados. Artur Pereira Batista Silva, integra a área de relacionamento com investidores dos fundos listados da Kinea.</td><td>3200000.0</td><td>800000.0</td><td>Investidores qualificados</td><td>Clientes correntistas dos segmentos Institucionais, Corporate, Íon, Private, Personnalité, Uniclass e Agências do Itaú Unibanco</td><td>Modelo de procuração incluso</td><td>Taxa de distribuição total 2.05%, comissão de coordenação 0.10%, comissão de distribuição 1.70%, advogados 0.08%, tributos advogados 0.00%, taxa registro CVM 0.04%, taxa registro Anbima 0.01%, taxa B3 distribuição padrão fixa 0.05%, taxa B3 distribuição padrão variável 0.04%, taxa B3 análise oferta 0.00%, taxa B3 listagem 0.00%, anúncio 0.01%, cartório 0.01%, outras despesas 0.01%.</td><td>Risco de Crédito (Maior), Desempenho das Emissoras (Maior), Capacidade de Pagamento das Emissoras (Maior), Cobrança dos Ativos e dos Ativos de Liquidez (Maior), Setor de atuação das Emissoras (Maior), Atraso na entrega dos projetos das Emissoras (Maior), Não existência de garantia de eliminação de riscos (Maior), Performance operacional, operação e manutenção (Maior), Concentração do Setor de Atuação das Emissoras (Maior), Concentração e Iliquidez da Carteira do Fundo (Maior), Risco regulatório/jurídico (Maior), Legislação do setor de atuação das Emissoras (Maior), Risco Relacionado as Garantias dos Ativos e/ou Ativos de Liquidez e ao seu Aperfeiçoamento (Maior), Aspectos Tributários (Maior), Riscos de Mercado e de Liquidez da Carteira do FIP-IE (Maior), Risco relativo à concentração e pulverização (Maior), Liquidez Reduzida Das Cotas (Média), Riscos Relativos à Rentabilidade do Investimento (Média), Perda de Benefício Fiscal (Média), Risco de inexistência de quórum nas deliberações a serem tomadas pela assembleia geral de Cotistas (Média), Risco de governança (Média), Riscos Relacionados à Pandemia da Covid-19 (Média), Oneração de ativos das Emissoras em virtude de financiamentos de projetos (Média), Possibilidade de Inexistência de Garantia dos Ativos Investidos (Média), Risco relativo à inexistência de Ativos e/ou de Ativos de Liquidez que se enquadrem na Política de Investimento (Média), Riscos relativos ao pré-pagamento ou amortização extraordinária dos Ativos (Média), Risco de inexistência de operações de mercado equivalentes para fins de determinação do ágio e/ou deságio aplicável ao preço de aquisição (Média), Risco Decorrente de Alterações do Regulamento (Média), Prazo de duração indeterminado e da ausência de período de investimento determinado (Média), Oneração de Ativos das Emissoras em virtude de financiamentos de projetos (Média), Extinção de contratos de concessão (Média), Risco de o Fundo não captar a totalidade dos recursos previstos no Volume Total Da Oferta (Média), Riscos inerentes à respectiva Classe de Cotas (Médio), Riscos referentes à possibilidade de liquidação antecipada do Fundo (Médio), Riscos de Liquidez e Descontinuidade do Investimento (Menor), Desenquadramento da Carteira do Fundo (Menor), Risco de Potencial Conflito de Interesse (Menor), Risco de Não Materialização das Perspectivas Contidas nos Documentos da Oferta (Menor), Riscos do Uso de Derivativos (Menor), Risco do Investimento nos Ativos de Liquidez (Menor), Risco de Desempenho Passado (Menor), Riscos de o Fundo vir a ter Patrimônio Líquido negativo (Menor), Renovação dos contratos pelas Emissoras (Menor), Liquidação Do Fundo Ou Transformação Em Outra Modalidade De Fundo De Investimento (Menor), Amortização de Cotas (Menor), O Fundo poderá realizar a emissão de Cotas, o que poderá resultar em uma diluição da participação do Cotista ou redução da rentabilidade (Menor), Discricionariedade de investimento pelo Gestor (Menor), Risco decorrente da aquisição de Ativos de Liquidez nos termos da Resolução nº 2.921 (Menor), Risco relativo à impossibilidade de negociação das Cotas até o encerramento da Oferta (Menor), Risco De Não Concretização Da Oferta Das Cotas E De Cancelamento Das Ordens De Subscrição Condicionadas E Do Investimento Por Pessoas Vinculadas (Menor), Risco relativos à dispensa de análise prévia do prospecto e dos demais documentos da oferta pela CVM e pela ANBIMA no âmbito do acordo de cooperação técnica para registro de ofertas, no caso das ofertas de cotas de classes de fundos de investimento fechados submetidas ao registro automático (Menor), Demais riscos (Menor)</td><td>1.0E7</td><td>10000.0</td><td>null</td><td>1.5E7</td><td>null</td><td></td><td></td><td></td><td>Pro rata</td><td>Kinea Renda Imobiliária FII, Kinea II Real Estate FII, Kinea Rendimentos Imobiliários FII, Kinea Premium Properties FII, Kinea Índice de Preços FII, Kinea Fundo de Fundos FII, Kinea High Yield CRI FII, Even II Kinea FII, Kinea Securities FII, Kinea Creditas FII, Kinea Hedge Fund FII, Kinea Unique HY CDI FII, Kinea Crédito Agro Fiagro-Imobiliário, Kinea Oportunidades Agro I Fiagro-Imobiliário, Kinea Desenvolvimento Logístico FII, Kinea Oportunidades Real Estate FII, Kinea Fênix FII</td><td>O Gestor foi constituído em 18 de outubro de 2007 pelo Itaú Unibanco e pelos sócios executivos da Kinea, como empresa especializada na gestão de investimentos alternativos (Hedge Funds, Private Equity, Fundos de Investimento Imobiliário, FIAGRO) e transformou-se em uma plataforma independente de gestão de recursos e especializada em investimentos específicos. O Itaú Unibanco é detentor de 80% das cotas do Gestor, sendo que as demais cotas da Kinea são detidas por sócios executivos da Kinea que atuam diretamente na gestão dos fundos. As atividades de controladoria, tecnologia e recursos humanos da Kinea estão ligadas ao Itaú Unibanco.</td><td>null</td><td>3.2E8</td><td></td><td>KINEA</td><td>4000000.0</td><td>Fundos de Participações</td><td>0.23475950687325822</td><td>3733.1620111731845</td><td>-0.1417005498030445</td><td>0.05440764300397527</td><td>-0.07940753596060118</td><td>100.44000244140625</td><td>true</td><td>0</td><td>FIP_0</td></tr></tbody></table></div>"
      ]
     },
     "metadata": {
      "application/vnd.databricks.v1+output": {
       "addedWidgets": {},
       "aggData": [],
       "aggError": "",
       "aggOverflow": false,
       "aggSchema": [],
       "aggSeriesLimitReached": false,
       "aggType": "",
       "arguments": {},
       "columnCustomDisplayInfos": {},
       "data": [
        [
         "57473619000130",
         "2024-10-19",
         "KNDI11",
         1.0,
         "KINEA ESTRATÉGIA INFRA CDI FUNDO DE INVESTIMENTO EM PARTICIPAÇÕES EM INFRAESTRUTURA RESPONSABILIDADE LIMITADA",
         "FIP",
         100.0,
         "Não",
         null,
         "Geração Solar, Geração Eólica, Rodovias, Saneamento, Energia, Energia, Geração Eólica, Saneamento, Título Público",
         "Roberta Anchieta da Silva possui mais de 20 anos de experiência no mercado financeiro, atuando na Asset Management e na administração fiduciária do maior banco privado da América Latina. Marcio Verri, CFA e CAIA, sócio, fundador e CEO da Kinea Investimentos. Aymar Almeida, sócio executivo e gestor responsável pela estratégia de investimentos em Infraestrutura. Fábio Massao Inocima, gestor responsável pela estratégia de investimentos em Infraestrutura. Bruno Signorelli, integra a área de gestão de fundos da Kinea desde 2018. Gustavo Mendonça Faria, ingressou na Kinea em agosto de 2022. Pablo Nabil Bou Assi, integra a área de gestão de fundos de investimento em infraestrutura desde fevereiro de 2022. Guilherme Torres, ingressou na Kinea em 2023. Maria Eduarda Mochinski, ingressou na Kinea em 2023. Fernanda Guerra, ingressou na Kinea em 2024. Alessandro Lopes, responsável pelas áreas de Riscos, Controles Internos e Compliance e Controladoria. Ricardo Sakai, responsável pela área de Riscos. Ivan Freitas Simão, integra a área de Relações com Investidores - Fundos Imobiliários da Kinea. Luis Filipe de Callis, ingressou na Kinea em 2021 para atuar na equipe de RI dos fundos listados. Artur Pereira Batista Silva, integra a área de relacionamento com investidores dos fundos listados da Kinea.",
         3200000.0,
         800000.0,
         "Investidores qualificados",
         "Clientes correntistas dos segmentos Institucionais, Corporate, Íon, Private, Personnalité, Uniclass e Agências do Itaú Unibanco",
         "Modelo de procuração incluso",
         "Taxa de distribuição total 2.05%, comissão de coordenação 0.10%, comissão de distribuição 1.70%, advogados 0.08%, tributos advogados 0.00%, taxa registro CVM 0.04%, taxa registro Anbima 0.01%, taxa B3 distribuição padrão fixa 0.05%, taxa B3 distribuição padrão variável 0.04%, taxa B3 análise oferta 0.00%, taxa B3 listagem 0.00%, anúncio 0.01%, cartório 0.01%, outras despesas 0.01%.",
         "Risco de Crédito (Maior), Desempenho das Emissoras (Maior), Capacidade de Pagamento das Emissoras (Maior), Cobrança dos Ativos e dos Ativos de Liquidez (Maior), Setor de atuação das Emissoras (Maior), Atraso na entrega dos projetos das Emissoras (Maior), Não existência de garantia de eliminação de riscos (Maior), Performance operacional, operação e manutenção (Maior), Concentração do Setor de Atuação das Emissoras (Maior), Concentração e Iliquidez da Carteira do Fundo (Maior), Risco regulatório/jurídico (Maior), Legislação do setor de atuação das Emissoras (Maior), Risco Relacionado as Garantias dos Ativos e/ou Ativos de Liquidez e ao seu Aperfeiçoamento (Maior), Aspectos Tributários (Maior), Riscos de Mercado e de Liquidez da Carteira do FIP-IE (Maior), Risco relativo à concentração e pulverização (Maior), Liquidez Reduzida Das Cotas (Média), Riscos Relativos à Rentabilidade do Investimento (Média), Perda de Benefício Fiscal (Média), Risco de inexistência de quórum nas deliberações a serem tomadas pela assembleia geral de Cotistas (Média), Risco de governança (Média), Riscos Relacionados à Pandemia da Covid-19 (Média), Oneração de ativos das Emissoras em virtude de financiamentos de projetos (Média), Possibilidade de Inexistência de Garantia dos Ativos Investidos (Média), Risco relativo à inexistência de Ativos e/ou de Ativos de Liquidez que se enquadrem na Política de Investimento (Média), Riscos relativos ao pré-pagamento ou amortização extraordinária dos Ativos (Média), Risco de inexistência de operações de mercado equivalentes para fins de determinação do ágio e/ou deságio aplicável ao preço de aquisição (Média), Risco Decorrente de Alterações do Regulamento (Média), Prazo de duração indeterminado e da ausência de período de investimento determinado (Média), Oneração de Ativos das Emissoras em virtude de financiamentos de projetos (Média), Extinção de contratos de concessão (Média), Risco de o Fundo não captar a totalidade dos recursos previstos no Volume Total Da Oferta (Média), Riscos inerentes à respectiva Classe de Cotas (Médio), Riscos referentes à possibilidade de liquidação antecipada do Fundo (Médio), Riscos de Liquidez e Descontinuidade do Investimento (Menor), Desenquadramento da Carteira do Fundo (Menor), Risco de Potencial Conflito de Interesse (Menor), Risco de Não Materialização das Perspectivas Contidas nos Documentos da Oferta (Menor), Riscos do Uso de Derivativos (Menor), Risco do Investimento nos Ativos de Liquidez (Menor), Risco de Desempenho Passado (Menor), Riscos de o Fundo vir a ter Patrimônio Líquido negativo (Menor), Renovação dos contratos pelas Emissoras (Menor), Liquidação Do Fundo Ou Transformação Em Outra Modalidade De Fundo De Investimento (Menor), Amortização de Cotas (Menor), O Fundo poderá realizar a emissão de Cotas, o que poderá resultar em uma diluição da participação do Cotista ou redução da rentabilidade (Menor), Discricionariedade de investimento pelo Gestor (Menor), Risco decorrente da aquisição de Ativos de Liquidez nos termos da Resolução nº 2.921 (Menor), Risco relativo à impossibilidade de negociação das Cotas até o encerramento da Oferta (Menor), Risco De Não Concretização Da Oferta Das Cotas E De Cancelamento Das Ordens De Subscrição Condicionadas E Do Investimento Por Pessoas Vinculadas (Menor), Risco relativos à dispensa de análise prévia do prospecto e dos demais documentos da oferta pela CVM e pela ANBIMA no âmbito do acordo de cooperação técnica para registro de ofertas, no caso das ofertas de cotas de classes de fundos de investimento fechados submetidas ao registro automático (Menor), Demais riscos (Menor)",
         1.0E7,
         10000.0,
         null,
         1.5E7,
         null,
         "",
         "",
         "",
         "Pro rata",
         "Kinea Renda Imobiliária FII, Kinea II Real Estate FII, Kinea Rendimentos Imobiliários FII, Kinea Premium Properties FII, Kinea Índice de Preços FII, Kinea Fundo de Fundos FII, Kinea High Yield CRI FII, Even II Kinea FII, Kinea Securities FII, Kinea Creditas FII, Kinea Hedge Fund FII, Kinea Unique HY CDI FII, Kinea Crédito Agro Fiagro-Imobiliário, Kinea Oportunidades Agro I Fiagro-Imobiliário, Kinea Desenvolvimento Logístico FII, Kinea Oportunidades Real Estate FII, Kinea Fênix FII",
         "O Gestor foi constituído em 18 de outubro de 2007 pelo Itaú Unibanco e pelos sócios executivos da Kinea, como empresa especializada na gestão de investimentos alternativos (Hedge Funds, Private Equity, Fundos de Investimento Imobiliário, FIAGRO) e transformou-se em uma plataforma independente de gestão de recursos e especializada em investimentos específicos. O Itaú Unibanco é detentor de 80% das cotas do Gestor, sendo que as demais cotas da Kinea são detidas por sócios executivos da Kinea que atuam diretamente na gestão dos fundos. As atividades de controladoria, tecnologia e recursos humanos da Kinea estão ligadas ao Itaú Unibanco.",
         null,
         3.2E8,
         "",
         "KINEA",
         4000000.0,
         "Fundos de Participações",
         0.23475950687325822,
         3733.1620111731845,
         -0.1417005498030445,
         0.05440764300397527,
         -0.07940753596060118,
         100.44000244140625,
         true,
         0,
         "FIP_0"
        ]
       ],
       "datasetInfos": [],
       "dbfsResultPath": null,
       "isJsonSchema": true,
       "metadata": {},
       "overflow": false,
       "plotOptions": {
        "customPlotOptions": {},
        "displayType": "table",
        "pivotAggregation": null,
        "pivotColumns": null,
        "xColumns": null,
        "yColumns": null
       },
       "removedWidgets": [],
       "schema": [
        {
         "metadata": "{}",
         "name": "cnpj",
         "type": "\"string\""
        },
        {
         "metadata": "{}",
         "name": "data_emissao",
         "type": "\"date\""
        },
        {
         "metadata": "{}",
         "name": "Ticker",
         "type": "\"string\""
        },
        {
         "metadata": "{}",
         "name": "qt_emissoes",
         "type": "\"float\""
        },
        {
         "metadata": "{}",
         "name": "nome_fundo",
         "type": "\"string\""
        },
        {
         "metadata": "{}",
         "name": "tipo_fundo",
         "type": "\"string\""
        },
        {
         "metadata": "{}",
         "name": "valor_cota_emissao",
         "type": "\"float\""
        },
        {
         "metadata": "{}",
         "name": "direito_preferencia_sobras_montante_adicional",
         "type": "\"string\""
        },
        {
         "metadata": "{}",
         "name": "taxa_distribuicao_emissao",
         "type": "\"float\""
        },
        {
         "metadata": "{}",
         "name": "tabela_ativos_fundo",
         "type": "\"string\""
        },
        {
         "metadata": "{}",
         "name": "sumario_experiencia_socios",
         "type": "\"string\""
        },
        {
         "metadata": "{}",
         "name": "quantidade_cotas_emissao",
         "type": "\"float\""
        },
        {
         "metadata": "{}",
         "name": "quantidade_cotas_adicionais_emissao",
         "type": "\"float\""
        },
        {
         "metadata": "{}",
         "name": "publico_alvo",
         "type": "\"string\""
        },
        {
         "metadata": "{}",
         "name": "obs_publico_alvo",
         "type": "\"string\""
        },
        {
         "metadata": "{}",
         "name": "procuracao_AGE",
         "type": "\"string\""
        },
        {
         "metadata": "{}",
         "name": "planilha_custos",
         "type": "\"string\""
        },
        {
         "metadata": "{}",
         "name": "ordenar_fatores_risco",
         "type": "\"string\""
        },
        {
         "metadata": "{}",
         "name": "montante_minimo_emissao",
         "type": "\"float\""
        },
        {
         "metadata": "{}",
         "name": "investimento_minimo_cpf_cnpj",
         "type": "\"float\""
        },
        {
         "metadata": "{}",
         "name": "investimento_minimo_inst",
         "type": "\"float\""
        },
        {
         "metadata": "{}",
         "name": "investimento_maximo_cpf_cnpj",
         "type": "\"float\""
        },
        {
         "metadata": "{}",
         "name": "investimento_maximo_inst",
         "type": "\"float\""
        },
        {
         "metadata": "{}",
         "name": "historico_cotacao_bolsa",
         "type": "\"string\""
        },
        {
         "metadata": "{}",
         "name": "fator_proporcao_dp",
         "type": "\"string\""
        },
        {
         "metadata": "{}",
         "name": "diluicao_economica_novas_emissoes",
         "type": "\"string\""
        },
        {
         "metadata": "{}",
         "name": "criterio_rateio",
         "type": "\"string\""
        },
        {
         "metadata": "{}",
         "name": "carteira_fundos_kinea_intrag",
         "type": "\"string\""
        },
        {
         "metadata": "{}",
         "name": "breve_historico_gestor",
         "type": "\"string\""
        },
        {
         "metadata": "{}",
         "name": "percentual_oferta_institucional",
         "type": "\"float\""
        },
        {
         "metadata": "{}",
         "name": "volume_base_emissao",
         "type": "\"float\""
        },
        {
         "metadata": "{}",
         "name": "chamada_capital_ipca",
         "type": "\"string\""
        },
        {
         "metadata": "{}",
         "name": "tipo_gestor",
         "type": "\"string\""
        },
        {
         "metadata": "{}",
         "name": "quantidade_cotas_totais",
         "type": "\"float\""
        },
        {
         "metadata": "{}",
         "name": "tipo_anbima",
         "type": "\"string\""
        },
        {
         "metadata": "{}",
         "name": "volatilidade_historica",
         "type": "\"double\""
        },
        {
         "metadata": "{}",
         "name": "liquidez_media",
         "type": "\"double\""
        },
        {
         "metadata": "{}",
         "name": "drawdown_max",
         "type": "\"double\""
        },
        {
         "metadata": "{}",
         "name": "retorno_acumulado",
         "type": "\"double\""
        },
        {
         "metadata": "{}",
         "name": "sharpe_ratio",
         "type": "\"double\""
        },
        {
         "metadata": "{}",
         "name": "valor_cotado_atual",
         "type": "\"double\""
        },
        {
         "metadata": "{}",
         "name": "potencial_nova_emissao",
         "type": "\"boolean\""
        },
        {
         "metadata": "{}",
         "name": "cluster_id",
         "type": "\"integer\""
        },
        {
         "metadata": "{}",
         "name": "cluster_id_full",
         "type": "\"string\""
        }
       ],
       "type": "table"
      }
     },
     "output_type": "display_data"
    }
   ],
   "source": [
    "tipos_fundo = [\"fidc\", \"fii\", \"fip\"]\n",
    "\n",
    "for tipo in tipos_fundo:\n",
    "    df = spark.table(f\"desafio_kinea.prospecto_fundos.resultados_cluster_{tipo}\")\n",
    "    fundos_potenciais = df.filter(F.col(\"potencial_nova_emissao\") == True)\n",
    "    display(fundos_potenciais)"
   ]
  }
 ],
 "metadata": {
  "application/vnd.databricks.v1+notebook": {
   "computePreferences": null,
   "dashboards": [],
   "environmentMetadata": {
    "base_environment": "",
    "environment_version": "2"
   },
   "inputWidgetPreferences": null,
   "language": "python",
   "notebookMetadata": {
    "pythonIndentUnit": 4
   },
   "notebookName": "04_analises",
   "widgets": {}
  },
  "language_info": {
   "name": "python"
  }
 },
 "nbformat": 4,
 "nbformat_minor": 0
}