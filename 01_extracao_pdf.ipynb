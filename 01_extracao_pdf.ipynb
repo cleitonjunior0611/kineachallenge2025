{
 "cells": [
  {
   "cell_type": "markdown",
   "metadata": {
    "application/vnd.databricks.v1+cell": {
     "cellMetadata": {},
     "inputWidgets": {},
     "nuid": "11c91cb0-98d1-4832-baab-0d863062bd4d",
     "showTitle": false,
     "tableResultSettingsMap": {},
     "title": ""
    }
   },
   "source": [
    "### 1. Extração dos Prospectos dos Fundos"
   ]
  },
  {
   "cell_type": "markdown",
   "metadata": {
    "application/vnd.databricks.v1+cell": {
     "cellMetadata": {},
     "inputWidgets": {},
     "nuid": "48b26950-d84a-4881-bdd6-c4d3b60f081b",
     "showTitle": false,
     "tableResultSettingsMap": {},
     "title": ""
    }
   },
   "source": [
    "Os prospectos dos fundos (FII, FIDC e FIP) serão baixados da tabela `desafio_kinea.prospecto_fundos.regulamento`."
   ]
  },
  {
   "cell_type": "markdown",
   "metadata": {
    "application/vnd.databricks.v1+cell": {
     "cellMetadata": {},
     "inputWidgets": {},
     "nuid": "898760ed-b9fb-4004-b681-72bbf4513cce",
     "showTitle": false,
     "tableResultSettingsMap": {},
     "title": ""
    }
   },
   "source": [
    "#### 1.1. Filtrando Prospectos "
   ]
  },
  {
   "cell_type": "code",
   "execution_count": 0,
   "metadata": {
    "application/vnd.databricks.v1+cell": {
     "cellMetadata": {
      "byteLimit": 2048000,
      "rowLimit": 10000
     },
     "inputWidgets": {},
     "nuid": "442e991c-7ac9-4c8a-8a3e-07499ac6cefc",
     "showTitle": false,
     "tableResultSettingsMap": {},
     "title": ""
    }
   },
   "outputs": [],
   "source": [
    "# Quantidade Total de Propectos Extraídos\n",
    "print(spark.read.table(\"desafio_kinea.prospecto_fundos.regulamento\").count())"
   ]
  },
  {
   "cell_type": "code",
   "execution_count": 0,
   "metadata": {
    "application/vnd.databricks.v1+cell": {
     "cellMetadata": {
      "byteLimit": 2048000,
      "rowLimit": 10000
     },
     "collapsed": true,
     "inputWidgets": {},
     "nuid": "948034cf-9185-43de-9e08-35098f4787f5",
     "showTitle": false,
     "tableResultSettingsMap": {},
     "title": ""
    }
   },
   "outputs": [],
   "source": [
    "display(spark.table(\"desafio_kinea.prospecto_fundos.regulamento\"))"
   ]
  },
  {
   "cell_type": "code",
   "execution_count": 0,
   "metadata": {
    "application/vnd.databricks.v1+cell": {
     "cellMetadata": {
      "byteLimit": 2048000,
      "rowLimit": 10000
     },
     "collapsed": true,
     "inputWidgets": {},
     "nuid": "8fa17a48-4b26-4c86-b42e-d5a79b502f1d",
     "showTitle": false,
     "tableResultSettingsMap": {},
     "title": ""
    }
   },
   "outputs": [],
   "source": [
    "display(spark.table(\"desafio_kinea.prospecto_fundos.regulamento\").groupBy(\"tp_fundo\").count())"
   ]
  },
  {
   "cell_type": "markdown",
   "metadata": {
    "application/vnd.databricks.v1+cell": {
     "cellMetadata": {},
     "inputWidgets": {},
     "nuid": "518be397-aeee-4d69-8f20-4d3f1c5a01ea",
     "showTitle": false,
     "tableResultSettingsMap": {},
     "title": ""
    }
   },
   "source": [
    "**Etapa 1**: Filtrando os prospectos emitidos pelos seguintes tipos de fundos: FII, FIDC e FIP."
   ]
  },
  {
   "cell_type": "code",
   "execution_count": 0,
   "metadata": {
    "application/vnd.databricks.v1+cell": {
     "cellMetadata": {
      "byteLimit": 2048000,
      "rowLimit": 10000
     },
     "collapsed": true,
     "inputWidgets": {},
     "nuid": "be8f71d3-0b83-4a84-b4e6-68c9d49cdfeb",
     "showTitle": false,
     "tableResultSettingsMap": {},
     "title": ""
    }
   },
   "outputs": [],
   "source": [
    "from pyspark.sql import functions as F\n",
    "from pyspark.sql import Window\n",
    "\n",
    "# Carrega a tabela\n",
    "df = spark.table(\"desafio_kinea.prospecto_fundos.regulamento\")\n",
    "\n",
    "# Filtra os tp_fundo desejados\n",
    "df = df.filter(F.col(\"tp_fundo\").isin([\"FIDC\", \"FIP\", \"F.I.I.\"]))\n",
    "\n",
    "print(df.count())"
   ]
  },
  {
   "cell_type": "code",
   "execution_count": 0,
   "metadata": {
    "application/vnd.databricks.v1+cell": {
     "cellMetadata": {
      "byteLimit": 2048000,
      "rowLimit": 10000
     },
     "inputWidgets": {},
     "nuid": "c92011e8-d834-4225-9be4-322716ff636a",
     "showTitle": false,
     "tableResultSettingsMap": {},
     "title": ""
    }
   },
   "outputs": [],
   "source": [
    "display(df.groupBy(\"tp_fundo\").count())"
   ]
  },
  {
   "cell_type": "markdown",
   "metadata": {
    "application/vnd.databricks.v1+cell": {
     "cellMetadata": {},
     "inputWidgets": {},
     "nuid": "38ff6d19-c10a-42a3-9f9e-92411a9fcb1a",
     "showTitle": false,
     "tableResultSettingsMap": {},
     "title": ""
    }
   },
   "source": [
    "**Etapa 2:** Excluindo os fundos CANCELADOS cruzando com a base `desafio_kinea.prospecto_fundos.cadastro_175_consolidada`"
   ]
  },
  {
   "cell_type": "code",
   "execution_count": 0,
   "metadata": {
    "application/vnd.databricks.v1+cell": {
     "cellMetadata": {
      "byteLimit": 2048000,
      "rowLimit": 10000
     },
     "collapsed": true,
     "inputWidgets": {},
     "nuid": "0789a202-08af-486f-8201-e4e02b338e91",
     "showTitle": false,
     "tableResultSettingsMap": {},
     "title": ""
    }
   },
   "outputs": [],
   "source": [
    "# Base consolidada de cadastro dos fundos\n",
    "cadastro = spark.read.table(\"desafio_kinea.prospecto_fundos.cadastro_175_consolidada\")\n",
    "\n",
    "# Filtra apenas os fundos ativos\n",
    "f_ativos = cadastro.filter(F.col(\"sit\").isin(\"Em Funcionamento Normal\", \"Fase Pré-Operacional\")) \\\n",
    "                   .select(\"cnpj_fundo\").distinct()\n",
    "\n",
    "# Join com o DataFrame filtrado para manter apenas os fundos ativos\n",
    "df_filtrado = df.join(f_ativos, on=\"cnpj_fundo\", how=\"inner\")\n",
    "\n",
    "print(df_filtrado.count())"
   ]
  },
  {
   "cell_type": "code",
   "execution_count": 0,
   "metadata": {
    "application/vnd.databricks.v1+cell": {
     "cellMetadata": {
      "byteLimit": 2048000,
      "rowLimit": 10000
     },
     "inputWidgets": {},
     "nuid": "e88a6af4-3899-4277-bd5f-9bf5e8a4074e",
     "showTitle": false,
     "tableResultSettingsMap": {
      "0": {
       "dataGridStateBlob": "{\"version\":1,\"tableState\":{\"columnPinning\":{\"left\":[\"#row_number#\"],\"right\":[]},\"columnSizing\":{},\"columnVisibility\":{}},\"settings\":{\"columns\":{\"link_arq\":{\"format\":{\"preset\":\"string-preset-url\"}}}},\"syncTimestamp\":1753713607873}",
       "filterBlob": null,
       "queryPlanFiltersBlob": null,
       "tableResultIndex": 0
      }
     },
     "title": ""
    }
   },
   "outputs": [],
   "source": [
    "display(df_filtrado)"
   ]
  },
  {
   "cell_type": "markdown",
   "metadata": {
    "application/vnd.databricks.v1+cell": {
     "cellMetadata": {},
     "inputWidgets": {},
     "nuid": "ebe3d291-4c36-4c07-a4e3-451de80d8a76",
     "showTitle": false,
     "tableResultSettingsMap": {},
     "title": ""
    }
   },
   "source": [
    "**Etapa 3:** Filtrandos prospectos com o mesmo CPNJ considerando apenas o mais recente em uma janela < 30 dias. Para janelas > 30 dias serão mantidas por serem consideradas emissões distintas."
   ]
  },
  {
   "cell_type": "code",
   "execution_count": 0,
   "metadata": {
    "application/vnd.databricks.v1+cell": {
     "cellMetadata": {
      "byteLimit": 2048000,
      "rowLimit": 10000
     },
     "collapsed": true,
     "inputWidgets": {},
     "nuid": "7f53fa6b-d867-498c-ac0e-6ad8c8a650f5",
     "showTitle": false,
     "tableResultSettingsMap": {},
     "title": ""
    }
   },
   "outputs": [],
   "source": [
    "from pyspark.sql import functions as F\n",
    "from pyspark.sql import Window # Funcao para criacao de janelas\n",
    "\n",
    "# Extrai o timestamp do nome do arquivo\n",
    "\n",
    "#df_filtrado = df_filtrado.withColumn(\n",
    " #   \"data_publicacao\",\n",
    " #  F.to_timestamp(F.substring(\"nm_arq\", 1, 14), \"yyyyMMddHHmmss\"))\n",
    "\n",
    "# Define objeto 'janela' por CNPJ ordenada pela data\n",
    "janela = Window.partitionBy(\"cnpj_fundo\").orderBy(\"dt_receb\")\n",
    "\n",
    "# Calcula a data anterior\n",
    "df_filtrado = df_filtrado.withColumn(\n",
    "    \"data_anterior\",\n",
    "    F.lag(\"dt_receb\").over(janela)\n",
    ")\n",
    "\n",
    "# Determina inicio de novo grupo (diferença ≥ 30 dias ou é o primeiro doc)\n",
    "df_filtrado = df_filtrado.withColumn(\n",
    "    \"nova_emissao\",\n",
    "    F.when(F.col(\"data_anterior\").isNull(), 1)\n",
    "     .when(F.datediff(\"dt_receb\", F.col(\"data_anterior\")) >= 30, 1)\n",
    "     .otherwise(0)\n",
    ")\n",
    "\n",
    "# Soma cumulativa para gerar grupo de emissão\n",
    "df_filtrado = df_filtrado.withColumn(\n",
    "    \"grupo_emissao\",\n",
    "    F.sum(\"nova_emissao\").over(janela.rowsBetween(Window.unboundedPreceding, 0))\n",
    ")\n",
    "\n",
    "# Ordena dentro de cada grupo_emissao e cnpj para pegar o mais recente\n",
    "janela_grupo = Window.partitionBy(\"cnpj_fundo\", \"grupo_emissao\").orderBy(F.col(\"dt_receb\").desc())\n",
    "\n",
    "df_final = df_filtrado.withColumn(\"ordem\", F.row_number().over(janela_grupo)).filter(F.col(\"ordem\") == 1)\n",
    "\n",
    "print(df_final.count())"
   ]
  },
  {
   "cell_type": "code",
   "execution_count": 0,
   "metadata": {
    "application/vnd.databricks.v1+cell": {
     "cellMetadata": {
      "byteLimit": 2048000,
      "rowLimit": 10000
     },
     "collapsed": true,
     "inputWidgets": {},
     "nuid": "6d3c8ca7-99ee-43ff-8446-45114cff5096",
     "showTitle": false,
     "tableResultSettingsMap": {
      "0": {
       "dataGridStateBlob": "{\"version\":1,\"tableState\":{\"columnPinning\":{\"left\":[\"#row_number#\"],\"right\":[]},\"columnSizing\":{},\"columnVisibility\":{}},\"settings\":{\"columns\":{\"link_arq\":{\"format\":{\"preset\":\"string-preset-url\"}}}},\"syncTimestamp\":1753714646696}",
       "filterBlob": null,
       "queryPlanFiltersBlob": null,
       "tableResultIndex": 0
      }
     },
     "title": ""
    }
   },
   "outputs": [],
   "source": [
    "display(df_final)"
   ]
  },
  {
   "cell_type": "code",
   "execution_count": 0,
   "metadata": {
    "application/vnd.databricks.v1+cell": {
     "cellMetadata": {
      "byteLimit": 2048000,
      "rowLimit": 10000
     },
     "inputWidgets": {},
     "nuid": "5c150fa5-1ec3-42c1-b8c2-f821e648d831",
     "showTitle": false,
     "tableResultSettingsMap": {},
     "title": ""
    }
   },
   "outputs": [],
   "source": [
    "display(df_final.groupBy(\"tp_fundo\").count())"
   ]
  },
  {
   "cell_type": "markdown",
   "metadata": {
    "application/vnd.databricks.v1+cell": {
     "cellMetadata": {},
     "inputWidgets": {},
     "nuid": "e5b6e146-7aae-4a35-b571-9e37b32e469c",
     "showTitle": false,
     "tableResultSettingsMap": {},
     "title": ""
    }
   },
   "source": [
    "#### 1.2. Baixando Arquivos sem Extensão"
   ]
  },
  {
   "cell_type": "markdown",
   "metadata": {
    "application/vnd.databricks.v1+cell": {
     "cellMetadata": {},
     "inputWidgets": {},
     "nuid": "58d9e9ff-64b2-49d4-a11b-e8946dfadb42",
     "showTitle": false,
     "tableResultSettingsMap": {},
     "title": ""
    }
   },
   "source": [
    "Limpando a pasta em caso de alterações nas filtragens"
   ]
  },
  {
   "cell_type": "code",
   "execution_count": 0,
   "metadata": {
    "application/vnd.databricks.v1+cell": {
     "cellMetadata": {
      "byteLimit": 2048000,
      "rowLimit": 10000
     },
     "inputWidgets": {},
     "nuid": "c41e8fc4-bfe5-4335-af7c-a73b310a0bff",
     "showTitle": false,
     "tableResultSettingsMap": {},
     "title": ""
    }
   },
   "outputs": [],
   "source": [
    "# volume_path = \"/Volumes/desafio_kinea/prospecto_fundos/ext-arquivos-prospectos/arquivos-sem-extensao/\"\n",
    "# dbutils.fs.rm(volume_path, recurse=True)  # Remove tudo\n",
    "# dbutils.fs.mkdirs(volume_path)  # Recria a pasta vazia"
   ]
  },
  {
   "cell_type": "markdown",
   "metadata": {
    "application/vnd.databricks.v1+cell": {
     "cellMetadata": {},
     "inputWidgets": {},
     "nuid": "21a6bf0d-5da7-4e65-b40f-4f830e845c81",
     "showTitle": false,
     "tableResultSettingsMap": {},
     "title": ""
    }
   },
   "source": [
    "Avaliando quais os tipos de extensão"
   ]
  },
  {
   "cell_type": "code",
   "execution_count": 0,
   "metadata": {
    "application/vnd.databricks.v1+cell": {
     "cellMetadata": {
      "byteLimit": 2048000,
      "rowLimit": 10000
     },
     "collapsed": true,
     "inputWidgets": {},
     "nuid": "45d4032a-b764-4f08-9c96-00d6ee689857",
     "showTitle": false,
     "tableResultSettingsMap": {},
     "title": ""
    }
   },
   "outputs": [],
   "source": [
    "from pyspark.sql.functions import regexp_extract, lower, col\n",
    "\n",
    "# Expressão regular para extrair a extensão do final do link\n",
    "# Captura tudo após o último ponto antes de ?, # ou final da string\n",
    "df_ext = df_final.withColumn(\n",
    "    \"extensao\",\n",
    "    regexp_extract(lower(col(\"link_arq\")), r\"\\.([a-z0-9]+)(?:\\?|#|$)\", 1)\n",
    ")\n",
    "\n",
    "# Contar quantas vezes cada extensão aparece\n",
    "ext_counts = df_ext.groupBy(\"extensao\").count().orderBy(\"count\", ascending=False)\n",
    "\n",
    "ext_counts.show(truncate=False)\n"
   ]
  },
  {
   "cell_type": "markdown",
   "metadata": {
    "application/vnd.databricks.v1+cell": {
     "cellMetadata": {},
     "inputWidgets": {},
     "nuid": "9205c0fa-c552-4f13-9414-75c24efc0935",
     "showTitle": false,
     "tableResultSettingsMap": {},
     "title": ""
    }
   },
   "source": [
    "Baixando os Arquivos sem extensão"
   ]
  },
  {
   "cell_type": "code",
   "execution_count": 0,
   "metadata": {
    "application/vnd.databricks.v1+cell": {
     "cellMetadata": {
      "byteLimit": 2048000,
      "rowLimit": 10000
     },
     "collapsed": true,
     "inputWidgets": {},
     "nuid": "55e02bc2-8b14-4776-b6df-246d9c3a60d2",
     "showTitle": false,
     "tableResultSettingsMap": {},
     "title": ""
    }
   },
   "outputs": [],
   "source": [
    "from pyspark.sql.functions import col, lower, trim, regexp_extract\n",
    "import os\n",
    "import requests\n",
    "import mimetypes\n",
    "from datetime import datetime\n",
    "from urllib.parse import urlparse\n",
    "\n",
    "# Caminho para salvar os arquivos\n",
    "DIR_DOCS = \"/Volumes/desafio_kinea/prospecto_fundos/ext-arquivos-prospectos/arquivos-sem-extensao/\"\n",
    "os.makedirs(DIR_DOCS, exist_ok=True)\n",
    "\n",
    "# Arquivo de log de falhas\n",
    "LOG_FALHAS = os.path.join(DIR_DOCS, \"falhas_download.txt\")\n",
    "\n",
    "# Configuração da sessão HTTP\n",
    "session = requests.Session()\n",
    "session.headers.update({\n",
    "    \"User-Agent\": \"Mozilla/5.0 (Windows NT 10.0; Win64; x64) AppleWebKit/537.36 (KHTML, like Gecko) Chrome/91.0.4472.124 Safari/537.36\",\n",
    "    \"Accept\": \"text/html,application/xhtml+xml,application/xml;q=0.9,image/webp,*/*;q=0.8\"\n",
    "})\n",
    "\n",
    "# Filtrar apenas URLs que NÃO terminam com extensões conhecidas\n",
    "df_filtrado = (\n",
    "    df_final.filter(\n",
    "        (lower(trim(col(\"tp_doc\"))) == \"prospec.distrib\") &\n",
    "        col(\"cnpj_fundo\").isNotNull() &\n",
    "        col(\"link_arq\").isNotNull() &\n",
    "        ~lower(col(\"link_arq\")).rlike(r'\\.(pdf|doc|docx|xls|xlsx|zip|rar|7z)$')\n",
    "    )\n",
    "    .select(\"cnpj_fundo\", \"tp_fundo\", \"link_arq\", \"dt_receb\")\n",
    ")\n",
    "\n",
    "registros = df_filtrado.collect()\n",
    "\n",
    "baixados, ignorados, falhas = 0, 0, 0\n",
    "\n",
    "for i, row in enumerate(registros, 1):\n",
    "    cnpj = row[\"cnpj_fundo\"].replace(\".\", \"\").replace(\"/\", \"\").replace(\"-\", \"\")\n",
    "    tipo = row[\"tp_fundo\"]\n",
    "    link = row[\"link_arq\"]\n",
    "    dt_receb = row[\"dt_receb\"]\n",
    "\n",
    "    # Formatar a data\n",
    "    try:\n",
    "        if isinstance(dt_receb, str):\n",
    "            data_str = datetime.strptime(dt_receb[:10], \"%Y-%m-%d\").strftime(\"%Y%m%d\")\n",
    "        else:\n",
    "            data_str = dt_receb.strftime(\"%Y%m%d\")\n",
    "    except Exception:\n",
    "        data_str = \"semdata\"\n",
    "\n",
    "    nome_base = f\"{tipo}_{cnpj}_{data_str}\"\n",
    "\n",
    "    try:\n",
    "        # Faz a requisição\n",
    "        resp = session.get(link, stream=True, timeout=60)\n",
    "        \n",
    "        if resp.status_code == 200:\n",
    "            # Tenta determinar o tipo de conteúdo\n",
    "            content_type = resp.headers.get('Content-Type', '')\n",
    "            extensao = mimetypes.guess_extension(content_type.split(';')[0].strip())\n",
    "            \n",
    "            # Se não conseguir pela Content-Type, verifica no Content-Disposition\n",
    "            if not extensao:\n",
    "                content_disp = resp.headers.get('Content-Disposition', '')\n",
    "                if 'filename=' in content_disp:\n",
    "                    filename = content_disp.split('filename=')[1].strip('\"\\'')\n",
    "                    extensao = os.path.splitext(filename)[1]\n",
    "            \n",
    "            # Se ainda não encontrou extensão, verifica o conteúdo\n",
    "            if not extensao:\n",
    "                sample = resp.raw.read(1024)\n",
    "                resp.raw.seek(0)  # Volta para o início\n",
    "                \n",
    "                if sample.startswith(b'%PDF-'):\n",
    "                    extensao = '.pdf'\n",
    "                elif sample.startswith(b'\\xD0\\xCF\\x11\\xE0'):  # Arquivos DOC antigos\n",
    "                    extensao = '.doc'\n",
    "                elif sample.startswith(b'PK\\x03\\x04'):  # Arquivos Office modernos\n",
    "                    extensao = '.docx'  # Padrão para Office\n",
    "                else:\n",
    "                    extensao = '.bin'  # Extensão genérica\n",
    "            \n",
    "            nome_arquivo = f\"{nome_base}{extensao}\"\n",
    "            caminho_arquivo = os.path.join(DIR_DOCS, nome_arquivo)\n",
    "            \n",
    "            if os.path.exists(caminho_arquivo):\n",
    "                print(f\"[{i}/{len(registros)}] ↪ Já existe: {nome_arquivo}\")\n",
    "                ignorados += 1\n",
    "                continue\n",
    "            \n",
    "            # Salva o arquivo\n",
    "            with open(caminho_arquivo, 'wb') as f:\n",
    "                for chunk in resp.iter_content(chunk_size=8192):\n",
    "                    if chunk:\n",
    "                        f.write(chunk)\n",
    "            \n",
    "            print(f\"[{i}/{len(registros)}] ✓ Baixado: {nome_arquivo}\")\n",
    "            baixados += 1\n",
    "        else:\n",
    "            falhas += 1\n",
    "            with open(LOG_FALHAS, 'a') as f_log:\n",
    "                f_log.write(f\"{link} | HTTP {resp.status_code}\\n\")\n",
    "            print(f\"[{i}/{len(registros)}] ✗ HTTP {resp.status_code}: {link}\")\n",
    "    \n",
    "    except Exception as e:\n",
    "        falhas += 1\n",
    "        with open(LOG_FALHAS, 'a') as f_log:\n",
    "            f_log.write(f\"{link} | EXCEPTION: {str(e)}\\n\")\n",
    "        print(f\"[{i}/{len(registros)}] ✗ Erro: {str(e)}\")\n",
    "\n",
    "# Resumo\n",
    "print(\"\\n========== RESUMO ==========\")\n",
    "print(f\"✓ Arquivos baixados: {baixados}\")\n",
    "print(f\"↪ Ignorados (já existiam): {ignorados}\")\n",
    "print(f\"✗ Falhas no download: {falhas}\")\n",
    "print(f\"Total processado: {len(registros)}\")"
   ]
  },
  {
   "cell_type": "markdown",
   "metadata": {
    "application/vnd.databricks.v1+cell": {
     "cellMetadata": {},
     "inputWidgets": {},
     "nuid": "64963e0c-24a9-4923-9643-4136f4e9f15c",
     "showTitle": false,
     "tableResultSettingsMap": {},
     "title": ""
    }
   },
   "source": [
    "Transferindo os `.pdf` para seus respectivos diretórios a partir da quantidade de páginas do arquivo"
   ]
  },
  {
   "cell_type": "code",
   "execution_count": 0,
   "metadata": {
    "application/vnd.databricks.v1+cell": {
     "cellMetadata": {
      "byteLimit": 2048000,
      "rowLimit": 10000
     },
     "collapsed": true,
     "inputWidgets": {},
     "nuid": "50c16cd3-02d8-47e8-b82c-3d110595eb2b",
     "showTitle": false,
     "tableResultSettingsMap": {},
     "title": ""
    }
   },
   "outputs": [],
   "source": [
    "!pip install PyPDF2"
   ]
  },
  {
   "cell_type": "code",
   "execution_count": 0,
   "metadata": {
    "application/vnd.databricks.v1+cell": {
     "cellMetadata": {
      "byteLimit": 2048000,
      "rowLimit": 10000
     },
     "collapsed": true,
     "inputWidgets": {},
     "nuid": "798fc6b2-a401-4975-b540-3675a7cd2354",
     "showTitle": false,
     "tableResultSettingsMap": {},
     "title": ""
    }
   },
   "outputs": [],
   "source": [
    "import os\n",
    "import shutil\n",
    "from PyPDF2 import PdfReader\n",
    "\n",
    "# Diretórios no DBFS\n",
    "DIR_PDFS = \"/Volumes/desafio_kinea/prospecto_fundos/ext-arquivos-prospectos/arquivos-sem-extensao/\"\n",
    "DIR_PDFS_CURTO = \"/Volumes/desafio_kinea/prospecto_fundos/ext-arquivos-prospectos/arquivos-pdf-curtos/\"\n",
    "DIR_PDFS_LONGO = \"/Volumes/desafio_kinea/prospecto_fundos/ext-arquivos-prospectos/arquivos-pdf/\"\n",
    "\n",
    "# Listar arquivos PDF no diretório original\n",
    "arquivos = [f for f in os.listdir(DIR_PDFS) if f.lower().endswith(\".pdf\")]\n",
    "\n",
    "# Contadores\n",
    "curtos = 0\n",
    "longos = 0\n",
    "transferidos = 0\n",
    "ignorados = 0\n",
    "falhas = 0\n",
    "\n",
    "# Processar arquivos\n",
    "for i, nome_arquivo in enumerate(arquivos, 1):\n",
    "    caminho_origem = os.path.join(DIR_PDFS, nome_arquivo)\n",
    "\n",
    "    try:\n",
    "        reader = PdfReader(caminho_origem)\n",
    "        num_paginas = len(reader.pages)\n",
    "\n",
    "        if num_paginas < 3:\n",
    "            destino = DIR_PDFS_CURTO\n",
    "            curtos += 1\n",
    "        else:\n",
    "            destino = DIR_PDFS_LONGO\n",
    "            longos += 1\n",
    "\n",
    "        caminho_destino = os.path.join(destino, nome_arquivo)\n",
    "\n",
    "        if os.path.exists(caminho_destino):\n",
    "            print(f\"[{i}/{len(arquivos)}] ↪ Arquivo já existe: {nome_arquivo}\")\n",
    "            ignorados += 1\n",
    "            continue\n",
    "\n",
    "        shutil.copyfile(caminho_origem, caminho_destino)\n",
    "        os.remove(caminho_origem)\n",
    "\n",
    "        print(f\"[{i}/{len(arquivos)}] ✓ Movido para: {destino} ({nome_arquivo})\")\n",
    "        transferidos += 1\n",
    "\n",
    "    except Exception as e:\n",
    "        print(f\"[{i}/{len(arquivos)}] ✗ Erro ao processar {nome_arquivo}: {e}\")\n",
    "        falhas += 1\n",
    "\n",
    "# Resumo\n",
    "print(\"\\n========== RESUMO ==========\")\n",
    "print(f\"✓ PDFs longos (>= 3 pág): {longos}\")\n",
    "print(f\"↪ PDFs curtos (< 3 pág): {curtos}\")\n",
    "print(f\"✓ Arquivos movidos com sucesso: {transferidos}\")\n",
    "print(f\"↪ Arquivos já existentes nos diretórios finais: {ignorados}\")\n",
    "print(f\"✗ Falhas no processamento: {falhas}\")\n",
    "print(f\"Total analisado: {len(arquivos)}\")\n",
    "print(\"============================\")\n",
    "\n"
   ]
  },
  {
   "cell_type": "markdown",
   "metadata": {
    "application/vnd.databricks.v1+cell": {
     "cellMetadata": {},
     "inputWidgets": {},
     "nuid": "be0b0e6f-7583-4f97-bc45-50dd6da8c394",
     "showTitle": false,
     "tableResultSettingsMap": {},
     "title": ""
    }
   },
   "source": [
    "#### 1.3. Baixando os arquivos .doc"
   ]
  },
  {
   "cell_type": "markdown",
   "metadata": {
    "application/vnd.databricks.v1+cell": {
     "cellMetadata": {},
     "inputWidgets": {},
     "nuid": "e0960d17-36f6-42e8-ae3b-94fe65cebc4a",
     "showTitle": false,
     "tableResultSettingsMap": {},
     "title": ""
    }
   },
   "source": [
    "Verificando quantos arquivos .doc tenho no meu `df_final`. Comentário: não há arquivos .docx"
   ]
  },
  {
   "cell_type": "code",
   "execution_count": 0,
   "metadata": {
    "application/vnd.databricks.v1+cell": {
     "cellMetadata": {
      "byteLimit": 2048000,
      "rowLimit": 10000
     },
     "collapsed": true,
     "inputWidgets": {},
     "nuid": "b246abbf-7636-43a5-a3ed-4a66e390b321",
     "showTitle": false,
     "tableResultSettingsMap": {},
     "title": ""
    }
   },
   "outputs": [],
   "source": [
    "from pyspark.sql.functions import col, lower, count\n",
    "\n",
    "# Contar fundos com links .docx\n",
    "count_docx = df_final.filter(\n",
    "    lower(col(\"link_arq\")).like(\"%.doc\")\n",
    ").count()\n",
    "\n",
    "print(f\"Número de fundos com links .doc: {count_docx}\")"
   ]
  },
  {
   "cell_type": "markdown",
   "metadata": {
    "application/vnd.databricks.v1+cell": {
     "cellMetadata": {},
     "inputWidgets": {},
     "nuid": "0d6759ab-06bb-44a3-886e-55f1a8224681",
     "showTitle": false,
     "tableResultSettingsMap": {},
     "title": ""
    }
   },
   "source": [
    "Limpando volume antes do processamento (caso haja atualizações nos filtros):"
   ]
  },
  {
   "cell_type": "code",
   "execution_count": 0,
   "metadata": {
    "application/vnd.databricks.v1+cell": {
     "cellMetadata": {
      "byteLimit": 2048000,
      "rowLimit": 10000
     },
     "collapsed": true,
     "inputWidgets": {},
     "nuid": "85cb76d9-1a2a-4799-9a71-c098d8dd8843",
     "showTitle": false,
     "tableResultSettingsMap": {},
     "title": ""
    }
   },
   "outputs": [],
   "source": [
    "# volume_path = \"/Volumes/desafio_kinea/prospecto_fundos/ext-arquivos-prospectos/arquivos-docs/\"\n",
    "# dbutils.fs.rm(volume_path, recurse=True)  # Remove tudo\n",
    "# dbutils.fs.mkdirs(volume_path)  # Recria a pasta vazia"
   ]
  },
  {
   "cell_type": "markdown",
   "metadata": {
    "application/vnd.databricks.v1+cell": {
     "cellMetadata": {},
     "inputWidgets": {},
     "nuid": "b588e222-5418-4a30-9bc0-d4a985c3cd2d",
     "showTitle": false,
     "tableResultSettingsMap": {},
     "title": ""
    }
   },
   "source": [
    "Filtrando e baixandos os prospectos com link do tipo `.doc`"
   ]
  },
  {
   "cell_type": "code",
   "execution_count": 0,
   "metadata": {
    "application/vnd.databricks.v1+cell": {
     "cellMetadata": {
      "byteLimit": 2048000,
      "rowLimit": 10000
     },
     "collapsed": true,
     "inputWidgets": {},
     "nuid": "57454a2f-8113-44e1-a870-825861907e41",
     "showTitle": false,
     "tableResultSettingsMap": {},
     "title": ""
    }
   },
   "outputs": [],
   "source": [
    "from pyspark.sql.functions import col, lower, trim\n",
    "\n",
    "DIR_DOCS = \"/Volumes/desafio_kinea/prospecto_fundos/ext-arquivos-prospectos/arquivos-docs/\"\n",
    "\n",
    "df_doc_links = df_final.filter(\n",
    "    (lower(trim(col(\"tp_doc\"))) == \"prospec.distrib\") &\n",
    "    (\n",
    "        lower(col(\"link_arq\")).like(\"%.doc\") |\n",
    "        lower(col(\"link_arq\")).like(\"%.docx\")\n",
    "    ) &\n",
    "    col(\"cnpj_fundo\").isNotNull() &\n",
    "    col(\"link_arq\").isNotNull())\n",
    "\n",
    "registros = df_doc_links.select(\"cnpj_fundo\", \"tp_fundo\", \"link_arq\", \"dt_receb\").collect()\n",
    "\n",
    "baixados = 0\n",
    "ignorados = 0\n",
    "falhas = 0\n",
    "\n",
    "import os\n",
    "import requests\n",
    "from datetime import datetime\n",
    "\n",
    "for i, row in enumerate(registros, 1):\n",
    "    cnpj = row[\"cnpj_fundo\"].replace(\".\", \"\").replace(\"/\", \"\").replace(\"-\", \"\")\n",
    "    tipo = row[\"tp_fundo\"]\n",
    "    link = row[\"link_arq\"]\n",
    "    dt_receb = row[\"dt_receb\"]\n",
    "    if dt_receb is not None:\n",
    "        if hasattr(dt_receb, \"strftime\"):\n",
    "            data_str = dt_receb.strftime(\"%Y%m%d\")\n",
    "        else:\n",
    "            try:\n",
    "                data_str = datetime.strptime(str(dt_receb), \"%Y-%m-%d\").strftime(\"%Y%m%d\")\n",
    "            except Exception:\n",
    "                data_str = str(dt_receb)\n",
    "    else:\n",
    "        data_str = \"semdata\"\n",
    "\n",
    "    extensao = \".docx\" if link.lower().endswith(\".docx\") else \".doc\"\n",
    "    nome_arquivo = f\"{tipo}_{cnpj}_{data_str}{extensao}\"\n",
    "    caminho_arquivo = os.path.join(DIR_DOCS, nome_arquivo)\n",
    "\n",
    "    print(f\"\\n[{i}/{len(registros)}] Verificando: {nome_arquivo}\")\n",
    "\n",
    "    if os.path.exists(caminho_arquivo):\n",
    "        print(f\"  ↪ Já existe. Ignorado.\")\n",
    "        ignorados += 1\n",
    "        continue\n",
    "\n",
    "    try:\n",
    "        resp = requests.get(link, timeout=60)\n",
    "        if resp.status_code == 200:\n",
    "            with open(caminho_arquivo, \"wb\") as f:\n",
    "                f.write(resp.content)\n",
    "            print(f\"  ✓ Baixado com sucesso.\")\n",
    "            baixados += 1\n",
    "        else:\n",
    "            print(f\"  ✗ Erro HTTP {resp.status_code}\")\n",
    "            falhas += 1\n",
    "\n",
    "    except Exception as e:\n",
    "        print(f\"  ✗ Erro ao baixar: {e}\")\n",
    "        falhas += 1\n",
    "\n",
    "print(\"\\n========== RESUMO ==========\")\n",
    "print(f\"✓ Novos arquivos baixados: {baixados}\")\n",
    "print(f\"↪ Já existiam e foram ignorados: {ignorados}\")\n",
    "print(f\"✗ Falhas no download: {falhas}\")\n",
    "print(f\"Total processado: {len(registros)}\")\n",
    "print(\"============================\")"
   ]
  },
  {
   "cell_type": "code",
   "execution_count": 0,
   "metadata": {
    "application/vnd.databricks.v1+cell": {
     "cellMetadata": {
      "byteLimit": 2048000,
      "rowLimit": 10000
     },
     "collapsed": true,
     "inputWidgets": {},
     "nuid": "0f2243f0-9b43-4def-a8ba-292d4e5b593d",
     "showTitle": false,
     "tableResultSettingsMap": {},
     "title": ""
    }
   },
   "outputs": [],
   "source": [
    "print(spark.read.format(\"binaryFile\").load(\"/Volumes/desafio_kinea/prospecto_fundos/ext-arquivos-prospectos/arquivos-docs/\").count())"
   ]
  },
  {
   "cell_type": "markdown",
   "metadata": {
    "application/vnd.databricks.v1+cell": {
     "cellMetadata": {},
     "inputWidgets": {},
     "nuid": "01bab363-8d32-4886-a2ef-f892c9d44389",
     "showTitle": false,
     "tableResultSettingsMap": {},
     "title": ""
    }
   },
   "source": [
    "Observação: em caso de não funcionamento da azure function, há a possibilidade de conversão dos `.doc` na máquina local. A partir disso, é possível reorganizar os arquivos doc convertidos em pdf a partir da quantidade de páginas."
   ]
  },
  {
   "cell_type": "code",
   "execution_count": 0,
   "metadata": {
    "application/vnd.databricks.v1+cell": {
     "cellMetadata": {
      "byteLimit": 2048000,
      "rowLimit": 10000
     },
     "collapsed": true,
     "inputWidgets": {},
     "nuid": "5a62a888-330c-48d7-a18d-3441895c789a",
     "showTitle": false,
     "tableResultSettingsMap": {},
     "title": ""
    }
   },
   "outputs": [],
   "source": [
    "import os\n",
    "import shutil\n",
    "from PyPDF2 import PdfReader\n",
    "\n",
    "# Diretórios no DBFS\n",
    "DIR_PDFS = \"/Volumes/desafio_kinea/prospecto_fundos/ext-arquivos-prospectos/arquivos-docs-convertidos/\"\n",
    "DIR_PDFS_CURTO = \"/Volumes/desafio_kinea/prospecto_fundos/ext-arquivos-prospectos/arquivos-pdf-curtos/\"\n",
    "DIR_PDFS_LONGO = \"/Volumes/desafio_kinea/prospecto_fundos/ext-arquivos-prospectos/arquivos-pdf/\"\n",
    "\n",
    "# Listar arquivos PDF no diretório original\n",
    "arquivos = [f for f in os.listdir(DIR_PDFS) if f.lower().endswith(\".pdf\")]\n",
    "\n",
    "# Contadores\n",
    "curtos = 0\n",
    "longos = 0\n",
    "transferidos = 0\n",
    "ignorados = 0\n",
    "falhas = 0\n",
    "\n",
    "# Processar arquivos\n",
    "for i, nome_arquivo in enumerate(arquivos, 1):\n",
    "    caminho_origem = os.path.join(DIR_PDFS, nome_arquivo)\n",
    "\n",
    "    try:\n",
    "        reader = PdfReader(caminho_origem)\n",
    "        num_paginas = len(reader.pages)\n",
    "\n",
    "        if num_paginas < 3:\n",
    "            destino = DIR_PDFS_CURTO\n",
    "            curtos += 1\n",
    "        else:\n",
    "            destino = DIR_PDFS_LONGO\n",
    "            longos += 1\n",
    "\n",
    "        caminho_destino = os.path.join(destino, nome_arquivo)\n",
    "\n",
    "        if os.path.exists(caminho_destino):\n",
    "            print(f\"[{i}/{len(arquivos)}] ↪ Arquivo já existe: {nome_arquivo}\")\n",
    "            ignorados += 1\n",
    "            continue\n",
    "\n",
    "        shutil.copyfile(caminho_origem, caminho_destino)\n",
    "        os.remove(caminho_origem)\n",
    "\n",
    "        print(f\"[{i}/{len(arquivos)}] ✓ Movido para: {destino} ({nome_arquivo})\")\n",
    "        transferidos += 1\n",
    "\n",
    "    except Exception as e:\n",
    "        print(f\"[{i}/{len(arquivos)}] ✗ Erro ao processar {nome_arquivo}: {e}\")\n",
    "        falhas += 1\n",
    "\n",
    "# Resumo\n",
    "print(\"\\n========== RESUMO ==========\")\n",
    "print(f\"✓ PDFs longos (>= 3 pág): {longos}\")\n",
    "print(f\"↪ PDFs curtos (< 3 pág): {curtos}\")\n",
    "print(f\"✓ Arquivos movidos com sucesso: {transferidos}\")\n",
    "print(f\"↪ Arquivos já existentes nos diretórios finais: {ignorados}\")\n",
    "print(f\"✗ Falhas no processamento: {falhas}\")\n",
    "print(f\"Total analisado: {len(arquivos)}\")\n",
    "print(\"============================\")"
   ]
  },
  {
   "cell_type": "markdown",
   "metadata": {
    "application/vnd.databricks.v1+cell": {
     "cellMetadata": {},
     "inputWidgets": {},
     "nuid": "c8694c02-b94f-49ac-9fc2-32405c166c63",
     "showTitle": false,
     "tableResultSettingsMap": {},
     "title": ""
    }
   },
   "source": [
    "#### 1.4. Baixando arquivos `.pdf`"
   ]
  },
  {
   "cell_type": "markdown",
   "metadata": {
    "application/vnd.databricks.v1+cell": {
     "cellMetadata": {},
     "inputWidgets": {},
     "nuid": "5ee0b9e0-5ce1-425f-9dc0-23a30353f184",
     "showTitle": false,
     "tableResultSettingsMap": {},
     "title": ""
    }
   },
   "source": [
    "Limpando volume antes do processamento (caso haja atualizações nos filtros):"
   ]
  },
  {
   "cell_type": "code",
   "execution_count": 0,
   "metadata": {
    "application/vnd.databricks.v1+cell": {
     "cellMetadata": {
      "byteLimit": 2048000,
      "rowLimit": 10000
     },
     "collapsed": true,
     "inputWidgets": {},
     "nuid": "4f43dc80-2db9-4977-a514-42c31d2ffc9c",
     "showTitle": false,
     "tableResultSettingsMap": {},
     "title": ""
    }
   },
   "outputs": [],
   "source": [
    "# volume_path = \"/Volumes/desafio_kinea/prospecto_fundos/ext-arquivos-prospectos/arquivos-pdf/\"\n",
    "# dbutils.fs.rm(volume_path, recurse=True)  # Remove tudo\n",
    "# dbutils.fs.mkdirs(volume_path)  # Recria a pasta vazia"
   ]
  },
  {
   "cell_type": "code",
   "execution_count": 0,
   "metadata": {
    "application/vnd.databricks.v1+cell": {
     "cellMetadata": {
      "byteLimit": 2048000,
      "rowLimit": 10000
     },
     "collapsed": true,
     "inputWidgets": {},
     "nuid": "0f6fd204-5b40-4ea4-b309-faf8d0cb7d83",
     "showTitle": false,
     "tableResultSettingsMap": {},
     "title": ""
    }
   },
   "outputs": [],
   "source": [
    "# volume_path = \"/Volumes/desafio_kinea/prospecto_fundos/ext-arquivos-prospectos/arquivos-pdf-curtos/\"\n",
    "# dbutils.fs.rm(volume_path, recurse=True)  # Remove tudo\n",
    "# dbutils.fs.mkdirs(volume_path)  # Recria a pasta vazia"
   ]
  },
  {
   "cell_type": "markdown",
   "metadata": {
    "application/vnd.databricks.v1+cell": {
     "cellMetadata": {},
     "inputWidgets": {},
     "nuid": "a28fb831-a939-4647-8f5e-233c5ffc4f92",
     "showTitle": false,
     "tableResultSettingsMap": {},
     "title": ""
    }
   },
   "source": [
    "Filtrando os prospectos com link .pdf e separando aqueles com < 3 páginas (prospectos redirecionadores de link)"
   ]
  },
  {
   "cell_type": "code",
   "execution_count": 0,
   "metadata": {
    "application/vnd.databricks.v1+cell": {
     "cellMetadata": {
      "byteLimit": 2048000,
      "rowLimit": 10000
     },
     "collapsed": true,
     "inputWidgets": {},
     "nuid": "2d0f8c1f-f23e-4324-946e-64c526b4899d",
     "showTitle": false,
     "tableResultSettingsMap": {},
     "title": ""
    }
   },
   "outputs": [],
   "source": [
    "!pip install PyPDF2"
   ]
  },
  {
   "cell_type": "code",
   "execution_count": 0,
   "metadata": {
    "application/vnd.databricks.v1+cell": {
     "cellMetadata": {
      "byteLimit": 2048000,
      "rowLimit": 10000
     },
     "collapsed": true,
     "inputWidgets": {},
     "nuid": "3113673a-16f8-42cb-a3ee-dd50207e16bd",
     "showTitle": false,
     "tableResultSettingsMap": {},
     "title": ""
    }
   },
   "outputs": [],
   "source": [
    "from pyspark.sql.functions import col, lower, trim\n",
    "import os\n",
    "import shutil\n",
    "import requests\n",
    "from PyPDF2 import PdfReader\n",
    "\n",
    "DIR_PDFS = \"/Volumes/desafio_kinea/prospecto_fundos/ext-arquivos-prospectos/arquivos-pdf/\"\n",
    "DIR_PDFS_CURTO = \"/Volumes/desafio_kinea/prospecto_fundos/ext-arquivos-prospectos/arquivos-pdf-curtos/\"\n",
    "\n",
    "os.makedirs(DIR_PDFS_CURTO, exist_ok=True)\n",
    "\n",
    "df_pdf_links = df_final.filter(\n",
    "    (lower(trim(col(\"tp_doc\"))) == \"prospec.distrib\") &\n",
    "    (lower(col(\"link_arq\")).like(\"%.pdf\")) &\n",
    "    col(\"cnpj_fundo\").isNotNull() &\n",
    "    col(\"link_arq\").isNotNull())\n",
    "\n",
    "registros = df_pdf_links.select(\"cnpj_fundo\", \"tp_fundo\", \"link_arq\", \"dt_receb\").collect()\n",
    "\n",
    "baixados = 0\n",
    "ignorados = 0\n",
    "falhas = 0\n",
    "curtos = 0\n",
    "\n",
    "for i, row in enumerate(registros, 1):\n",
    "    cnpj = row[\"cnpj_fundo\"].replace(\".\", \"\").replace(\"/\", \"\").replace(\"-\", \"\")\n",
    "    tipo = row[\"tp_fundo\"]\n",
    "    link = row[\"link_arq\"]\n",
    "    dt_receb = row[\"dt_receb\"]\n",
    "    if dt_receb is not None:\n",
    "        if hasattr(dt_receb, \"strftime\"):\n",
    "            data_str = dt_receb.strftime(\"%Y%m%d\")\n",
    "        else:\n",
    "            try:\n",
    "                # Tenta converter para datetime se for string ou date\n",
    "                from datetime import datetime\n",
    "                data_str = datetime.strptime(str(dt_receb), \"%Y-%m-%d\").strftime(\"%Y%m%d\")\n",
    "            except Exception:\n",
    "                data_str = str(dt_receb)\n",
    "    else:\n",
    "        data_str = \"semdata\"\n",
    "\n",
    "    nome_arquivo = f\"{tipo}_{cnpj}_{data_str}.pdf\"\n",
    "    caminho_arquivo = os.path.join(DIR_PDFS, nome_arquivo)\n",
    "\n",
    "    print(f\"\\n[{i}/{len(registros)}] Verificando: {nome_arquivo}\")\n",
    "\n",
    "    if os.path.exists(caminho_arquivo):\n",
    "        print(f\"  ↪ Já existe. Ignorado.\")\n",
    "        ignorados += 1\n",
    "    else:\n",
    "        try:\n",
    "            resp = requests.get(link, timeout=60)\n",
    "            if resp.status_code == 200:\n",
    "                with open(caminho_arquivo, \"wb\") as f:\n",
    "                    f.write(resp.content)\n",
    "                print(f\"  ✓ Baixado com sucesso.\")\n",
    "                baixados += 1\n",
    "            else:\n",
    "                print(f\"  ✗ Erro HTTP {resp.status_code}\")\n",
    "                falhas += 1\n",
    "                continue\n",
    "        except Exception as e:\n",
    "            print(f\"  ✗ Erro ao baixar: {e}\")\n",
    "            falhas += 1\n",
    "            continue\n",
    "\n",
    "    try:\n",
    "        with open(caminho_arquivo, \"rb\") as f:\n",
    "            reader = PdfReader(f)\n",
    "            num_paginas = len(reader.pages)\n",
    "\n",
    "        if num_paginas < 3:\n",
    "            destino_curto = os.path.join(DIR_PDFS_CURTO, nome_arquivo)\n",
    "            shutil.move(caminho_arquivo, destino_curto)\n",
    "            print(f\"  ⚠️ PDF com {num_paginas} página(s), movido para arquivos-pdf-curto.\")\n",
    "            curtos += 1\n",
    "\n",
    "    except Exception as e:\n",
    "        print(f\"  ✗ Erro ao ler PDF {nome_arquivo}: {e}\")\n",
    "\n",
    "print(\"\\n========== RESUMO ==========\")\n",
    "print(f\"✓ Novos arquivos baixados: {baixados}\")\n",
    "print(f\"↪ Já existiam e foram ignorados: {ignorados}\")\n",
    "print(f\"✗ Falhas no download: {falhas}\")\n",
    "print(f\"↪ PDFs com menos de 3 páginas movidos para arquivos-pdf-curto: {curtos}\")\n",
    "print(f\"Total processado: {len(registros)}\")\n",
    "print(\"============================\")"
   ]
  },
  {
   "cell_type": "markdown",
   "metadata": {
    "application/vnd.databricks.v1+cell": {
     "cellMetadata": {},
     "inputWidgets": {},
     "nuid": "3b5778f7-efe0-4a05-b552-fb84dc7fa872",
     "showTitle": false,
     "tableResultSettingsMap": {},
     "title": ""
    }
   },
   "source": [
    "Garantindo a transferência de todos os arquivos-pdf-curtos:"
   ]
  },
  {
   "cell_type": "code",
   "execution_count": 0,
   "metadata": {
    "application/vnd.databricks.v1+cell": {
     "cellMetadata": {
      "byteLimit": 2048000,
      "rowLimit": 10000
     },
     "collapsed": true,
     "inputWidgets": {},
     "nuid": "52cad270-0444-4534-a696-cba6cd38ba32",
     "showTitle": false,
     "tableResultSettingsMap": {},
     "title": ""
    }
   },
   "outputs": [],
   "source": [
    "import os\n",
    "import shutil\n",
    "from PyPDF2 import PdfReader\n",
    "\n",
    "DIR_PDFS = \"/Volumes/desafio_kinea/prospecto_fundos/ext-arquivos-prospectos/arquivos-pdf/\"\n",
    "DIR_PDFS_CURTO = \"/Volumes/desafio_kinea/prospecto_fundos/ext-arquivos-prospectos/arquivos-pdf-curtos/\"\n",
    "\n",
    "os.makedirs(DIR_PDFS_CURTO, exist_ok=True)\n",
    "\n",
    "arquivos = [f for f in os.listdir(DIR_PDFS) if f.lower().endswith(\".pdf\")]\n",
    "curtos = 0\n",
    "\n",
    "for nome_arquivo in arquivos:\n",
    "    caminho_arquivo = os.path.join(DIR_PDFS, nome_arquivo)\n",
    "    try:\n",
    "        with open(caminho_arquivo, \"rb\") as f:\n",
    "            reader = PdfReader(f)\n",
    "            num_paginas = len(reader.pages)\n",
    "        if num_paginas < 3:\n",
    "            destino_curto = os.path.join(DIR_PDFS_CURTO, nome_arquivo)\n",
    "            shutil.move(caminho_arquivo, destino_curto)\n",
    "            print(f\"⚠️ PDF {nome_arquivo} com {num_paginas} página(s), movido para arquivos-pdf-curtos.\")\n",
    "            curtos += 1\n",
    "    except Exception as e:\n",
    "        print(f\"✗ Erro ao ler PDF {nome_arquivo}: {e}\")\n",
    "\n",
    "print(f\"Total de PDFs movidos para arquivos-pdf-curtos: {curtos}\")"
   ]
  },
  {
   "cell_type": "markdown",
   "metadata": {
    "application/vnd.databricks.v1+cell": {
     "cellMetadata": {},
     "inputWidgets": {},
     "nuid": "5451f302-2006-49bd-8160-0f05cd4311d0",
     "showTitle": false,
     "tableResultSettingsMap": {},
     "title": ""
    }
   },
   "source": [
    "Excluindo as variáveis duplicadas no diretório pdf-curtos:"
   ]
  },
  {
   "cell_type": "code",
   "execution_count": 0,
   "metadata": {
    "application/vnd.databricks.v1+cell": {
     "cellMetadata": {
      "byteLimit": 2048000,
      "rowLimit": 10000
     },
     "collapsed": true,
     "inputWidgets": {},
     "nuid": "a0872b26-d8c4-4605-b9c8-485281937851",
     "showTitle": false,
     "tableResultSettingsMap": {},
     "title": ""
    }
   },
   "outputs": [],
   "source": [
    "import os\n",
    "from collections import defaultdict\n",
    "\n",
    "dir_curto = \"/Volumes/desafio_kinea/prospecto_fundos/ext-arquivos-prospectos/arquivos-pdf-curtos/\"\n",
    "arquivos = [f for f in os.listdir(dir_curto) if f.lower().endswith(\".pdf\")]\n",
    "\n",
    "# Agrupa arquivos por nome base \n",
    "base_to_files = defaultdict(list)\n",
    "for f in arquivos:\n",
    "    base = f\n",
    "    base_to_files[base].append(f)\n",
    "\n",
    "# Identifica duplicados \n",
    "duplicados = [files for files in base_to_files.values() if len(files) > 1]\n",
    "\n",
    "# Remove duplicados, mantendo apenas um arquivo de cada grupo\n",
    "for files in duplicados:\n",
    "    # Mantém o primeiro, remove os demais\n",
    "    for f in files[1:]:\n",
    "        caminho = os.path.join(dir_curto, f)\n",
    "        try:\n",
    "            os.remove(caminho)\n",
    "        except Exception:\n",
    "            pass"
   ]
  },
  {
   "cell_type": "code",
   "execution_count": 0,
   "metadata": {
    "application/vnd.databricks.v1+cell": {
     "cellMetadata": {
      "byteLimit": 2048000,
      "rowLimit": 10000
     },
     "collapsed": true,
     "inputWidgets": {},
     "nuid": "d4629751-93ec-494a-a5b8-6e3640dabb88",
     "showTitle": false,
     "tableResultSettingsMap": {},
     "title": ""
    }
   },
   "outputs": [],
   "source": [
    "print(spark.read.format(\"binaryFile\").load(\"/Volumes/desafio_kinea/prospecto_fundos/ext-arquivos-prospectos/arquivos-pdf/\").count())\n",
    "\n",
    "print(spark.read.format(\"binaryFile\").load(\"/Volumes/desafio_kinea/prospecto_fundos/ext-arquivos-prospectos/arquivos-pdf-curtos/\").count())"
   ]
  },
  {
   "cell_type": "markdown",
   "metadata": {
    "application/vnd.databricks.v1+cell": {
     "cellMetadata": {},
     "inputWidgets": {},
     "nuid": "c8e9bdf1-267c-4cc9-97fe-4abc8cf54ac4",
     "showTitle": false,
     "tableResultSettingsMap": {},
     "title": ""
    }
   },
   "source": [
    "#### [Extra] Outras Análises:"
   ]
  },
  {
   "cell_type": "markdown",
   "metadata": {
    "application/vnd.databricks.v1+cell": {
     "cellMetadata": {},
     "inputWidgets": {},
     "nuid": "27d95f4b-c913-43bc-8bcf-ac9194658e4e",
     "showTitle": false,
     "tableResultSettingsMap": {},
     "title": ""
    }
   },
   "source": [
    "Tabelando os fundos com prospectos curtos para Marcelle verificar no fundos.net:"
   ]
  },
  {
   "cell_type": "code",
   "execution_count": 0,
   "metadata": {
    "application/vnd.databricks.v1+cell": {
     "cellMetadata": {
      "byteLimit": 2048000,
      "rowLimit": 10000
     },
     "collapsed": true,
     "inputWidgets": {},
     "nuid": "45f5bc89-8048-490f-99ef-5e29724cc3a6",
     "showTitle": false,
     "tableResultSettingsMap": {
      "0": {
       "dataGridStateBlob": "{\"version\":1,\"tableState\":{\"columnPinning\":{\"left\":[\"#row_number#\"],\"right\":[]},\"columnSizing\":{},\"columnVisibility\":{}},\"settings\":{\"columns\":{}},\"syncTimestamp\":1753731063773}",
       "filterBlob": null,
       "queryPlanFiltersBlob": null,
       "tableResultIndex": 0
      }
     },
     "title": ""
    }
   },
   "outputs": [],
   "source": [
    "from pyspark.sql.functions import regexp_extract, reverse, split, col, to_date\n",
    "\n",
    "# Caminho com os PDFs curtos\n",
    "pdf_curto_path = \"/Volumes/desafio_kinea/prospecto_fundos/ext-arquivos-prospectos/arquivos-pdf-curtos/\"\n",
    "\n",
    "# Lê arquivos PDF \n",
    "df_files = spark.read.format(\"binaryFile\") \\\n",
    "    .option(\"pathGlobFilter\", \"*.pdf\") \\\n",
    "    .load(pdf_curto_path)\n",
    "\n",
    "# extrair informações do nome do arquivo\n",
    "regex = r\"([^/_]+)_([0-9]{14})_([0-9]{8})\\.pdf$\"\n",
    "\n",
    "# Extrai apenas o nome do arquivo a partir de _metadata.file_path\n",
    "df_fundos_curto = df_files.withColumn(\n",
    "    \"filename\", reverse(split(col(\"_metadata.file_path\"), \"/\"))[0]\n",
    ").withColumn(\n",
    "    \"tp_fundo\", regexp_extract(\"filename\", regex, 1)\n",
    ").withColumn(\n",
    "    \"cnpj_fundo\", regexp_extract(\"filename\", regex, 2)\n",
    ").withColumn(\n",
    "    \"dt_emissao\", regexp_extract(\"filename\", regex, 3)\n",
    ").withColumn(\n",
    "    \"dt_emissao_data\", to_date(col(\"dt_emissao\"), \"yyyyMMdd\")\n",
    ").select(\"tp_fundo\", \"cnpj_fundo\", \"dt_emissao\", \"dt_emissao_data\", \"filename\")\n",
    "\n",
    "# Salva no Unity Catalog\n",
    "df_fundos_curto.write.mode(\"overwrite\").option(\"mergeSchema\", \"true\").saveAsTable(\"desafio_kinea.prospecto_fundos.fundos_pdf_curtos\")\n",
    "\n",
    "# Visualização\n",
    "display(df_fundos_curto)"
   ]
  },
  {
   "cell_type": "markdown",
   "metadata": {
    "application/vnd.databricks.v1+cell": {
     "cellMetadata": {},
     "inputWidgets": {},
     "nuid": "4f08cfa5-cb27-4e53-954d-007e1870dd76",
     "showTitle": false,
     "tableResultSettingsMap": {},
     "title": ""
    }
   },
   "source": [
    "Identificando quais fundos armazenados no Volume são da Kinea. Comentário: nenhum."
   ]
  },
  {
   "cell_type": "code",
   "execution_count": 0,
   "metadata": {
    "application/vnd.databricks.v1+cell": {
     "cellMetadata": {
      "byteLimit": 2048000,
      "implicitDf": true,
      "rowLimit": 10000
     },
     "collapsed": true,
     "inputWidgets": {},
     "nuid": "efc1d789-d665-4db2-9fd6-b38e56323a46",
     "showTitle": false,
     "tableResultSettingsMap": {},
     "title": ""
    }
   },
   "outputs": [],
   "source": [
    "from pyspark.sql.functions import regexp_extract, regexp_replace, reverse, split\n",
    "\n",
    "# Caminho dos PDFs\n",
    "pdf_path = \"/Volumes/desafio_kinea/prospecto_fundos/ext-arquivos-prospectos/arquivos-pdf/\"\n",
    "\n",
    "# Lê os arquivos PDF e extrai o CNPJ do nome do arquivo\n",
    "df_pdfs = (\n",
    "    spark.read.format(\"binaryFile\").load(pdf_path)\n",
    "    .withColumn(\"file_name\", reverse(split(\"_metadata.file_path\", \"/\"))[0])\n",
    "    .withColumn(\"clean_name\", regexp_replace(\"file_name\", \"[^0-9_]\", \"\"))\n",
    "    .withColumn(\"cnpj_fundo\", regexp_extract(\"clean_name\", \"([0-9]{14})\", 1))\n",
    "    .filter(\"cnpj_fundo IS NOT NULL\")\n",
    "    .select(\"cnpj_fundo\", \"_metadata.file_path\")\n",
    ")\n",
    "\n",
    "# Lê a tabela de cadastro de fundos\n",
    "df_cadastro = spark.table(\"desafio_kinea.prospecto_fundos.cadastro\")\n",
    "\n",
    "# Filtra apenas fundos cuja gestora contém \"KINEA\"\n",
    "df_kinea = (\n",
    "    spark.table(\"desafio_kinea.prospecto_fundos.cadastro\")\n",
    "    .filter(\"upper(gestor) LIKE '%KINEA%'\")\n",
    "    .withColumn(\"cnpj_fundo\", regexp_replace(\"cnpj_fundo\", \"[^0-9]\", \"\"))\n",
    "    .select(\"cnpj_fundo\").distinct()\n",
    ")\n",
    "\n",
    "# Junta os PDFs com os CNPJs dos fundos da Kinea\n",
    "df_pdfs_kinea = df_pdfs.join(df_kinea, on=\"cnpj_fundo\", how=\"inner\")\n",
    "\n",
    "# Exibe os arquivos PDF que pertencem a fundos da Kinea\n",
    "display(df_pdfs_kinea)"
   ]
  },
  {
   "cell_type": "markdown",
   "metadata": {
    "application/vnd.databricks.v1+cell": {
     "cellMetadata": {},
     "inputWidgets": {},
     "nuid": "465a2a52-1101-4b66-a1ce-bf59054071ad",
     "showTitle": false,
     "tableResultSettingsMap": {},
     "title": ""
    }
   },
   "source": [
    "Entendendo quais são os fundos da tabela original que são da kinea. Comentário: apenas 28 e possuem 2 páginas redirecionadoras. "
   ]
  },
  {
   "cell_type": "code",
   "execution_count": 0,
   "metadata": {
    "application/vnd.databricks.v1+cell": {
     "cellMetadata": {
      "byteLimit": 2048000,
      "rowLimit": 10000
     },
     "inputWidgets": {},
     "nuid": "49847a85-1d1b-4781-928f-59816d75a00f",
     "showTitle": false,
     "tableResultSettingsMap": {},
     "title": ""
    }
   },
   "outputs": [],
   "source": [
    "from pyspark.sql.functions import regexp_extract, regexp_replace, reverse, split\n",
    "\n",
    "# Caminho dos PDFs\n",
    "pdf_path = \"/Volumes/desafio_kinea/prospecto_fundos/ext-arquivos-prospectos/arquivos-pdf/\"\n",
    "\n",
    "# Lê os arquivos PDF e extrai o CNPJ do nome do arquivo\n",
    "df_pdfs = spark.table(\"desafio_kinea.prospecto_fundos.regulamento\")\n",
    "\n",
    "# Lê a tabela de cadastro de fundos\n",
    "df_cadastro = spark.table(\"desafio_kinea.prospecto_fundos.cadastro\")\n",
    "\n",
    "# Filtra apenas fundos cuja gestora contém \"KINEA\"\n",
    "df_kinea = (\n",
    "    spark.table(\"desafio_kinea.prospecto_fundos.cadastro\")\n",
    "    .filter(\"upper(gestor) LIKE '%KINEA%'\")\n",
    "    .select(\"cnpj_fundo\").distinct()\n",
    ")\n",
    "\n",
    "# Junta os PDFs com os CNPJs dos fundos da Kinea\n",
    "df_pdfs_kinea = df_pdfs.join(df_kinea, on=\"cnpj_fundo\", how=\"inner\")\n",
    "\n",
    "# Exibe os arquivos PDF que pertencem a fundos da Kinea\n",
    "display(df_pdfs_kinea)"
   ]
  },
  {
   "cell_type": "code",
   "execution_count": 0,
   "metadata": {
    "application/vnd.databricks.v1+cell": {
     "cellMetadata": {
      "byteLimit": 2048000,
      "rowLimit": 10000
     },
     "collapsed": true,
     "inputWidgets": {},
     "nuid": "a2005607-3883-4258-a4c2-500d480d8642",
     "showTitle": false,
     "tableResultSettingsMap": {},
     "title": ""
    }
   },
   "outputs": [],
   "source": [
    "from pyspark.sql.functions import reverse, split\n",
    "\n",
    "# Caminho dos PDFs\n",
    "pdf_path = \"/Volumes/desafio_kinea/prospecto_fundos/ext-arquivos-prospectos/arquivos-pdf/\"\n",
    "\n",
    "# Lê os arquivos PDF e extrai o tipo de prospecto\n",
    "df_tipos = (\n",
    "    spark.read.format(\"binaryFile\").load(pdf_path)\n",
    "    .withColumn(\"file_name\", reverse(split(\"_metadata.file_path\", \"/\"))[0])\n",
    "    .withColumn(\"tipo_prospecto\", split(\"file_name\", \"_\")[0])\n",
    "    .groupBy(\"tipo_prospecto\")\n",
    "    .count()\n",
    "    .orderBy(\"count\", ascending=False)\n",
    ")\n",
    "\n",
    "# Exibe a contagem de tipos\n",
    "display(df_tipos)\n"
   ]
  }
 ],
 "metadata": {
  "application/vnd.databricks.v1+notebook": {
   "computePreferences": null,
   "dashboards": [],
   "environmentMetadata": {
    "base_environment": "",
    "environment_version": "2"
   },
   "inputWidgetPreferences": null,
   "language": "python",
   "notebookMetadata": {
    "mostRecentlyExecutedCommandWithImplicitDF": {
     "commandId": 8529225088939208,
     "dataframes": [
      "_sqldf"
     ]
    },
    "pythonIndentUnit": 4
   },
   "notebookName": "01_extracao_pdf",
   "widgets": {}
  },
  "language_info": {
   "name": "python"
  }
 },
 "nbformat": 4,
 "nbformat_minor": 0
}